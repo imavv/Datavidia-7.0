{
  "nbformat": 4,
  "nbformat_minor": 0,
  "metadata": {
    "kernelspec": {
      "display_name": "Python 3",
      "language": "python",
      "name": "python3"
    },
    "language_info": {
      "codemirror_mode": {
        "name": "ipython",
        "version": 3
      },
      "file_extension": ".py",
      "mimetype": "text/x-python",
      "name": "python",
      "nbconvert_exporter": "python",
      "pygments_lexer": "ipython3",
      "version": "3.8.2"
    },
    "colab": {
      "name": "ELSIX-Notebook.ipynb",
      "provenance": [],
      "collapsed_sections": [
        "08LS6TbirFXY",
        "YiT--EmIrFXi",
        "H0Rgx-4krFXk",
        "fu6GMNXYrFXm",
        "MzqMKXXsrFXq",
        "rMK1In7KrFXq",
        "3EVHEg9AH4AX"
      ],
      "toc_visible": true
    }
  },
  "cells": [
    {
      "cell_type": "code",
      "metadata": {
        "id": "DwHpdHMmxPGw"
      },
      "source": [
        "#clone forked IndoNLU Github\r\n",
        "!git clone 'https://github.com/billiechristian/indonlu'"
      ],
      "execution_count": null,
      "outputs": []
    },
    {
      "cell_type": "code",
      "metadata": {
        "id": "PJP7HqvMxRSD"
      },
      "source": [
        "!pip install transformers"
      ],
      "execution_count": null,
      "outputs": []
    },
    {
      "cell_type": "code",
      "metadata": {
        "id": "EDBOD0oVrFXP",
        "colab": {
          "base_uri": "https://localhost:8080/",
          "height": 363
        },
        "outputId": "0641fa4d-660a-4e8a-da68-b3fa26975c97"
      },
      "source": [
        "import pandas as pd\n",
        "import numpy as np\n",
        "import re\n",
        "import time\n",
        "import timeit\n",
        "from sklearn.model_selection import train_test_split\n",
        "from sklearn.metrics import classification_report as report\n",
        "from sklearn.metrics import confusion_matrix\n",
        "from sklearn.model_selection import KFold, cross_val_score, RepeatedKFold, cross_val_predict\n",
        "from xgboost import XGBClassifier\n",
        "\n",
        "# Viz\n",
        "import matplotlib.pyplot as plt\n",
        "import matplotlib as mpl\n",
        "import matplotlib.gridspec as gridspec\n",
        "import matplotlib.patches as mpatches\n",
        "import plotly.express as px\n",
        "import seaborn as sns\n",
        "from wordcloud import WordCloud\n",
        "from PIL import Image\n",
        "sns.set(style='ticks', palette='Set2')\n",
        "\n",
        "# NLP\n",
        "import nltk\n",
        "from Sastrawi.Stemmer.StemmerFactory import StemmerFactory\n",
        "from Sastrawi.StopWordRemover.StopWordRemoverFactory import StopWordRemoverFactory\n",
        "nltk.download('stopwords')\n",
        "from nltk.corpus import stopwords\n",
        "from nltk.probability import FreqDist\n",
        "from nltk.tokenize import word_tokenize\n",
        "from nltk.tag import pos_tag\n",
        "import emoji\n",
        "\n",
        "#Model IndoBERT\n",
        "import random\n",
        "import torch\n",
        "from torch import optim\n",
        "import torch.nn.functional as F\n",
        "from tqdm import tqdm\n",
        "\n",
        "from transformers import BertForSequenceClassification, BertConfig, BertTokenizer\n",
        "from indonlu.utils.forward_fn import forward_sequence_classification\n",
        "from indonlu.utils.metrics import document_sentiment_metrics_fn\n",
        "from indonlu.utils.data_utils import DocumentSentimentDataset, DocumentSentimentDataLoader"
      ],
      "execution_count": null,
      "outputs": [
        {
          "output_type": "error",
          "ename": "ModuleNotFoundError",
          "evalue": "ignored",
          "traceback": [
            "\u001b[0;31m---------------------------------------------------------------------------\u001b[0m",
            "\u001b[0;31mModuleNotFoundError\u001b[0m                       Traceback (most recent call last)",
            "\u001b[0;32m<ipython-input-3-d7f5b085c84c>\u001b[0m in \u001b[0;36m<module>\u001b[0;34m()\u001b[0m\n\u001b[1;32m     18\u001b[0m \u001b[0;31m# NLP\u001b[0m\u001b[0;34m\u001b[0m\u001b[0;34m\u001b[0m\u001b[0;34m\u001b[0m\u001b[0m\n\u001b[1;32m     19\u001b[0m \u001b[0;32mimport\u001b[0m \u001b[0mnltk\u001b[0m\u001b[0;34m\u001b[0m\u001b[0;34m\u001b[0m\u001b[0m\n\u001b[0;32m---> 20\u001b[0;31m \u001b[0;32mfrom\u001b[0m \u001b[0mSastrawi\u001b[0m\u001b[0;34m.\u001b[0m\u001b[0mStemmer\u001b[0m\u001b[0;34m.\u001b[0m\u001b[0mStemmerFactory\u001b[0m \u001b[0;32mimport\u001b[0m \u001b[0mStemmerFactory\u001b[0m\u001b[0;34m\u001b[0m\u001b[0;34m\u001b[0m\u001b[0m\n\u001b[0m\u001b[1;32m     21\u001b[0m \u001b[0;32mfrom\u001b[0m \u001b[0mSastrawi\u001b[0m\u001b[0;34m.\u001b[0m\u001b[0mStopWordRemover\u001b[0m\u001b[0;34m.\u001b[0m\u001b[0mStopWordRemoverFactory\u001b[0m \u001b[0;32mimport\u001b[0m \u001b[0mStopWordRemoverFactory\u001b[0m\u001b[0;34m\u001b[0m\u001b[0;34m\u001b[0m\u001b[0m\n\u001b[1;32m     22\u001b[0m \u001b[0mnltk\u001b[0m\u001b[0;34m.\u001b[0m\u001b[0mdownload\u001b[0m\u001b[0;34m(\u001b[0m\u001b[0;34m'stopwords'\u001b[0m\u001b[0;34m)\u001b[0m\u001b[0;34m\u001b[0m\u001b[0;34m\u001b[0m\u001b[0m\n",
            "\u001b[0;31mModuleNotFoundError\u001b[0m: No module named 'Sastrawi'",
            "",
            "\u001b[0;31m---------------------------------------------------------------------------\u001b[0;32m\nNOTE: If your import is failing due to a missing package, you can\nmanually install dependencies using either !pip or !apt.\n\nTo view examples of installing some common dependencies, click the\n\"Open Examples\" button below.\n\u001b[0;31m---------------------------------------------------------------------------\u001b[0m\n"
          ]
        }
      ]
    },
    {
      "cell_type": "markdown",
      "metadata": {
        "id": "08LS6TbirFXY"
      },
      "source": [
        "# Exploratory Data Analysis"
      ]
    },
    {
      "cell_type": "code",
      "metadata": {
        "id": "HIw9utfdrFXZ"
      },
      "source": [
        "# Import data\n",
        "train = pd.read_csv('train.csv')\n",
        "test = pd.read_csv('test.csv')"
      ],
      "execution_count": null,
      "outputs": []
    },
    {
      "cell_type": "code",
      "metadata": {
        "id": "45VVsbP4rFXZ",
        "colab": {
          "base_uri": "https://localhost:8080/",
          "height": 374
        },
        "outputId": "1076ba47-b570-49a4-ddfb-d73f357061b7"
      },
      "source": [
        "display(train.head(), test.head())"
      ],
      "execution_count": null,
      "outputs": [
        {
          "output_type": "display_data",
          "data": {
            "text/html": [
              "<div>\n",
              "<style scoped>\n",
              "    .dataframe tbody tr th:only-of-type {\n",
              "        vertical-align: middle;\n",
              "    }\n",
              "\n",
              "    .dataframe tbody tr th {\n",
              "        vertical-align: top;\n",
              "    }\n",
              "\n",
              "    .dataframe thead th {\n",
              "        text-align: right;\n",
              "    }\n",
              "</style>\n",
              "<table border=\"1\" class=\"dataframe\">\n",
              "  <thead>\n",
              "    <tr style=\"text-align: right;\">\n",
              "      <th></th>\n",
              "      <th>review_id</th>\n",
              "      <th>review_text</th>\n",
              "      <th>category</th>\n",
              "    </tr>\n",
              "  </thead>\n",
              "  <tbody>\n",
              "    <tr>\n",
              "      <th>0</th>\n",
              "      <td>0fc651bfdd38a3b4ba19ef9d0d1e92e3</td>\n",
              "      <td>Penginapannya rapi, bersih, suasana tenang, pe...</td>\n",
              "      <td>1</td>\n",
              "    </tr>\n",
              "    <tr>\n",
              "      <th>1</th>\n",
              "      <td>7d8cb2e465c5602e51c1ba8710e8ff16</td>\n",
              "      <td>wifi tidak sampai kamar, tidak tersedia heater...</td>\n",
              "      <td>0</td>\n",
              "    </tr>\n",
              "    <tr>\n",
              "      <th>2</th>\n",
              "      <td>1f4447c73e5e1aac462d05b0ecbd5a55</td>\n",
              "      <td>Lantai kamar mandi kotor, bau, dan seperti sdh...</td>\n",
              "      <td>0</td>\n",
              "    </tr>\n",
              "    <tr>\n",
              "      <th>3</th>\n",
              "      <td>b9aefbfb0debbfff43f8b268c82b43c0</td>\n",
              "      <td>Wc jorok.. Kasur tidak dibersihkan,, handuk ti...</td>\n",
              "      <td>0</td>\n",
              "    </tr>\n",
              "    <tr>\n",
              "      <th>4</th>\n",
              "      <td>e2afef18bd695fae43d4d53b8c547bd4</td>\n",
              "      <td>bocor lagi</td>\n",
              "      <td>0</td>\n",
              "    </tr>\n",
              "  </tbody>\n",
              "</table>\n",
              "</div>"
            ],
            "text/plain": [
              "                          review_id  ... category\n",
              "0  0fc651bfdd38a3b4ba19ef9d0d1e92e3  ...        1\n",
              "1  7d8cb2e465c5602e51c1ba8710e8ff16  ...        0\n",
              "2  1f4447c73e5e1aac462d05b0ecbd5a55  ...        0\n",
              "3  b9aefbfb0debbfff43f8b268c82b43c0  ...        0\n",
              "4  e2afef18bd695fae43d4d53b8c547bd4  ...        0\n",
              "\n",
              "[5 rows x 3 columns]"
            ]
          },
          "metadata": {
            "tags": []
          }
        },
        {
          "output_type": "display_data",
          "data": {
            "text/html": [
              "<div>\n",
              "<style scoped>\n",
              "    .dataframe tbody tr th:only-of-type {\n",
              "        vertical-align: middle;\n",
              "    }\n",
              "\n",
              "    .dataframe tbody tr th {\n",
              "        vertical-align: top;\n",
              "    }\n",
              "\n",
              "    .dataframe thead th {\n",
              "        text-align: right;\n",
              "    }\n",
              "</style>\n",
              "<table border=\"1\" class=\"dataframe\">\n",
              "  <thead>\n",
              "    <tr style=\"text-align: right;\">\n",
              "      <th></th>\n",
              "      <th>review_id</th>\n",
              "      <th>review_text</th>\n",
              "    </tr>\n",
              "  </thead>\n",
              "  <tbody>\n",
              "    <tr>\n",
              "      <th>0</th>\n",
              "      <td>7302180ac7160f04a405d8aa7bd6beb8</td>\n",
              "      <td>Kasur rusak, punggung saya sakit, kasurnya ga ...</td>\n",
              "    </tr>\n",
              "    <tr>\n",
              "      <th>1</th>\n",
              "      <td>3184c670e170f565c7522eb76a320ba1</td>\n",
              "      <td>gerah</td>\n",
              "    </tr>\n",
              "    <tr>\n",
              "      <th>2</th>\n",
              "      <td>e33abf6bb5d5a9a77c339043b1725dc8</td>\n",
              "      <td>tempat ridur atas bawah.. ac nya pararel, tdk ...</td>\n",
              "    </tr>\n",
              "    <tr>\n",
              "      <th>3</th>\n",
              "      <td>061d388950340070a6ac03fabc9027b0</td>\n",
              "      <td>ac kurang dingin, tidak ada snack sperti di foto</td>\n",
              "    </tr>\n",
              "    <tr>\n",
              "      <th>4</th>\n",
              "      <td>e62d87c348674b6c06856964f3ab16b8</td>\n",
              "      <td>Lumayan untuk guest house dengan standart harg...</td>\n",
              "    </tr>\n",
              "  </tbody>\n",
              "</table>\n",
              "</div>"
            ],
            "text/plain": [
              "                          review_id                                        review_text\n",
              "0  7302180ac7160f04a405d8aa7bd6beb8  Kasur rusak, punggung saya sakit, kasurnya ga ...\n",
              "1  3184c670e170f565c7522eb76a320ba1                                              gerah\n",
              "2  e33abf6bb5d5a9a77c339043b1725dc8  tempat ridur atas bawah.. ac nya pararel, tdk ...\n",
              "3  061d388950340070a6ac03fabc9027b0   ac kurang dingin, tidak ada snack sperti di foto\n",
              "4  e62d87c348674b6c06856964f3ab16b8  Lumayan untuk guest house dengan standart harg..."
            ]
          },
          "metadata": {
            "tags": []
          }
        }
      ]
    },
    {
      "cell_type": "code",
      "metadata": {
        "id": "7kj4-LbjrFXa",
        "outputId": "65567a0b-3f47-461e-8551-90635d1d01fe"
      },
      "source": [
        "print(f'Train shape: {train.shape}')\n",
        "print(f'Test shape: {test.shape}')"
      ],
      "execution_count": null,
      "outputs": [
        {
          "output_type": "stream",
          "text": [
            "Train shape: (14856, 3)\n",
            "Test shape: (3714, 2)\n"
          ],
          "name": "stdout"
        }
      ]
    },
    {
      "cell_type": "code",
      "metadata": {
        "id": "Y985F4oHrFXa",
        "outputId": "b57ca85a-8bd4-421e-9bee-7468f3f9a284"
      },
      "source": [
        "train.info()"
      ],
      "execution_count": null,
      "outputs": [
        {
          "output_type": "stream",
          "text": [
            "<class 'pandas.core.frame.DataFrame'>\n",
            "RangeIndex: 14856 entries, 0 to 14855\n",
            "Data columns (total 3 columns):\n",
            " #   Column       Non-Null Count  Dtype \n",
            "---  ------       --------------  ----- \n",
            " 0   review_id    14856 non-null  object\n",
            " 1   review_text  14856 non-null  object\n",
            " 2   category     14856 non-null  int64 \n",
            "dtypes: int64(1), object(2)\n",
            "memory usage: 348.3+ KB\n"
          ],
          "name": "stdout"
        }
      ]
    },
    {
      "cell_type": "code",
      "metadata": {
        "scrolled": true,
        "id": "U6OWaPtJrFXb",
        "outputId": "aba0d4b8-ac19-4e81-d411-8efd175d0b0d"
      },
      "source": [
        "test.info()"
      ],
      "execution_count": null,
      "outputs": [
        {
          "output_type": "stream",
          "text": [
            "<class 'pandas.core.frame.DataFrame'>\n",
            "RangeIndex: 3714 entries, 0 to 3713\n",
            "Data columns (total 2 columns):\n",
            " #   Column       Non-Null Count  Dtype \n",
            "---  ------       --------------  ----- \n",
            " 0   review_id    3714 non-null   object\n",
            " 1   review_text  3714 non-null   object\n",
            "dtypes: object(2)\n",
            "memory usage: 58.2+ KB\n"
          ],
          "name": "stdout"
        }
      ]
    },
    {
      "cell_type": "markdown",
      "metadata": {
        "id": "va6dbmj7rFXb"
      },
      "source": [
        "## Overview"
      ]
    },
    {
      "cell_type": "markdown",
      "metadata": {
        "id": "y9fD6cybrFXc"
      },
      "source": [
        "<font size=\"3\">Pada bagian ini, akan dilihat sekilas komposisi dari data ulasan dengan melakukan men-sample secara random baris-baris pada dataset train.</font>"
      ]
    },
    {
      "cell_type": "code",
      "metadata": {
        "id": "iaIS7wnerFXc"
      },
      "source": [
        "nrows = len(train)\n",
        "sample_size = 0.01 # 10% of all data"
      ],
      "execution_count": null,
      "outputs": []
    },
    {
      "cell_type": "code",
      "metadata": {
        "id": "Hm9j6P0irFXc"
      },
      "source": [
        "# Generate random indexes\n",
        "indexes = np.random.randint(0,len(train),size=int(nrows*sample_size))"
      ],
      "execution_count": null,
      "outputs": []
    },
    {
      "cell_type": "code",
      "metadata": {
        "id": "4H9eFo3RrFXc",
        "outputId": "fc533461-fe9a-4afc-8236-f1fcf9f0d349"
      },
      "source": [
        "# Mengubah setting display\n",
        "pd.set_option('display.max_rows',None) # Display all rows\n",
        "pd.set_option('display.max_colwidth',None) # Display all text\n",
        "\n",
        "# Display sample text\n",
        "train[['review_text','category']].loc[indexes,:]"
      ],
      "execution_count": null,
      "outputs": [
        {
          "output_type": "execute_result",
          "data": {
            "text/html": [
              "<div>\n",
              "<style scoped>\n",
              "    .dataframe tbody tr th:only-of-type {\n",
              "        vertical-align: middle;\n",
              "    }\n",
              "\n",
              "    .dataframe tbody tr th {\n",
              "        vertical-align: top;\n",
              "    }\n",
              "\n",
              "    .dataframe thead th {\n",
              "        text-align: right;\n",
              "    }\n",
              "</style>\n",
              "<table border=\"1\" class=\"dataframe\">\n",
              "  <thead>\n",
              "    <tr style=\"text-align: right;\">\n",
              "      <th></th>\n",
              "      <th>review_text</th>\n",
              "      <th>category</th>\n",
              "    </tr>\n",
              "  </thead>\n",
              "  <tbody>\n",
              "    <tr>\n",
              "      <th>8596</th>\n",
              "      <td>so far kamar bagus. tapi untuk handuk keduanya sangat bau . tdk d ganti spertinya. sdh d komplain tdk ad tnggapan</td>\n",
              "      <td>0</td>\n",
              "    </tr>\n",
              "    <tr>\n",
              "      <th>5148</th>\n",
              "      <td>Listrik sering mati</td>\n",
              "      <td>0</td>\n",
              "    </tr>\n",
              "    <tr>\n",
              "      <th>942</th>\n",
              "      <td>Sangat nyaman, bersih dan pelayanan ramah.</td>\n",
              "      <td>1</td>\n",
              "    </tr>\n",
              "    <tr>\n",
              "      <th>12577</th>\n",
              "      <td>Tidak ada nuansa airy room nya seperti tempat lain, air minum gelas bukan botol.\\nPerlengkapan mandi dan makanan harus diminta. Tidak di ingatkan sarapan.\\nPelayanan sangat jelek. Thanks\\n</td>\n",
              "      <td>0</td>\n",
              "    </tr>\n",
              "    <tr>\n",
              "      <th>2365</th>\n",
              "      <td>pelayanan kurang ramah\\n</td>\n",
              "      <td>0</td>\n",
              "    </tr>\n",
              "    <tr>\n",
              "      <th>3802</th>\n",
              "      <td>snack terlambat, tidak ada wifi, tv channel lokal semua.</td>\n",
              "      <td>0</td>\n",
              "    </tr>\n",
              "    <tr>\n",
              "      <th>7873</th>\n",
              "      <td>kamarnya bagus.. tapi ga ada perlengkapan airy, ga ada air minum, ga ada tissue, ac-nya ga dingin, airnya kecil, acara TV nya ga ada.. remotenya rusak.. ga ada staf standby.\\nuntuk yg ini cukup kecewa..</td>\n",
              "      <td>0</td>\n",
              "    </tr>\n",
              "    <tr>\n",
              "      <th>9002</th>\n",
              "      <td>jalannya susah, masuk2 kampung</td>\n",
              "      <td>0</td>\n",
              "    </tr>\n",
              "    <tr>\n",
              "      <th>3959</th>\n",
              "      <td>b aja ah</td>\n",
              "      <td>0</td>\n",
              "    </tr>\n",
              "    <tr>\n",
              "      <th>13743</th>\n",
              "      <td>air nya bau karat terus rasanya asin.\\nsikat gigi jadinya pake air aqua dah</td>\n",
              "      <td>0</td>\n",
              "    </tr>\n",
              "    <tr>\n",
              "      <th>4975</th>\n",
              "      <td>tidak ada fasilitas airy nya</td>\n",
              "      <td>0</td>\n",
              "    </tr>\n",
              "    <tr>\n",
              "      <th>13837</th>\n",
              "      <td>air di kamar mandi asin. remot AC nya susah bgt di pencet. 2 hari nginep disitu, 2 hari ada kecoa pula di kamar.. selimut nya cuma 1 dan kurang lebar utk ukuran kamar 2 orang..</td>\n",
              "      <td>0</td>\n",
              "    </tr>\n",
              "    <tr>\n",
              "      <th>9309</th>\n",
              "      <td>Hiksssss kurang nyaman tempatnya</td>\n",
              "      <td>0</td>\n",
              "    </tr>\n",
              "    <tr>\n",
              "      <th>2612</th>\n",
              "      <td>Pas banget murah, cocok sama kamu kantong mahasiswa hehe kamarnya juga bersih rapi, tapi disaat check-in ada kebijakan hotelnya untuk deposit sebanyak 200 ribu, untung bawa duit cashnya lebih, coba kalau tidak bawa cash lebih kan repot musti ke atm dulu, karena tidak dikasih info lebih dulu ke pemesan sebelum check-in ada deposit, hanya itu saja si repotnya, tenang aman kok uang depositnya nanti bisa diambil kembali pada saat check-out.</td>\n",
              "      <td>1</td>\n",
              "    </tr>\n",
              "    <tr>\n",
              "      <th>10620</th>\n",
              "      <td>kotak snack nggk diisi...</td>\n",
              "      <td>0</td>\n",
              "    </tr>\n",
              "    <tr>\n",
              "      <th>6377</th>\n",
              "      <td>Kami mendapatkan kamar dilantai 3 namum pada saat kami datang tak ada seorangpun petugas  yang membantu kami untuk mengantarkan dan membawa barang  sedangkan kami juga membawa anak kecil. Kami juga mengalami air yang tidak berfungsi saat sedang mandi.  Untuk konsumsi sarapan, varian dan rasanya mohon ditingkatkan kembali. Terimakasih</td>\n",
              "      <td>0</td>\n",
              "    </tr>\n",
              "    <tr>\n",
              "      <th>5894</th>\n",
              "      <td>kamar banjir krn hujan angin.sanitasi kurang bagus krn air mandi tidak langsung mengalir keluar.banyak nyamuk.lantai seperti tidak disapu.kursi didalam tidak ada.kabel telpon terputus.snack tidak tersedia didalam kamar.saya mendapatkan kamar nomer 129.</td>\n",
              "      <td>0</td>\n",
              "    </tr>\n",
              "    <tr>\n",
              "      <th>11321</th>\n",
              "      <td>Colokan listrik jauh dari tempat tidur. \\nPenyajian makanan gk niat</td>\n",
              "      <td>0</td>\n",
              "    </tr>\n",
              "    <tr>\n",
              "      <th>14629</th>\n",
              "      <td>cukup nyaman sesuai dengan budget</td>\n",
              "      <td>1</td>\n",
              "    </tr>\n",
              "    <tr>\n",
              "      <th>79</th>\n",
              "      <td>air untuk mandi nya tidak bagus karena asin, pintu kamar mandi nya rusak, AC nya tidak dingin</td>\n",
              "      <td>0</td>\n",
              "    </tr>\n",
              "    <tr>\n",
              "      <th>5315</th>\n",
              "      <td>banyak \\npara pengunjung yg  berpenampilan kurang sopan..anak2 pada takut...</td>\n",
              "      <td>0</td>\n",
              "    </tr>\n",
              "    <tr>\n",
              "      <th>6760</th>\n",
              "      <td>Tidak ada lap kaki di depan toilet jadi becek sekali ,kamar mandinya bau dan pintu kamar mandinya rusak</td>\n",
              "      <td>0</td>\n",
              "    </tr>\n",
              "    <tr>\n",
              "      <th>1707</th>\n",
              "      <td>kamar sesuai dengan foto, ac ok, air kamar mandi ok, cs 24 jam, harga ekonomis hanya kurang plastik sampah</td>\n",
              "      <td>1</td>\n",
              "    </tr>\n",
              "    <tr>\n",
              "      <th>5314</th>\n",
              "      <td>Pelayanan memuaskan, tempat dekat dengan bandara</td>\n",
              "      <td>1</td>\n",
              "    </tr>\n",
              "    <tr>\n",
              "      <th>6731</th>\n",
              "      <td>sangat kecewa !!</td>\n",
              "      <td>0</td>\n",
              "    </tr>\n",
              "    <tr>\n",
              "      <th>13626</th>\n",
              "      <td>Tempat nyaman, bersih, dan menyalurkan bakat memasak karena ada dapurnya.</td>\n",
              "      <td>1</td>\n",
              "    </tr>\n",
              "    <tr>\n",
              "      <th>1364</th>\n",
              "      <td>no smoking area</td>\n",
              "      <td>0</td>\n",
              "    </tr>\n",
              "    <tr>\n",
              "      <th>12648</th>\n",
              "      <td>kamar lembab bau jamur / rokok atau apek lah saya ga ngerti pokoknya bau\\n\\nkasurnya jg cekung jd ga rata gt. bagian tengah kasur masuk ke dlm gt. jd klo tdr bikin pusing</td>\n",
              "      <td>0</td>\n",
              "    </tr>\n",
              "    <tr>\n",
              "      <th>7980</th>\n",
              "      <td>alternative yang bagus untuk transit. harga murah pelayanan oke kebersihan lumayan</td>\n",
              "      <td>1</td>\n",
              "    </tr>\n",
              "    <tr>\n",
              "      <th>11789</th>\n",
              "      <td>hotelnya nyaman..bersih.. dan bapak ibunya ramah sekali.. dekat tempat makan juga..</td>\n",
              "      <td>1</td>\n",
              "    </tr>\n",
              "    <tr>\n",
              "      <th>1675</th>\n",
              "      <td>Pegawainya kurang ramah</td>\n",
              "      <td>0</td>\n",
              "    </tr>\n",
              "    <tr>\n",
              "      <th>9032</th>\n",
              "      <td>this is my second trip and I get dissapointed, the bathroom looks dirty and I can't get hot water for my morning tea :(</td>\n",
              "      <td>0</td>\n",
              "    </tr>\n",
              "    <tr>\n",
              "      <th>2057</th>\n",
              "      <td>kotor..\\nair panas tdk berfungsi\\n</td>\n",
              "      <td>0</td>\n",
              "    </tr>\n",
              "    <tr>\n",
              "      <th>711</th>\n",
              "      <td>sudah bagus sih, cmn spring bed nya tdk empuk padahal itu kamer superior bkn standar, dan wifinya jg kurang kuat sinyalnya</td>\n",
              "      <td>0</td>\n",
              "    </tr>\n",
              "    <tr>\n",
              "      <th>4256</th>\n",
              "      <td>Tangga utk naik k kamar lt 2 kecil dan tinggi jarak per tanggany, tdk cocok kl bw org tua ato anak k</td>\n",
              "      <td>1</td>\n",
              "    </tr>\n",
              "    <tr>\n",
              "      <th>1128</th>\n",
              "      <td>tempatnya tidak sesuai dengan foto, lampu toilet tiba2 mati, anduk yang disediakan untuk 2 orang hanya 1  fasilitas disekitar hotel ga ada apa-apa, nyamukk banyakkk banyakkk bangett, plusnya cuma ruangnya lumayan legaan dikit. ga recommend .</td>\n",
              "      <td>0</td>\n",
              "    </tr>\n",
              "    <tr>\n",
              "      <th>12291</th>\n",
              "      <td>pelayanan dengan tamu perlu ditingkatkan</td>\n",
              "      <td>0</td>\n",
              "    </tr>\n",
              "    <tr>\n",
              "      <th>9386</th>\n",
              "      <td>Kamar terlihat tua</td>\n",
              "      <td>0</td>\n",
              "    </tr>\n",
              "    <tr>\n",
              "      <th>12061</th>\n",
              "      <td>pas masuk kamarnya kotor, ada sampah bekas Snack di atas meja dekat tempat tidur. lantainya juga ngeres seperti tidak di sapu 😭</td>\n",
              "      <td>0</td>\n",
              "    </tr>\n",
              "    <tr>\n",
              "      <th>9582</th>\n",
              "      <td>AC tidak dingin....tidak tersedia selimut</td>\n",
              "      <td>0</td>\n",
              "    </tr>\n",
              "    <tr>\n",
              "      <th>14060</th>\n",
              "      <td>3 Kali cek in, air panasnya tidak pernah berfungsi</td>\n",
              "      <td>0</td>\n",
              "    </tr>\n",
              "    <tr>\n",
              "      <th>3445</th>\n",
              "      <td>bagus bersih wifi lemot anduk bau itu saja yg d benahi selebihnya nyaman saja</td>\n",
              "      <td>1</td>\n",
              "    </tr>\n",
              "    <tr>\n",
              "      <th>9473</th>\n",
              "      <td>resepsionis yg laki-laki jutek, oke kita memang order via airy dan kebetulan pake promo, tapi setidaknya samakan perlakuan antara kami dan tamu reguler.\\ntidak profesional, cukup kecewa menginap disana walaupun cuma semalam.\\ndan sekali lagi jangan anggap remeh tamu yg menginap, kami kecewa.\\nsemoga lebih baik lagi kedepannya dalam memperlakukan tamu.</td>\n",
              "      <td>0</td>\n",
              "    </tr>\n",
              "    <tr>\n",
              "      <th>2831</th>\n",
              "      <td>Shower rusak.</td>\n",
              "      <td>0</td>\n",
              "    </tr>\n",
              "    <tr>\n",
              "      <th>12237</th>\n",
              "      <td>kebersihan ruangan, keteparan pesanan (pesan double diberikan twin)</td>\n",
              "      <td>0</td>\n",
              "    </tr>\n",
              "    <tr>\n",
              "      <th>5589</th>\n",
              "      <td>air untuk mandi ada penghangatnya, tapi airnya sangat bau..jadi saya jadi kurang nyaman</td>\n",
              "      <td>1</td>\n",
              "    </tr>\n",
              "    <tr>\n",
              "      <th>774</th>\n",
              "      <td>Untuk tempat lumayan nyaman, tapi sayangnya bnyak nyamuk dr ditoilet sehingga masuk ke kamar jg bnyk nyamuk, remot AC nya suka ga berfungsi dgn baik.. Saya menginap 3 hari 3 malam tp kamarnya cuma dirapihin tpt tidur nya saja, padahal brharap jg agar lantainya bisa disapu.. petugasnya cukup ramah,semoga kedepannya bisa lebih baik lg, Trims Airy :)</td>\n",
              "      <td>0</td>\n",
              "    </tr>\n",
              "    <tr>\n",
              "      <th>958</th>\n",
              "      <td>Acnya bocor</td>\n",
              "      <td>0</td>\n",
              "    </tr>\n",
              "    <tr>\n",
              "      <th>6408</th>\n",
              "      <td>Snack nya gada gak asik akh gak kaya airy yg lain</td>\n",
              "      <td>0</td>\n",
              "    </tr>\n",
              "    <tr>\n",
              "      <th>12465</th>\n",
              "      <td>kamar kurang bersih, bau asap rokok, selimut n bantal bau keringat penginap sebelum kami. Agar lebih diperhatikan kebersihan n kepuasan pelanggan. tks</td>\n",
              "      <td>0</td>\n",
              "    </tr>\n",
              "    <tr>\n",
              "      <th>10155</th>\n",
              "      <td>keadaan kamar hotel kurang prima.seperti kasur/springbed tdk nyaman.pernya sdh lemah.kunci pintu tdk diperbaiki.rusak .air panas showernya air keluarnya kecil.kolam renangnya airnya kotor.</td>\n",
              "      <td>0</td>\n",
              "    </tr>\n",
              "    <tr>\n",
              "      <th>7067</th>\n",
              "      <td>air kotor dan berbau, depan kamar (masih dalam hotel) baunya ikan busuk. bad hotel</td>\n",
              "      <td>0</td>\n",
              "    </tr>\n",
              "    <tr>\n",
              "      <th>11018</th>\n",
              "      <td>panassssss engap ac nya gak asik</td>\n",
              "      <td>0</td>\n",
              "    </tr>\n",
              "    <tr>\n",
              "      <th>14721</th>\n",
              "      <td>baik, mantap dekat kemana2 dan mudah, syg Wifinya ga berfungsi</td>\n",
              "      <td>1</td>\n",
              "    </tr>\n",
              "    <tr>\n",
              "      <th>305</th>\n",
              "      <td>Although we only stayed 1 night but overall we were satisfied with the facilities and service at thi</td>\n",
              "      <td>1</td>\n",
              "    </tr>\n",
              "    <tr>\n",
              "      <th>11258</th>\n",
              "      <td>Kecewa tidak ada air panas, tidak bisa mandi malam. Tidak ada pemberitahuan atau permintaan maaf sebelumnya baik dari resepsionis maupun housekeeping bahwa water heater sedang rusak. Skor buruk deh.</td>\n",
              "      <td>0</td>\n",
              "    </tr>\n",
              "    <tr>\n",
              "      <th>9591</th>\n",
              "      <td>Kamar kotor seperti tidak pernah dibersihkan, seprei tidak diganti, kamar mandi wastafelnya bocor lampu sangat redup tembok berkarat sampai berearna hitam, air panas tidak nyala, tv gambarnya buram. Hotel seperti tidak terawat padahal di foto terlihat bagus tapi ternyata hanya gambar saja. Mohon segera ditingkatkan kualitasnya</td>\n",
              "      <td>0</td>\n",
              "    </tr>\n",
              "    <tr>\n",
              "      <th>6281</th>\n",
              "      <td>Saya pesan kamar dgn double bed tapi dapatnya twin bed.</td>\n",
              "      <td>0</td>\n",
              "    </tr>\n",
              "    <tr>\n",
              "      <th>5111</th>\n",
              "      <td>kecewa krn pelayanannya kurang baik ,saya komplen  karna sprei dan selimut kotor tapi tdk ditanggapi.</td>\n",
              "      <td>0</td>\n",
              "    </tr>\n",
              "    <tr>\n",
              "      <th>14611</th>\n",
              "      <td>untuk ac nya licking..siaran tv lokal tidak dapat semua\\n</td>\n",
              "      <td>0</td>\n",
              "    </tr>\n",
              "    <tr>\n",
              "      <th>14721</th>\n",
              "      <td>baik, mantap dekat kemana2 dan mudah, syg Wifinya ga berfungsi</td>\n",
              "      <td>1</td>\n",
              "    </tr>\n",
              "    <tr>\n",
              "      <th>4571</th>\n",
              "      <td>lumayan...\\nbutuh renovasi</td>\n",
              "      <td>0</td>\n",
              "    </tr>\n",
              "    <tr>\n",
              "      <th>12112</th>\n",
              "      <td>Saat check in tepat waktu ternyata kamar sy belum disediakan. Terlebih fasilitas kamar kurang memuaskan. Pintu wc tidak dpt dikunci jd ga rapat, flush wc ga berfungsi, dan selimut kurang bersih.</td>\n",
              "      <td>0</td>\n",
              "    </tr>\n",
              "    <tr>\n",
              "      <th>7446</th>\n",
              "      <td>kamar serem, kotor gak sesuai di gambar..\\nhanduk pun sobek\\ngabakal balik kesini lagi. makasih</td>\n",
              "      <td>0</td>\n",
              "    </tr>\n",
              "    <tr>\n",
              "      <th>13837</th>\n",
              "      <td>air di kamar mandi asin. remot AC nya susah bgt di pencet. 2 hari nginep disitu, 2 hari ada kecoa pula di kamar.. selimut nya cuma 1 dan kurang lebar utk ukuran kamar 2 orang..</td>\n",
              "      <td>0</td>\n",
              "    </tr>\n",
              "    <tr>\n",
              "      <th>772</th>\n",
              "      <td>excellent place,near from my business travel</td>\n",
              "      <td>1</td>\n",
              "    </tr>\n",
              "    <tr>\n",
              "      <th>10326</th>\n",
              "      <td>Gaada anduk,kasurnya juga kotor msh banyak debunya</td>\n",
              "      <td>0</td>\n",
              "    </tr>\n",
              "    <tr>\n",
              "      <th>14118</th>\n",
              "      <td>staff oke ramah , cuma saya pesan kamar double ,tapi stoknya bilang habis , dan saya mau ga mau dikasih yang single , itu aja overal oke</td>\n",
              "      <td>0</td>\n",
              "    </tr>\n",
              "    <tr>\n",
              "      <th>8852</th>\n",
              "      <td>waktu check in sulit . karena dateng jam 12 malem .karena saya biasa dateng ke airyrooms pasti diatas jam 10 malam . gak ada gantungan baju padahal lemari berdebu . saya masuk jam 12 malam . handuk masih basah dan bau bekas orang tanpa di cuci . hampir tiap bulan saya make airy rooms tapi baru kali ini kecewa . tolong di tingkatkan lagi</td>\n",
              "      <td>0</td>\n",
              "    </tr>\n",
              "    <tr>\n",
              "      <th>8418</th>\n",
              "      <td>saat mau checkin, tidak ada petugas yang standby disana, jadi saya terlantar diluar rumah. saat checkin, ternyata kamarnya penuh, dan dipindah di rumah lain, dan kualitasnya menurut saya lebih menurun, seperti luas kamar, kebersihan, fasilitas air panas tidak ada, tetapi suasana lebih tenang. Mohon diperbaiki, terima kasih</td>\n",
              "      <td>0</td>\n",
              "    </tr>\n",
              "    <tr>\n",
              "      <th>4967</th>\n",
              "      <td>membutuhkan deposit yg besar melebihi harga kamarnya. kualitas sinyal ponsel di dalam gedung sangat buruk. wifi tidak stabil.</td>\n",
              "      <td>0</td>\n",
              "    </tr>\n",
              "    <tr>\n",
              "      <th>14725</th>\n",
              "      <td>kamarny dan kaamar mandi gede tp syg sepreiny kurang bersih,airny pas datang msih kosong,lobi nya tidak terawat</td>\n",
              "      <td>0</td>\n",
              "    </tr>\n",
              "    <tr>\n",
              "      <th>13802</th>\n",
              "      <td>Kecil kamarnya dan kurang nyaman.</td>\n",
              "      <td>0</td>\n",
              "    </tr>\n",
              "    <tr>\n",
              "      <th>3829</th>\n",
              "      <td>kamar tidak bersih banyak kecoa dan kasur n\\nya buruk.</td>\n",
              "      <td>0</td>\n",
              "    </tr>\n",
              "    <tr>\n",
              "      <th>5332</th>\n",
              "      <td>gimana ya, biasa aja gitu</td>\n",
              "      <td>0</td>\n",
              "    </tr>\n",
              "    <tr>\n",
              "      <th>5845</th>\n",
              "      <td>Kecewalah</td>\n",
              "      <td>0</td>\n",
              "    </tr>\n",
              "    <tr>\n",
              "      <th>12288</th>\n",
              "      <td>Kamarnya nyaman dan bersih serta ramah pelayanannya....</td>\n",
              "      <td>1</td>\n",
              "    </tr>\n",
              "    <tr>\n",
              "      <th>9501</th>\n",
              "      <td>Pesan 3 kamar di airy bayar 483rban biaya admin di indomart 2rb. Jdi total 485rb!! 😡 ternyata setelah lihat daftar harga di hotel pesan 3 kamar langsung harga 474rb. Rugi 11rb buat kita yang backpacker ya 11rb lumayan ya. Bisa buat naik angkot.</td>\n",
              "      <td>0</td>\n",
              "    </tr>\n",
              "    <tr>\n",
              "      <th>5305</th>\n",
              "      <td>tidak sopan resepsionis nya. pelayanannya gak bagus. sangat kecewa saya check in di hotel ini.</td>\n",
              "      <td>0</td>\n",
              "    </tr>\n",
              "    <tr>\n",
              "      <th>4185</th>\n",
              "      <td>Fucking hotel 🖕</td>\n",
              "      <td>0</td>\n",
              "    </tr>\n",
              "    <tr>\n",
              "      <th>11911</th>\n",
              "      <td>Fullbook setelah dibooking sehingga Kamar tidak sesuai dengan yang dipesan, titik lokasi map tidak sesuai kenyataan.</td>\n",
              "      <td>0</td>\n",
              "    </tr>\n",
              "    <tr>\n",
              "      <th>1706</th>\n",
              "      <td>kamar mandi nya bauk. pengap.</td>\n",
              "      <td>0</td>\n",
              "    </tr>\n",
              "    <tr>\n",
              "      <th>2978</th>\n",
              "      <td>kamarnya agak pengap, tdk seperti airy lain yg pernah saya pesan\\n</td>\n",
              "      <td>0</td>\n",
              "    </tr>\n",
              "    <tr>\n",
              "      <th>2809</th>\n",
              "      <td>Air panasnya gak ada trs kamrnya kotor mineral waternya ko pake galon aqua gak hygenis kaya kos kosan bukan hotel tq</td>\n",
              "      <td>0</td>\n",
              "    </tr>\n",
              "    <tr>\n",
              "      <th>8370</th>\n",
              "      <td>makanannya sangat biasa</td>\n",
              "      <td>0</td>\n",
              "    </tr>\n",
              "    <tr>\n",
              "      <th>5744</th>\n",
              "      <td>kamar mandi nya ga terawat bgt</td>\n",
              "      <td>0</td>\n",
              "    </tr>\n",
              "    <tr>\n",
              "      <th>10442</th>\n",
              "      <td>Bagus, nyaman, bersih, tapi kalau malam portal masuk ditutup dimana mana, jadi banyak muternya</td>\n",
              "      <td>1</td>\n",
              "    </tr>\n",
              "    <tr>\n",
              "      <th>2788</th>\n",
              "      <td>kamarnya bersih, tp agak serem ya</td>\n",
              "      <td>0</td>\n",
              "    </tr>\n",
              "    <tr>\n",
              "      <th>7797</th>\n",
              "      <td>Stafnya gak malesan, handuk and air minum gak ada,</td>\n",
              "      <td>0</td>\n",
              "    </tr>\n",
              "    <tr>\n",
              "      <th>11356</th>\n",
              "      <td>Pelayanan nya ramah, spring bed nya lumayan empuk, cuman sayang bantal nya keras harus diganti, handuknya jg udh keliatan kusam, air panasnya kurang panas dan agak kecil keluarnya, AC nya jg perlu diperbaiki krna kurang dingin, air di WC nya jg ga berfungsi, kebersihan kamar sih udah ok, wifi nya lumayan kenceng, sarapan nya not bad lah, tq</td>\n",
              "      <td>0</td>\n",
              "    </tr>\n",
              "    <tr>\n",
              "      <th>6749</th>\n",
              "      <td>kamar tdr bau tidak enk seperti spiteng, shower keluar air kecil, air wastafel tidak keluar, pokoknya saya tidak recomend tempat ini</td>\n",
              "      <td>0</td>\n",
              "    </tr>\n",
              "    <tr>\n",
              "      <th>9588</th>\n",
              "      <td>ACnya ga dingin dan ga diperhatikan.</td>\n",
              "      <td>0</td>\n",
              "    </tr>\n",
              "    <tr>\n",
              "      <th>509</th>\n",
              "      <td>Kamar Bau Lama Tidak Digunakan ,shower tdk bida digunakan peralatan kurang terawat .tp Sangat Murah Denga Hrga Segitu</td>\n",
              "      <td>0</td>\n",
              "    </tr>\n",
              "    <tr>\n",
              "      <th>400</th>\n",
              "      <td>kurang berkesan..</td>\n",
              "      <td>0</td>\n",
              "    </tr>\n",
              "    <tr>\n",
              "      <th>10557</th>\n",
              "      <td>Lantai kotor apalagi lantai di dalam kamar, masih banyak rambut2 alias kurang bersih. Padahal hotel baru.</td>\n",
              "      <td>0</td>\n",
              "    </tr>\n",
              "    <tr>\n",
              "      <th>1352</th>\n",
              "      <td>Untuk harga segitu lumayan lah.</td>\n",
              "      <td>1</td>\n",
              "    </tr>\n",
              "    <tr>\n",
              "      <th>773</th>\n",
              "      <td>Kamar bersih dan luas, walaupun tidak ada AC tapi tetep dingin karena udara Lembang yang emang udah</td>\n",
              "      <td>1</td>\n",
              "    </tr>\n",
              "    <tr>\n",
              "      <th>5308</th>\n",
              "      <td>Tidak dapat wifi padahal tertera ada fasilitas wifi,kamar mandi rusak tidak bisa di tutup</td>\n",
              "      <td>0</td>\n",
              "    </tr>\n",
              "    <tr>\n",
              "      <th>8276</th>\n",
              "      <td>ga dijelaskan, kalau kamar di lantai 3.</td>\n",
              "      <td>0</td>\n",
              "    </tr>\n",
              "    <tr>\n",
              "      <th>11642</th>\n",
              "      <td>Waktu pertama kali datang, lantai kamar nya kotor. Di bagian ujung2 meja ada semut, padahal barusan datang. Untuk pintu kamar mandi tidak bisa ditutup dengan rapat, kran air juga tidak berfungsi dengan baik.</td>\n",
              "      <td>0</td>\n",
              "    </tr>\n",
              "    <tr>\n",
              "      <th>1127</th>\n",
              "      <td>Kamar bersih, di pusat kota, dekat dengan kawasan perkantoran</td>\n",
              "      <td>1</td>\n",
              "    </tr>\n",
              "    <tr>\n",
              "      <th>12423</th>\n",
              "      <td>harganya mahal,  untung sy dpt kupon,  jd hrgnya tgl 200rb,  sarapannya ternyt beli di warung sebelah. \\n\\nselebihnya ok. \\n\\noh y,  saran saya di ruko yg dijadikan penginapan jg diberi informasi ttg airi.  biar carinya gampang</td>\n",
              "      <td>0</td>\n",
              "    </tr>\n",
              "    <tr>\n",
              "      <th>1704</th>\n",
              "      <td>sistem nya buruk</td>\n",
              "      <td>0</td>\n",
              "    </tr>\n",
              "    <tr>\n",
              "      <th>6721</th>\n",
              "      <td>selimut dan tisu tidak ada kayak di kosan</td>\n",
              "      <td>0</td>\n",
              "    </tr>\n",
              "    <tr>\n",
              "      <th>8019</th>\n",
              "      <td>clean room. good services. near main road.</td>\n",
              "      <td>1</td>\n",
              "    </tr>\n",
              "    <tr>\n",
              "      <th>939</th>\n",
              "      <td>air bau gada air panas</td>\n",
              "      <td>0</td>\n",
              "    </tr>\n",
              "    <tr>\n",
              "      <th>8510</th>\n",
              "      <td>banyak fasilitas yang kurang baik, air mandi, AC kurang dingin dan TV gak jelas ...\\n</td>\n",
              "      <td>0</td>\n",
              "    </tr>\n",
              "    <tr>\n",
              "      <th>7598</th>\n",
              "      <td>Maaf, kurang bersih kamar ny.</td>\n",
              "      <td>0</td>\n",
              "    </tr>\n",
              "    <tr>\n",
              "      <th>5346</th>\n",
              "      <td>Pelayanan pegawainya sama sekali tidak ramah</td>\n",
              "      <td>0</td>\n",
              "    </tr>\n",
              "    <tr>\n",
              "      <th>14619</th>\n",
              "      <td>sangat mengecewakan sekali dengan penjaganya.. yg bawel ngomel ngomel ga jelas membuat ga nyaman sekali!!!!!</td>\n",
              "      <td>0</td>\n",
              "    </tr>\n",
              "    <tr>\n",
              "      <th>6222</th>\n",
              "      <td>air panas kurang berfungsi &amp; handuk lembab.</td>\n",
              "      <td>0</td>\n",
              "    </tr>\n",
              "    <tr>\n",
              "      <th>5850</th>\n",
              "      <td>gak ada pemberitahuan buat non pasutri nya !!!! kecewa bget .... airy harus nya dkasih kolom tulisan biru !!!</td>\n",
              "      <td>0</td>\n",
              "    </tr>\n",
              "    <tr>\n",
              "      <th>11557</th>\n",
              "      <td>Ga dpt perlengkapan mandi (handuk)  infonya belum dtg dr laundry. Krn sdh keburu perpanjang nginap,  hari kedua kamar minta di bersihkan saat kita keluar cari makan, ternyata sampai kita balik belum dibersihin infonya msh nunggu sprei bersih 🙁, akhirnya kita minta di bersihkan lantainya aja,  perlengkapan mandi jg ga diksh lg</td>\n",
              "      <td>0</td>\n",
              "    </tr>\n",
              "    <tr>\n",
              "      <th>5394</th>\n",
              "      <td>kolam renang kotor sama sekali ga bisa dipake. rooftof ngga terawat. ga dapet breakfast. Diketerangan padahal free breakfast. Hotelnya kayak ga dirawat gt\\nRoom designnya padahal bagus</td>\n",
              "      <td>0</td>\n",
              "    </tr>\n",
              "    <tr>\n",
              "      <th>11227</th>\n",
              "      <td>1.  gantungan kunci nya sangat bikin ribet utk memutar kunci dan membuka pintu.  \\n2. Terlalu berlebihan memotong deposit tamu  mendenda Rp. 50.000. Hanya karna sedikit noda makanan di sprey.  Itu sudah resiko hotel lah..  \\n\\n3. Kamar bersih kamar mandi bersih. \\n\\n4.  And I never Come Back again..</td>\n",
              "      <td>0</td>\n",
              "    </tr>\n",
              "    <tr>\n",
              "      <th>13592</th>\n",
              "      <td>hati2 menginap di sini, uang deposit 200ribu bisa di ambil orang lain tanpa menunjukkan kertas bukti deposit.</td>\n",
              "      <td>0</td>\n",
              "    </tr>\n",
              "    <tr>\n",
              "      <th>2179</th>\n",
              "      <td>bersih ramah, cocok buat backpacker\\r\\n</td>\n",
              "      <td>1</td>\n",
              "    </tr>\n",
              "    <tr>\n",
              "      <th>10209</th>\n",
              "      <td>seperti kosan hehehee \\n</td>\n",
              "      <td>0</td>\n",
              "    </tr>\n",
              "    <tr>\n",
              "      <th>2758</th>\n",
              "      <td>lumayanlah tapi tidak sesuai dengan harganya terlalu mahal d fasilitas yg diberikan</td>\n",
              "      <td>0</td>\n",
              "    </tr>\n",
              "    <tr>\n",
              "      <th>11978</th>\n",
              "      <td>Pelayanannya ramah,fasilitas sesuai dengan harga,wifinya lancar dan cepat. Mantaaap.</td>\n",
              "      <td>1</td>\n",
              "    </tr>\n",
              "    <tr>\n",
              "      <th>10756</th>\n",
              "      <td>Udah bagus semua. Semoga bisa ksna lagi nanti</td>\n",
              "      <td>1</td>\n",
              "    </tr>\n",
              "    <tr>\n",
              "      <th>4676</th>\n",
              "      <td>ac nya ga berasa</td>\n",
              "      <td>0</td>\n",
              "    </tr>\n",
              "    <tr>\n",
              "      <th>7040</th>\n",
              "      <td>kamar ditinggal padahal sudah dikasih tanda minta dibersihkan dan bilang ke resepsionis tp sampe balik ke kamar sorenya masih gak dibersihkan, cuma minta maaf ga ada kompensasi. ggwp.</td>\n",
              "      <td>0</td>\n",
              "    </tr>\n",
              "    <tr>\n",
              "      <th>887</th>\n",
              "      <td>Sblm berangkat saya telpon ke customer call center bertanya apakah bisa pakai extra bed, setelah dicek katanya bisa. Namun\\n ketika kami ke sana, kamarnya kecil jadi kalau mau pakai extrabed hrs upgrade kamar. Kemudian kamar mandinya kotor, banyak kerak2 kotoran di dindingnya.</td>\n",
              "      <td>0</td>\n",
              "    </tr>\n",
              "    <tr>\n",
              "      <th>8217</th>\n",
              "      <td>kami dapat ruangan lama, agak bau dan kurang bersih. tempat tidur juga berbunyi. tisu dan air minum panas hrs mnt dulu</td>\n",
              "      <td>0</td>\n",
              "    </tr>\n",
              "    <tr>\n",
              "      <th>6665</th>\n",
              "      <td>beda banget sama yg di foto, lantai kotor (ada kecoak), sarung bantal belum diganti</td>\n",
              "      <td>0</td>\n",
              "    </tr>\n",
              "    <tr>\n",
              "      <th>4513</th>\n",
              "      <td>siapin room smoking room jadi gak harus trun kellby kalo mah merokok</td>\n",
              "      <td>0</td>\n",
              "    </tr>\n",
              "    <tr>\n",
              "      <th>1641</th>\n",
              "      <td>Pelayanan baik + banyak nyamuk</td>\n",
              "      <td>0</td>\n",
              "    </tr>\n",
              "    <tr>\n",
              "      <th>9085</th>\n",
              "      <td>Nyaman, ditengah kota kamar relatif bersih, cuma agak gaduh terdengar , security ribut pake radio volume tinggi</td>\n",
              "      <td>1</td>\n",
              "    </tr>\n",
              "    <tr>\n",
              "      <th>5075</th>\n",
              "      <td>kondisi sangat menyeramkan.. dan bau debu sangat menyegat\\n\\n</td>\n",
              "      <td>0</td>\n",
              "    </tr>\n",
              "    <tr>\n",
              "      <th>8190</th>\n",
              "      <td>Bagus dan sangat nyaman sekali.</td>\n",
              "      <td>1</td>\n",
              "    </tr>\n",
              "    <tr>\n",
              "      <th>14622</th>\n",
              "      <td>Kurang baik karena ada serangga dan lintah yg entah darimana munculnya, ada di kamar mandi bahkan ada beberapa yg melata di kamar rrgghhhh. Wifi gak sampai kamar, sinyal internet hp sy pun lemot saat di kamar. Lainnya sih ok seperti lokasi airy, penjaga ramah entah itu ownernya sy gak tau persis dan kebersihan lumayan.</td>\n",
              "      <td>0</td>\n",
              "    </tr>\n",
              "    <tr>\n",
              "      <th>4143</th>\n",
              "      <td>ada pub. jedag-jedug berasa ke kamar tiap malam! tapi complaint handling bagus. petugas ramah</td>\n",
              "      <td>0</td>\n",
              "    </tr>\n",
              "    <tr>\n",
              "      <th>14768</th>\n",
              "      <td>kamarnya gelap, selimut kuning, kamar Airy di lt 3 gk ada lift, sarapan apa adanya, wifi gk ada koneksi di kamar, gk nginap disini lg,,kecewa</td>\n",
              "      <td>0</td>\n",
              "    </tr>\n",
              "    <tr>\n",
              "      <th>5710</th>\n",
              "      <td>bantalnya kotor sekali. sudah lama sekali spertinya tidak diganti.</td>\n",
              "      <td>0</td>\n",
              "    </tr>\n",
              "    <tr>\n",
              "      <th>1545</th>\n",
              "      <td>fasilitas penginapan tidak seperti penginapan airy lainya</td>\n",
              "      <td>0</td>\n",
              "    </tr>\n",
              "    <tr>\n",
              "      <th>6246</th>\n",
              "      <td>Air mati :(</td>\n",
              "      <td>0</td>\n",
              "    </tr>\n",
              "    <tr>\n",
              "      <th>14689</th>\n",
              "      <td>kamar lembab dan hotel tidak terawat</td>\n",
              "      <td>0</td>\n",
              "    </tr>\n",
              "    <tr>\n",
              "      <th>13743</th>\n",
              "      <td>air nya bau karat terus rasanya asin.\\nsikat gigi jadinya pake air aqua dah</td>\n",
              "      <td>0</td>\n",
              "    </tr>\n",
              "    <tr>\n",
              "      <th>12372</th>\n",
              "      <td>kamar mandi kotor dan foto di airy berbeda \\ndengan kamar yang kita tempati serta kolam renang juga kotor tdk di bersih khan.  difoto kamar family berbeda dengan di foto airy sama asli nya kalau bisa di foto dengan yang asli sama.</td>\n",
              "      <td>0</td>\n",
              "    </tr>\n",
              "    <tr>\n",
              "      <th>10054</th>\n",
              "      <td>RUGI DI SINI JADI KEMAREN NGINRP HARI KE 2 GA DI KASIH SABUN BAHKANN GA DI BERSIHIIN DAN SAMA SEKALI GA DI  PINJMN ANDUK UDH NGOMNG MAU DI BERSIHIN TAPI APA TIPU\" DAN JAUH BANGET KE KAMAR NYAA</td>\n",
              "      <td>0</td>\n",
              "    </tr>\n",
              "    <tr>\n",
              "      <th>6125</th>\n",
              "      <td>tidak ada resepsionis saat malam, tdk langung diberikan password wifi saat check in, saat masuk ada bau kurang sedap</td>\n",
              "      <td>0</td>\n",
              "    </tr>\n",
              "    <tr>\n",
              "      <th>817</th>\n",
              "      <td>Tempatnya strategis, hanya saja pelayanan kurang oke, kran panas gag bisa dan chanel tv jelek</td>\n",
              "      <td>0</td>\n",
              "    </tr>\n",
              "    <tr>\n",
              "      <th>1441</th>\n",
              "      <td>Ac tidak dirawat, kurang terasa</td>\n",
              "      <td>0</td>\n",
              "    </tr>\n",
              "    <tr>\n",
              "      <th>559</th>\n",
              "      <td>airnya kurang bagus dan tdk ada handuk</td>\n",
              "      <td>0</td>\n",
              "    </tr>\n",
              "    <tr>\n",
              "      <th>13154</th>\n",
              "      <td>Kotor, kamar mandi gak bagus</td>\n",
              "      <td>0</td>\n",
              "    </tr>\n",
              "    <tr>\n",
              "      <th>2759</th>\n",
              "      <td>Gak rekomended</td>\n",
              "      <td>0</td>\n",
              "    </tr>\n",
              "    <tr>\n",
              "      <th>14033</th>\n",
              "      <td>Kamarnya bersih, fasilitas lengkap... sangat murah untuk harga segitu.... keamanan sangat baik  Recommended untuk yang budget kecil, tapi mau hotel bagus...</td>\n",
              "      <td>1</td>\n",
              "    </tr>\n",
              "  </tbody>\n",
              "</table>\n",
              "</div>"
            ],
            "text/plain": [
              "                                                                                                                                                                                                                                                                                                                                                                                                                                                    review_text  \\\n",
              "8596                                                                                                                                                                                                                                                                                                                                          so far kamar bagus. tapi untuk handuk keduanya sangat bau . tdk d ganti spertinya. sdh d komplain tdk ad tnggapan   \n",
              "5148                                                                                                                                                                                                                                                                                                                                                                                                                                        Listrik sering mati   \n",
              "942                                                                                                                                                                                                                                                                                                                                                                                                                  Sangat nyaman, bersih dan pelayanan ramah.   \n",
              "12577                                                                                                                                                                                                                                                              Tidak ada nuansa airy room nya seperti tempat lain, air minum gelas bukan botol.\\nPerlengkapan mandi dan makanan harus diminta. Tidak di ingatkan sarapan.\\nPelayanan sangat jelek. Thanks\\n   \n",
              "2365                                                                                                                                                                                                                                                                                                                                                                                                                                   pelayanan kurang ramah\\n   \n",
              "3802                                                                                                                                                                                                                                                                                                                                                                                                   snack terlambat, tidak ada wifi, tv channel lokal semua.   \n",
              "7873                                                                                                                                                                                                                                                 kamarnya bagus.. tapi ga ada perlengkapan airy, ga ada air minum, ga ada tissue, ac-nya ga dingin, airnya kecil, acara TV nya ga ada.. remotenya rusak.. ga ada staf standby.\\nuntuk yg ini cukup kecewa..   \n",
              "9002                                                                                                                                                                                                                                                                                                                                                                                                                             jalannya susah, masuk2 kampung   \n",
              "3959                                                                                                                                                                                                                                                                                                                                                                                                                                                   b aja ah   \n",
              "13743                                                                                                                                                                                                                                                                                                                                                                              air nya bau karat terus rasanya asin.\\nsikat gigi jadinya pake air aqua dah    \n",
              "4975                                                                                                                                                                                                                                                                                                                                                                                                                               tidak ada fasilitas airy nya   \n",
              "13837                                                                                                                                                                                                                                                                         air di kamar mandi asin. remot AC nya susah bgt di pencet. 2 hari nginep disitu, 2 hari ada kecoa pula di kamar.. selimut nya cuma 1 dan kurang lebar utk ukuran kamar 2 orang..    \n",
              "9309                                                                                                                                                                                                                                                                                                                                                                                                                           Hiksssss kurang nyaman tempatnya   \n",
              "2612   Pas banget murah, cocok sama kamu kantong mahasiswa hehe kamarnya juga bersih rapi, tapi disaat check-in ada kebijakan hotelnya untuk deposit sebanyak 200 ribu, untung bawa duit cashnya lebih, coba kalau tidak bawa cash lebih kan repot musti ke atm dulu, karena tidak dikasih info lebih dulu ke pemesan sebelum check-in ada deposit, hanya itu saja si repotnya, tenang aman kok uang depositnya nanti bisa diambil kembali pada saat check-out.   \n",
              "10620                                                                                                                                                                                                                                                                                                                                                                                                                                 kotak snack nggk diisi...   \n",
              "6377                                                                                                            Kami mendapatkan kamar dilantai 3 namum pada saat kami datang tak ada seorangpun petugas  yang membantu kami untuk mengantarkan dan membawa barang  sedangkan kami juga membawa anak kecil. Kami juga mengalami air yang tidak berfungsi saat sedang mandi.  Untuk konsumsi sarapan, varian dan rasanya mohon ditingkatkan kembali. Terimakasih   \n",
              "5894                                                                                                                                                                                               kamar banjir krn hujan angin.sanitasi kurang bagus krn air mandi tidak langsung mengalir keluar.banyak nyamuk.lantai seperti tidak disapu.kursi didalam tidak ada.kabel telpon terputus.snack tidak tersedia didalam kamar.saya mendapatkan kamar nomer 129.   \n",
              "11321                                                                                                                                                                                                                                                                                                                                                                                       Colokan listrik jauh dari tempat tidur. \\nPenyajian makanan gk niat   \n",
              "14629                                                                                                                                                                                                                                                                                                                                                                                                                         cukup nyaman sesuai dengan budget   \n",
              "79                                                                                                                                                                                                                                                                                                                                                               air untuk mandi nya tidak bagus karena asin, pintu kamar mandi nya rusak, AC nya tidak dingin    \n",
              "5315                                                                                                                                                                                                                                                                                                                                                                               banyak \\npara pengunjung yg  berpenampilan kurang sopan..anak2 pada takut...   \n",
              "6760                                                                                                                                                                                                                                                                                                                                                   Tidak ada lap kaki di depan toilet jadi becek sekali ,kamar mandinya bau dan pintu kamar mandinya rusak    \n",
              "1707                                                                                                                                                                                                                                                                                                                                                 kamar sesuai dengan foto, ac ok, air kamar mandi ok, cs 24 jam, harga ekonomis hanya kurang plastik sampah   \n",
              "5314                                                                                                                                                                                                                                                                                                                                                                                                           Pelayanan memuaskan, tempat dekat dengan bandara   \n",
              "6731                                                                                                                                                                                                                                                                                                                                                                                                                                           sangat kecewa !!   \n",
              "13626                                                                                                                                                                                                                                                                                                                                                                                 Tempat nyaman, bersih, dan menyalurkan bakat memasak karena ada dapurnya.   \n",
              "1364                                                                                                                                                                                                                                                                                                                                                                                                                                           no smoking area    \n",
              "12648                                                                                                                                                                                                                                                                                kamar lembab bau jamur / rokok atau apek lah saya ga ngerti pokoknya bau\\n\\nkasurnya jg cekung jd ga rata gt. bagian tengah kasur masuk ke dlm gt. jd klo tdr bikin pusing   \n",
              "7980                                                                                                                                                                                                                                                                                                                                                                         alternative yang bagus untuk transit. harga murah pelayanan oke kebersihan lumayan   \n",
              "11789                                                                                                                                                                                                                                                                                                                                                                      hotelnya nyaman..bersih.. dan bapak ibunya ramah sekali.. dekat tempat makan juga..    \n",
              "1675                                                                                                                                                                                                                                                                                                                                                                                                                                    Pegawainya kurang ramah   \n",
              "9032                                                                                                                                                                                                                                                                                                                                    this is my second trip and I get dissapointed, the bathroom looks dirty and I can't get hot water for my morning tea :(   \n",
              "2057                                                                                                                                                                                                                                                                                                                                                                                                                         kotor..\\nair panas tdk berfungsi\\n   \n",
              "711                                                                                                                                                                                                                                                                                                                                  sudah bagus sih, cmn spring bed nya tdk empuk padahal itu kamer superior bkn standar, dan wifinya jg kurang kuat sinyalnya   \n",
              "4256                                                                                                                                                                                                                                                                                                                                                       Tangga utk naik k kamar lt 2 kecil dan tinggi jarak per tanggany, tdk cocok kl bw org tua ato anak k   \n",
              "1128                                                                                                                                                                                                          tempatnya tidak sesuai dengan foto, lampu toilet tiba2 mati, anduk yang disediakan untuk 2 orang hanya 1  fasilitas disekitar hotel ga ada apa-apa, nyamukk banyakkk banyakkk bangett, plusnya cuma ruangnya lumayan legaan dikit. ga recommend .   \n",
              "12291                                                                                                                                                                                                                                                                                                                                                                                                                  pelayanan dengan tamu perlu ditingkatkan   \n",
              "9386                                                                                                                                                                                                                                                                                                                                                                                                                                         Kamar terlihat tua   \n",
              "12061                                                                                                                                                                                                                                                                                                                           pas masuk kamarnya kotor, ada sampah bekas Snack di atas meja dekat tempat tidur. lantainya juga ngeres seperti tidak di sapu 😭   \n",
              "9582                                                                                                                                                                                                                                                                                                                                                                                                                  AC tidak dingin....tidak tersedia selimut   \n",
              "14060                                                                                                                                                                                                                                                                                                                                                                                                       3 Kali cek in, air panasnya tidak pernah berfungsi    \n",
              "3445                                                                                                                                                                                                                                                                                                                                                                              bagus bersih wifi lemot anduk bau itu saja yg d benahi selebihnya nyaman saja   \n",
              "9473                                                                                          resepsionis yg laki-laki jutek, oke kita memang order via airy dan kebetulan pake promo, tapi setidaknya samakan perlakuan antara kami dan tamu reguler.\\ntidak profesional, cukup kecewa menginap disana walaupun cuma semalam.\\ndan sekali lagi jangan anggap remeh tamu yg menginap, kami kecewa.\\nsemoga lebih baik lagi kedepannya dalam memperlakukan tamu.   \n",
              "2831                                                                                                                                                                                                                                                                                                                                                                                                                                              Shower rusak.   \n",
              "12237                                                                                                                                                                                                                                                                                                                                                                                       kebersihan ruangan, keteparan pesanan (pesan double diberikan twin)   \n",
              "5589                                                                                                                                                                                                                                                                                                                                                                    air untuk mandi ada penghangatnya, tapi airnya sangat bau..jadi saya jadi kurang nyaman   \n",
              "774                                                                                               Untuk tempat lumayan nyaman, tapi sayangnya bnyak nyamuk dr ditoilet sehingga masuk ke kamar jg bnyk nyamuk, remot AC nya suka ga berfungsi dgn baik.. Saya menginap 3 hari 3 malam tp kamarnya cuma dirapihin tpt tidur nya saja, padahal brharap jg agar lantainya bisa disapu.. petugasnya cukup ramah,semoga kedepannya bisa lebih baik lg, Trims Airy :)   \n",
              "958                                                                                                                                                                                                                                                                                                                                                                                                                                                 Acnya bocor   \n",
              "6408                                                                                                                                                                                                                                                                                                                                                                                                          Snack nya gada gak asik akh gak kaya airy yg lain   \n",
              "12465                                                                                                                                                                                                                                                                                                    kamar kurang bersih, bau asap rokok, selimut n bantal bau keringat penginap sebelum kami. Agar lebih diperhatikan kebersihan n kepuasan pelanggan. tks   \n",
              "10155                                                                                                                                                                                                                                                              keadaan kamar hotel kurang prima.seperti kasur/springbed tdk nyaman.pernya sdh lemah.kunci pintu tdk diperbaiki.rusak .air panas showernya air keluarnya kecil.kolam renangnya airnya kotor.   \n",
              "7067                                                                                                                                                                                                                                                                                                                                                                         air kotor dan berbau, depan kamar (masih dalam hotel) baunya ikan busuk. bad hotel   \n",
              "11018                                                                                                                                                                                                                                                                                                                                                                                                                          panassssss engap ac nya gak asik   \n",
              "14721                                                                                                                                                                                                                                                                                                                                                                                            baik, mantap dekat kemana2 dan mudah, syg Wifinya ga berfungsi   \n",
              "305                                                                                                                                                                                                                                                                                                                                                        Although we only stayed 1 night but overall we were satisfied with the facilities and service at thi   \n",
              "11258                                                                                                                                                                                                                                                   Kecewa tidak ada air panas, tidak bisa mandi malam. Tidak ada pemberitahuan atau permintaan maaf sebelumnya baik dari resepsionis maupun housekeeping bahwa water heater sedang rusak. Skor buruk deh.    \n",
              "9591                                                                                                                   Kamar kotor seperti tidak pernah dibersihkan, seprei tidak diganti, kamar mandi wastafelnya bocor lampu sangat redup tembok berkarat sampai berearna hitam, air panas tidak nyala, tv gambarnya buram. Hotel seperti tidak terawat padahal di foto terlihat bagus tapi ternyata hanya gambar saja. Mohon segera ditingkatkan kualitasnya   \n",
              "6281                                                                                                                                                                                                                                                                                                                                                                                                    Saya pesan kamar dgn double bed tapi dapatnya twin bed.   \n",
              "5111                                                                                                                                                                                                                                                                                                                                                      kecewa krn pelayanannya kurang baik ,saya komplen  karna sprei dan selimut kotor tapi tdk ditanggapi.   \n",
              "14611                                                                                                                                                                                                                                                                                                                                                                                                 untuk ac nya licking..siaran tv lokal tidak dapat semua\\n   \n",
              "14721                                                                                                                                                                                                                                                                                                                                                                                            baik, mantap dekat kemana2 dan mudah, syg Wifinya ga berfungsi   \n",
              "4571                                                                                                                                                                                                                                                                                                                                                                                                                                 lumayan...\\nbutuh renovasi   \n",
              "12112                                                                                                                                                                                                                                                        Saat check in tepat waktu ternyata kamar sy belum disediakan. Terlebih fasilitas kamar kurang memuaskan. Pintu wc tidak dpt dikunci jd ga rapat, flush wc ga berfungsi, dan selimut kurang bersih.   \n",
              "7446                                                                                                                                                                                                                                                                                                                                                            kamar serem, kotor gak sesuai di gambar..\\nhanduk pun sobek\\ngabakal balik kesini lagi. makasih   \n",
              "13837                                                                                                                                                                                                                                                                         air di kamar mandi asin. remot AC nya susah bgt di pencet. 2 hari nginep disitu, 2 hari ada kecoa pula di kamar.. selimut nya cuma 1 dan kurang lebar utk ukuran kamar 2 orang..    \n",
              "772                                                                                                                                                                                                                                                                                                                                                                                                                excellent place,near from my business travel   \n",
              "10326                                                                                                                                                                                                                                                                                                                                                                                                        Gaada anduk,kasurnya juga kotor msh banyak debunya   \n",
              "14118                                                                                                                                                                                                                                                                                                                  staff oke ramah , cuma saya pesan kamar double ,tapi stoknya bilang habis , dan saya mau ga mau dikasih yang single , itu aja overal oke   \n",
              "8852                                                                                                        waktu check in sulit . karena dateng jam 12 malem .karena saya biasa dateng ke airyrooms pasti diatas jam 10 malam . gak ada gantungan baju padahal lemari berdebu . saya masuk jam 12 malam . handuk masih basah dan bau bekas orang tanpa di cuci . hampir tiap bulan saya make airy rooms tapi baru kali ini kecewa . tolong di tingkatkan lagi    \n",
              "8418                                                                                                                       saat mau checkin, tidak ada petugas yang standby disana, jadi saya terlantar diluar rumah. saat checkin, ternyata kamarnya penuh, dan dipindah di rumah lain, dan kualitasnya menurut saya lebih menurun, seperti luas kamar, kebersihan, fasilitas air panas tidak ada, tetapi suasana lebih tenang. Mohon diperbaiki, terima kasih   \n",
              "4967                                                                                                                                                                                                                                                                                                                             membutuhkan deposit yg besar melebihi harga kamarnya. kualitas sinyal ponsel di dalam gedung sangat buruk. wifi tidak stabil.    \n",
              "14725                                                                                                                                                                                                                                                                                                                                           kamarny dan kaamar mandi gede tp syg sepreiny kurang bersih,airny pas datang msih kosong,lobi nya tidak terawat   \n",
              "13802                                                                                                                                                                                                                                                                                                                                                                                                                        Kecil kamarnya dan kurang nyaman.    \n",
              "3829                                                                                                                                                                                                                                                                                                                                                                                                     kamar tidak bersih banyak kecoa dan kasur n\\nya buruk.   \n",
              "5332                                                                                                                                                                                                                                                                                                                                                                                                                                  gimana ya, biasa aja gitu   \n",
              "5845                                                                                                                                                                                                                                                                                                                                                                                                                                                  Kecewalah   \n",
              "12288                                                                                                                                                                                                                                                                                                                                                                                                   Kamarnya nyaman dan bersih serta ramah pelayanannya....   \n",
              "9501                                                                                                                                                                                                       Pesan 3 kamar di airy bayar 483rban biaya admin di indomart 2rb. Jdi total 485rb!! 😡 ternyata setelah lihat daftar harga di hotel pesan 3 kamar langsung harga 474rb. Rugi 11rb buat kita yang backpacker ya 11rb lumayan ya. Bisa buat naik angkot.   \n",
              "5305                                                                                                                                                                                                                                                                                                                                                            tidak sopan resepsionis nya. pelayanannya gak bagus. sangat kecewa saya check in di hotel ini.    \n",
              "4185                                                                                                                                                                                                                                                                                                                                                                                                                                            Fucking hotel 🖕   \n",
              "11911                                                                                                                                                                                                                                                                                                                                      Fullbook setelah dibooking sehingga Kamar tidak sesuai dengan yang dipesan, titik lokasi map tidak sesuai kenyataan.   \n",
              "1706                                                                                                                                                                                                                                                                                                                                                                                                                              kamar mandi nya bauk. pengap.   \n",
              "2978                                                                                                                                                                                                                                                                                                                                                                                         kamarnya agak pengap, tdk seperti airy lain yg pernah saya pesan\\n   \n",
              "2809                                                                                                                                                                                                                                                                                                                                       Air panasnya gak ada trs kamrnya kotor mineral waternya ko pake galon aqua gak hygenis kaya kos kosan bukan hotel tq   \n",
              "8370                                                                                                                                                                                                                                                                                                                                                                                                                                    makanannya sangat biasa   \n",
              "5744                                                                                                                                                                                                                                                                                                                                                                                                                             kamar mandi nya ga terawat bgt   \n",
              "10442                                                                                                                                                                                                                                                                                                                                                            Bagus, nyaman, bersih, tapi kalau malam portal masuk ditutup dimana mana, jadi banyak muternya   \n",
              "2788                                                                                                                                                                                                                                                                                                                                                                                                                          kamarnya bersih, tp agak serem ya   \n",
              "7797                                                                                                                                                                                                                                                                                                                                                                                                         Stafnya gak malesan, handuk and air minum gak ada,   \n",
              "11356                                                                                                    Pelayanan nya ramah, spring bed nya lumayan empuk, cuman sayang bantal nya keras harus diganti, handuknya jg udh keliatan kusam, air panasnya kurang panas dan agak kecil keluarnya, AC nya jg perlu diperbaiki krna kurang dingin, air di WC nya jg ga berfungsi, kebersihan kamar sih udah ok, wifi nya lumayan kenceng, sarapan nya not bad lah, tq   \n",
              "6749                                                                                                                                                                                                                                                                                                                       kamar tdr bau tidak enk seperti spiteng, shower keluar air kecil, air wastafel tidak keluar, pokoknya saya tidak recomend tempat ini   \n",
              "9588                                                                                                                                                                                                                                                                                                                                                                                                                       ACnya ga dingin dan ga diperhatikan.   \n",
              "509                                                                                                                                                                                                                                                                                                                                      Kamar Bau Lama Tidak Digunakan ,shower tdk bida digunakan peralatan kurang terawat .tp Sangat Murah Denga Hrga Segitu    \n",
              "400                                                                                                                                                                                                                                                                                                                                                                                                                                           kurang berkesan..   \n",
              "10557                                                                                                                                                                                                                                                                                                                                                 Lantai kotor apalagi lantai di dalam kamar, masih banyak rambut2 alias kurang bersih. Padahal hotel baru.   \n",
              "1352                                                                                                                                                                                                                                                                                                                                                                                                                            Untuk harga segitu lumayan lah.   \n",
              "773                                                                                                                                                                                                                                                                                                                                                        Kamar bersih dan luas, walaupun tidak ada AC tapi tetep dingin karena udara Lembang yang emang udah    \n",
              "5308                                                                                                                                                                                                                                                                                                                                                                  Tidak dapat wifi padahal tertera ada fasilitas wifi,kamar mandi rusak tidak bisa di tutup   \n",
              "8276                                                                                                                                                                                                                                                                                                                                                                                                                    ga dijelaskan, kalau kamar di lantai 3.   \n",
              "11642                                                                                                                                                                                                                                          Waktu pertama kali datang, lantai kamar nya kotor. Di bagian ujung2 meja ada semut, padahal barusan datang. Untuk pintu kamar mandi tidak bisa ditutup dengan rapat, kran air juga tidak berfungsi dengan baik.    \n",
              "1127                                                                                                                                                                                                                                                                                                                                                                                             Kamar bersih, di pusat kota, dekat dengan kawasan perkantoran    \n",
              "12423                                                                                                                                                                                                                       harganya mahal,  untung sy dpt kupon,  jd hrgnya tgl 200rb,  sarapannya ternyt beli di warung sebelah. \\n\\nselebihnya ok. \\n\\noh y,  saran saya di ruko yg dijadikan penginapan jg diberi informasi ttg airi.  biar carinya gampang   \n",
              "1704                                                                                                                                                                                                                                                                                                                                                                                                                                           sistem nya buruk   \n",
              "6721                                                                                                                                                                                                                                                                                                                                                                                                                  selimut dan tisu tidak ada kayak di kosan   \n",
              "8019                                                                                                                                                                                                                                                                                                                                                                                                                clean room. good services. near main road.    \n",
              "939                                                                                                                                                                                                                                                                                                                                                                                                                                      air bau gada air panas   \n",
              "8510                                                                                                                                                                                                                                                                                                                                                                      banyak fasilitas yang kurang baik, air mandi, AC kurang dingin dan TV gak jelas ...\\n   \n",
              "7598                                                                                                                                                                                                                                                                                                                                                                                                                              Maaf, kurang bersih kamar ny.   \n",
              "5346                                                                                                                                                                                                                                                                                                                                                                                                               Pelayanan pegawainya sama sekali tidak ramah   \n",
              "14619                                                                                                                                                                                                                                                                                                                                              sangat mengecewakan sekali dengan penjaganya.. yg bawel ngomel ngomel ga jelas membuat ga nyaman sekali!!!!!   \n",
              "6222                                                                                                                                                                                                                                                                                                                                                                                                                air panas kurang berfungsi & handuk lembab.   \n",
              "5850                                                                                                                                                                                                                                                                                                                                              gak ada pemberitahuan buat non pasutri nya !!!! kecewa bget .... airy harus nya dkasih kolom tulisan biru !!!   \n",
              "11557                                                                                                                   Ga dpt perlengkapan mandi (handuk)  infonya belum dtg dr laundry. Krn sdh keburu perpanjang nginap,  hari kedua kamar minta di bersihkan saat kita keluar cari makan, ternyata sampai kita balik belum dibersihin infonya msh nunggu sprei bersih 🙁, akhirnya kita minta di bersihkan lantainya aja,  perlengkapan mandi jg ga diksh lg   \n",
              "5394                                                                                                                                                                                                                                                                   kolam renang kotor sama sekali ga bisa dipake. rooftof ngga terawat. ga dapet breakfast. Diketerangan padahal free breakfast. Hotelnya kayak ga dirawat gt\\nRoom designnya padahal bagus   \n",
              "11227                                                                                                                                             1.  gantungan kunci nya sangat bikin ribet utk memutar kunci dan membuka pintu.  \\n2. Terlalu berlebihan memotong deposit tamu  mendenda Rp. 50.000. Hanya karna sedikit noda makanan di sprey.  Itu sudah resiko hotel lah..  \\n\\n3. Kamar bersih kamar mandi bersih. \\n\\n4.  And I never Come Back again..    \n",
              "13592                                                                                                                                                                                                                                                                                                                                            hati2 menginap di sini, uang deposit 200ribu bisa di ambil orang lain tanpa menunjukkan kertas bukti deposit.    \n",
              "2179                                                                                                                                                                                                                                                                                                                                                                                                                    bersih ramah, cocok buat backpacker\\r\\n   \n",
              "10209                                                                                                                                                                                                                                                                                                                                                                                                                                  seperti kosan hehehee \\n   \n",
              "2758                                                                                                                                                                                                                                                                                                                                                                        lumayanlah tapi tidak sesuai dengan harganya terlalu mahal d fasilitas yg diberikan   \n",
              "11978                                                                                                                                                                                                                                                                                                                                                                      Pelayanannya ramah,fasilitas sesuai dengan harga,wifinya lancar dan cepat. Mantaaap.   \n",
              "10756                                                                                                                                                                                                                                                                                                                                                                                                             Udah bagus semua. Semoga bisa ksna lagi nanti   \n",
              "4676                                                                                                                                                                                                                                                                                                                                                                                                                                           ac nya ga berasa   \n",
              "7040                                                                                                                                                                                                                                                                    kamar ditinggal padahal sudah dikasih tanda minta dibersihkan dan bilang ke resepsionis tp sampe balik ke kamar sorenya masih gak dibersihkan, cuma minta maaf ga ada kompensasi. ggwp.   \n",
              "887                                                                                                                                                                      Sblm berangkat saya telpon ke customer call center bertanya apakah bisa pakai extra bed, setelah dicek katanya bisa. Namun\\n ketika kami ke sana, kamarnya kecil jadi kalau mau pakai extrabed hrs upgrade kamar. Kemudian kamar mandinya kotor, banyak kerak2 kotoran di dindingnya.    \n",
              "8217                                                                                                                                                                                                                                                                                                                                     kami dapat ruangan lama, agak bau dan kurang bersih. tempat tidur juga berbunyi. tisu dan air minum panas hrs mnt dulu   \n",
              "6665                                                                                                                                                                                                                                                                                                                                                                        beda banget sama yg di foto, lantai kotor (ada kecoak), sarung bantal belum diganti   \n",
              "4513                                                                                                                                                                                                                                                                                                                                                                                       siapin room smoking room jadi gak harus trun kellby kalo mah merokok   \n",
              "1641                                                                                                                                                                                                                                                                                                                                                                                                                             Pelayanan baik + banyak nyamuk   \n",
              "9085                                                                                                                                                                                                                                                                                                                                            Nyaman, ditengah kota kamar relatif bersih, cuma agak gaduh terdengar , security ribut pake radio volume tinggi   \n",
              "5075                                                                                                                                                                                                                                                                                                                                                                                              kondisi sangat menyeramkan.. dan bau debu sangat menyegat\\n\\n   \n",
              "8190                                                                                                                                                                                                                                                                                                                                                                                                                            Bagus dan sangat nyaman sekali.   \n",
              "14622                                                                                                                          Kurang baik karena ada serangga dan lintah yg entah darimana munculnya, ada di kamar mandi bahkan ada beberapa yg melata di kamar rrgghhhh. Wifi gak sampai kamar, sinyal internet hp sy pun lemot saat di kamar. Lainnya sih ok seperti lokasi airy, penjaga ramah entah itu ownernya sy gak tau persis dan kebersihan lumayan.   \n",
              "4143                                                                                                                                                                                                                                                                                                                                                              ada pub. jedag-jedug berasa ke kamar tiap malam! tapi complaint handling bagus. petugas ramah   \n",
              "14768                                                                                                                                                                                                                                                                                                             kamarnya gelap, selimut kuning, kamar Airy di lt 3 gk ada lift, sarapan apa adanya, wifi gk ada koneksi di kamar, gk nginap disini lg,,kecewa   \n",
              "5710                                                                                                                                                                                                                                                                                                                                                                                         bantalnya kotor sekali. sudah lama sekali spertinya tidak diganti.   \n",
              "1545                                                                                                                                                                                                                                                                                                                                                                                                  fasilitas penginapan tidak seperti penginapan airy lainya   \n",
              "6246                                                                                                                                                                                                                                                                                                                                                                                                                                                Air mati :(   \n",
              "14689                                                                                                                                                                                                                                                                                                                                                                                                                      kamar lembab dan hotel tidak terawat   \n",
              "13743                                                                                                                                                                                                                                                                                                                                                                              air nya bau karat terus rasanya asin.\\nsikat gigi jadinya pake air aqua dah    \n",
              "12372                                                                                                                                                                                                                   kamar mandi kotor dan foto di airy berbeda \\ndengan kamar yang kita tempati serta kolam renang juga kotor tdk di bersih khan.  difoto kamar family berbeda dengan di foto airy sama asli nya kalau bisa di foto dengan yang asli sama.    \n",
              "10054                                                                                                                                                                                                                                                          RUGI DI SINI JADI KEMAREN NGINRP HARI KE 2 GA DI KASIH SABUN BAHKANN GA DI BERSIHIIN DAN SAMA SEKALI GA DI  PINJMN ANDUK UDH NGOMNG MAU DI BERSIHIN TAPI APA TIPU\" DAN JAUH BANGET KE KAMAR NYAA   \n",
              "6125                                                                                                                                                                                                                                                                                                                                       tidak ada resepsionis saat malam, tdk langung diberikan password wifi saat check in, saat masuk ada bau kurang sedap   \n",
              "817                                                                                                                                                                                                                                                                                                                                                               Tempatnya strategis, hanya saja pelayanan kurang oke, kran panas gag bisa dan chanel tv jelek   \n",
              "1441                                                                                                                                                                                                                                                                                                                                                                                                                            Ac tidak dirawat, kurang terasa   \n",
              "559                                                                                                                                                                                                                                                                                                                                                                                                                      airnya kurang bagus dan tdk ada handuk   \n",
              "13154                                                                                                                                                                                                                                                                                                                                                                                                                              Kotor, kamar mandi gak bagus   \n",
              "2759                                                                                                                                                                                                                                                                                                                                                                                                                                             Gak rekomended   \n",
              "14033                                                                                                                                                                                                                                                                                              Kamarnya bersih, fasilitas lengkap... sangat murah untuk harga segitu.... keamanan sangat baik  Recommended untuk yang budget kecil, tapi mau hotel bagus...   \n",
              "\n",
              "       category  \n",
              "8596          0  \n",
              "5148          0  \n",
              "942           1  \n",
              "12577         0  \n",
              "2365          0  \n",
              "3802          0  \n",
              "7873          0  \n",
              "9002          0  \n",
              "3959          0  \n",
              "13743         0  \n",
              "4975          0  \n",
              "13837         0  \n",
              "9309          0  \n",
              "2612          1  \n",
              "10620         0  \n",
              "6377          0  \n",
              "5894          0  \n",
              "11321         0  \n",
              "14629         1  \n",
              "79            0  \n",
              "5315          0  \n",
              "6760          0  \n",
              "1707          1  \n",
              "5314          1  \n",
              "6731          0  \n",
              "13626         1  \n",
              "1364          0  \n",
              "12648         0  \n",
              "7980          1  \n",
              "11789         1  \n",
              "1675          0  \n",
              "9032          0  \n",
              "2057          0  \n",
              "711           0  \n",
              "4256          1  \n",
              "1128          0  \n",
              "12291         0  \n",
              "9386          0  \n",
              "12061         0  \n",
              "9582          0  \n",
              "14060         0  \n",
              "3445          1  \n",
              "9473          0  \n",
              "2831          0  \n",
              "12237         0  \n",
              "5589          1  \n",
              "774           0  \n",
              "958           0  \n",
              "6408          0  \n",
              "12465         0  \n",
              "10155         0  \n",
              "7067          0  \n",
              "11018         0  \n",
              "14721         1  \n",
              "305           1  \n",
              "11258         0  \n",
              "9591          0  \n",
              "6281          0  \n",
              "5111          0  \n",
              "14611         0  \n",
              "14721         1  \n",
              "4571          0  \n",
              "12112         0  \n",
              "7446          0  \n",
              "13837         0  \n",
              "772           1  \n",
              "10326         0  \n",
              "14118         0  \n",
              "8852          0  \n",
              "8418          0  \n",
              "4967          0  \n",
              "14725         0  \n",
              "13802         0  \n",
              "3829          0  \n",
              "5332          0  \n",
              "5845          0  \n",
              "12288         1  \n",
              "9501          0  \n",
              "5305          0  \n",
              "4185          0  \n",
              "11911         0  \n",
              "1706          0  \n",
              "2978          0  \n",
              "2809          0  \n",
              "8370          0  \n",
              "5744          0  \n",
              "10442         1  \n",
              "2788          0  \n",
              "7797          0  \n",
              "11356         0  \n",
              "6749          0  \n",
              "9588          0  \n",
              "509           0  \n",
              "400           0  \n",
              "10557         0  \n",
              "1352          1  \n",
              "773           1  \n",
              "5308          0  \n",
              "8276          0  \n",
              "11642         0  \n",
              "1127          1  \n",
              "12423         0  \n",
              "1704          0  \n",
              "6721          0  \n",
              "8019          1  \n",
              "939           0  \n",
              "8510          0  \n",
              "7598          0  \n",
              "5346          0  \n",
              "14619         0  \n",
              "6222          0  \n",
              "5850          0  \n",
              "11557         0  \n",
              "5394          0  \n",
              "11227         0  \n",
              "13592         0  \n",
              "2179          1  \n",
              "10209         0  \n",
              "2758          0  \n",
              "11978         1  \n",
              "10756         1  \n",
              "4676          0  \n",
              "7040          0  \n",
              "887           0  \n",
              "8217          0  \n",
              "6665          0  \n",
              "4513          0  \n",
              "1641          0  \n",
              "9085          1  \n",
              "5075          0  \n",
              "8190          1  \n",
              "14622         0  \n",
              "4143          0  \n",
              "14768         0  \n",
              "5710          0  \n",
              "1545          0  \n",
              "6246          0  \n",
              "14689         0  \n",
              "13743         0  \n",
              "12372         0  \n",
              "10054         0  \n",
              "6125          0  \n",
              "817           0  \n",
              "1441          0  \n",
              "559           0  \n",
              "13154         0  \n",
              "2759          0  \n",
              "14033         1  "
            ]
          },
          "metadata": {
            "tags": []
          },
          "execution_count": 9
        }
      ]
    },
    {
      "cell_type": "code",
      "metadata": {
        "id": "M3s7JMRmrFXd"
      },
      "source": [
        "# Reset pandas display settings\n",
        "pd.reset_option('^display.', silent=True)"
      ],
      "execution_count": null,
      "outputs": []
    },
    {
      "cell_type": "markdown",
      "metadata": {
        "id": "SLUZbSzHrFXe"
      },
      "source": [
        "### Proporsi Variabel Target"
      ]
    },
    {
      "cell_type": "markdown",
      "metadata": {
        "id": "05WaFM62rFXe"
      },
      "source": [
        "<font size=\"3\">Berikutnya, akan dicek proporsi ulasan positif dan negatif pada data train.</font>"
      ]
    },
    {
      "cell_type": "code",
      "metadata": {
        "id": "DflK_F0mrFXf",
        "outputId": "8ee9f701-7ac3-40f0-d70c-05f298ef81cb"
      },
      "source": [
        "train.category.value_counts() # Imbalanced dataset"
      ],
      "execution_count": null,
      "outputs": [
        {
          "output_type": "execute_result",
          "data": {
            "text/plain": [
              "0    12839\n",
              "1     2017\n",
              "Name: category, dtype: int64"
            ]
          },
          "metadata": {
            "tags": []
          },
          "execution_count": 11
        }
      ]
    },
    {
      "cell_type": "code",
      "metadata": {
        "id": "Sb7tsvCprFXf"
      },
      "source": [
        "# Function to make a donut chart\n",
        "def donut(sizes, ax, angle=90, labels=None,colors=None, explode=None, shadow=None):\n",
        "\n",
        "    # Plot\n",
        "    ax.pie(sizes, colors = colors, labels=labels, autopct='%.1f%%', \n",
        "           startangle = angle, pctdistance=0.8, explode = explode, \n",
        "           wedgeprops=dict(width=0.4), shadow=shadow)\n",
        "\n",
        "    # Formatting\n",
        "    plt.axis('equal')  \n",
        "    plt.tight_layout()"
      ],
      "execution_count": null,
      "outputs": []
    },
    {
      "cell_type": "code",
      "metadata": {
        "id": "7sXsyrZvrFXg"
      },
      "source": [
        "# Plot arguments\n",
        "sizes = train.category.value_counts()\n",
        "labels = ['Review Buruk', 'Review Baik']\n",
        "colors = ['lightskyblue', 'lightcoral']\n",
        "explode = (0,0.1)"
      ],
      "execution_count": null,
      "outputs": []
    },
    {
      "cell_type": "code",
      "metadata": {
        "id": "pSLP3y5mrFXh"
      },
      "source": [
        "# plt.style.use('default')"
      ],
      "execution_count": null,
      "outputs": []
    },
    {
      "cell_type": "code",
      "metadata": {
        "scrolled": false,
        "id": "lhg95rPMrFXh",
        "outputId": "69b5cbf7-7378-4c0e-ccef-e6e32fe5acac"
      },
      "source": [
        "# Create axes\n",
        "f, ax = plt.subplots(figsize=(6,4))\n",
        "\n",
        "# plot donut\n",
        "donut(sizes, ax, 90, labels, colors=colors, explode=explode, shadow=True)\n",
        "ax.set_title('Review Category Proportions')\n",
        "\n",
        "plt.show()"
      ],
      "execution_count": null,
      "outputs": [
        {
          "output_type": "display_data",
          "data": {
            "image/png": "[encoded data removed]",
            "text/plain": [
              "<Figure size 432x288 with 1 Axes>"
            ]
          },
          "metadata": {
            "tags": []
          }
        }
      ]
    },
    {
      "cell_type": "markdown",
      "metadata": {
        "id": "mwvS5myHrFXh"
      },
      "source": [
        "## Ekplorasi Emoji Dalam Ulasan"
      ]
    },
    {
      "cell_type": "markdown",
      "metadata": {
        "id": "YiT--EmIrFXi"
      },
      "source": [
        "### Sample Ulasan Dengan Emoji"
      ]
    },
    {
      "cell_type": "code",
      "metadata": {
        "id": "Be7FSbZJrFXi"
      },
      "source": [
        "sample_emoji1 = train.review_text[4777]\n",
        "sample_emoji2 = train.review_text[7159]"
      ],
      "execution_count": null,
      "outputs": []
    },
    {
      "cell_type": "code",
      "metadata": {
        "id": "jRh8o4HUrFXi",
        "outputId": "49b302f7-d844-4940-84ac-bc06f7584048"
      },
      "source": [
        "display(sample_emoji1, sample_emoji2)"
      ],
      "execution_count": null,
      "outputs": [
        {
          "output_type": "display_data",
          "data": {
            "text/plain": [
              "'Ga ada jendela😂\\n'"
            ]
          },
          "metadata": {
            "tags": []
          }
        },
        {
          "output_type": "display_data",
          "data": {
            "text/plain": [
              "'lokasi... pelayanan...fasilitas... 👎🏻'"
            ]
          },
          "metadata": {
            "tags": []
          }
        }
      ]
    },
    {
      "cell_type": "code",
      "metadata": {
        "scrolled": true,
        "id": "MS9jAFbJrFXj",
        "outputId": "c7a5c43d-71cf-47e2-942f-2bd7463ce5db"
      },
      "source": [
        "demojized1, demojized2 = emoji.demojize(sample_emoji1), emoji.demojize(sample_emoji2)\n",
        "display(demojized1, demojized2)"
      ],
      "execution_count": null,
      "outputs": [
        {
          "output_type": "display_data",
          "data": {
            "text/plain": [
              "'Ga ada jendela:face_with_tears_of_joy:\\n'"
            ]
          },
          "metadata": {
            "tags": []
          }
        },
        {
          "output_type": "display_data",
          "data": {
            "text/plain": [
              "'lokasi... pelayanan...fasilitas... :thumbs_down_light_skin_tone:'"
            ]
          },
          "metadata": {
            "tags": []
          }
        }
      ]
    },
    {
      "cell_type": "markdown",
      "metadata": {
        "id": "eWe62DefrFXj"
      },
      "source": [
        "Di sini terlihat bahwa emoji yang telah dikonversi memiliki pattern sebagai berikut: <font size=\"3\">:[emoji_name]:</font>"
      ]
    },
    {
      "cell_type": "markdown",
      "metadata": {
        "id": "7Tf1ZnAcrFXj"
      },
      "source": [
        "Dapat digunakan library regex untuk mengidentifikasi pattern tersebut."
      ]
    },
    {
      "cell_type": "markdown",
      "metadata": {
        "id": "H0Rgx-4krFXk"
      },
      "source": [
        "### Melihat ulasan dengan emoji"
      ]
    },
    {
      "cell_type": "code",
      "metadata": {
        "id": "GJxBFkbMrFXk"
      },
      "source": [
        "# Both functions below will assist in retrieving text containing emojis.\n",
        "\n",
        "# Function to iterate over all review text (will return text if there is emoji)\n",
        "def is_emoji(text):\n",
        "    demojized_txt = emoji.demojize(text)\n",
        "    res = re.findall(':[a-zA-Z_]+:', demojized_txt)\n",
        "    if res:\n",
        "        return text # return original text if emoji is present\n",
        "    \n",
        "# Function to return row indexes of emoji reviews\n",
        "def emoji_indexes(series):\n",
        "    filtered = series.map(is_emoji).dropna()\n",
        "    return list(filtered.index)\n",
        "    "
      ],
      "execution_count": null,
      "outputs": []
    },
    {
      "cell_type": "code",
      "metadata": {
        "id": "0QtQqHshrFXk"
      },
      "source": [
        "# Row indexes for reviews that contain emoji\n",
        "train_emo_ix = emoji_indexes(train.review_text)\n",
        "test_emo_ix = emoji_indexes(test.review_text)"
      ],
      "execution_count": null,
      "outputs": []
    },
    {
      "cell_type": "code",
      "metadata": {
        "id": "L_7Fa_MDrFXl"
      },
      "source": [
        "# Only reviews that contain emoji\n",
        "train_emo_only = train.review_text.loc[train_emo_ix]\n",
        "test_emo_only = test.review_text.loc[test_emo_ix]"
      ],
      "execution_count": null,
      "outputs": []
    },
    {
      "cell_type": "code",
      "metadata": {
        "id": "i5Hy1Rm7rFXl",
        "outputId": "2e715659-2662-4665-d6af-0c0333f13a7f"
      },
      "source": [
        "# Change some display settings\n",
        "# pd.set_option('display.max_colwidth',None)\n",
        "\n",
        "# Show train text with emojis\n",
        "train[['review_text']].loc[train_emo_ix].head()"
      ],
      "execution_count": null,
      "outputs": [
        {
          "output_type": "execute_result",
          "data": {
            "text/html": [
              "<div>\n",
              "<style scoped>\n",
              "    .dataframe tbody tr th:only-of-type {\n",
              "        vertical-align: middle;\n",
              "    }\n",
              "\n",
              "    .dataframe tbody tr th {\n",
              "        vertical-align: top;\n",
              "    }\n",
              "\n",
              "    .dataframe thead th {\n",
              "        text-align: right;\n",
              "    }\n",
              "</style>\n",
              "<table border=\"1\" class=\"dataframe\">\n",
              "  <thead>\n",
              "    <tr style=\"text-align: right;\">\n",
              "      <th></th>\n",
              "      <th>review_text</th>\n",
              "    </tr>\n",
              "  </thead>\n",
              "  <tbody>\n",
              "    <tr>\n",
              "      <th>99</th>\n",
              "      <td>shower mati deh 😥\\nreceptionisep kurang senyum 😏</td>\n",
              "    </tr>\n",
              "    <tr>\n",
              "      <th>107</th>\n",
              "      <td>handuknya gak ada . remote AC rusak cuma bisa ...</td>\n",
              "    </tr>\n",
              "    <tr>\n",
              "      <th>115</th>\n",
              "      <td>banyak hewan item2 kecil.. jadi bikin kurang n...</td>\n",
              "    </tr>\n",
              "    <tr>\n",
              "      <th>117</th>\n",
              "      <td>kasurnya bunyi,  sprei banyak semutnya seperti...</td>\n",
              "    </tr>\n",
              "    <tr>\n",
              "      <th>118</th>\n",
              "      <td>hotel jadul, dari masuk lobi bau lembab menyen...</td>\n",
              "    </tr>\n",
              "  </tbody>\n",
              "</table>\n",
              "</div>"
            ],
            "text/plain": [
              "                                           review_text\n",
              "99    shower mati deh 😥\\nreceptionisep kurang senyum 😏\n",
              "107  handuknya gak ada . remote AC rusak cuma bisa ...\n",
              "115  banyak hewan item2 kecil.. jadi bikin kurang n...\n",
              "117  kasurnya bunyi,  sprei banyak semutnya seperti...\n",
              "118  hotel jadul, dari masuk lobi bau lembab menyen..."
            ]
          },
          "metadata": {
            "tags": []
          },
          "execution_count": 22
        }
      ]
    },
    {
      "cell_type": "markdown",
      "metadata": {
        "id": "fu6GMNXYrFXm"
      },
      "source": [
        "### Ekstraksi Emoji Set (List of unique emojis)"
      ]
    },
    {
      "cell_type": "code",
      "metadata": {
        "id": "VlzCcjeHrFXm"
      },
      "source": [
        "def unique_emojis(series):\n",
        "    emojis = [] # list to store all emojis in series\n",
        "    demojized = series.map(emoji.demojize)\n",
        "    for text in demojized:\n",
        "        emojis.extend(re.findall(':[a-z_]+:', text))\n",
        "    \n",
        "    emojis = set(emojis) # keep uniques\n",
        "    emojis = [emoji.emojize(emo) for emo in emojis]\n",
        "    \n",
        "    return emojis\n",
        "    "
      ],
      "execution_count": null,
      "outputs": []
    },
    {
      "cell_type": "code",
      "metadata": {
        "scrolled": true,
        "id": "Qpt6oK9orFXn",
        "outputId": "858fafdc-81c4-4e61-9177-ad48f0212678"
      },
      "source": [
        "train_emo_set = unique_emojis(train_emo_only)\n",
        "print(f'Count of unique emojis in train: {len(train_emo_set)}')\n",
        "train_emo_set"
      ],
      "execution_count": null,
      "outputs": [
        {
          "output_type": "stream",
          "text": [
            "Count of unique emojis in train: 73\n"
          ],
          "name": "stdout"
        },
        {
          "output_type": "execute_result",
          "data": {
            "text/plain": [
              "['😟',\n",
              " '😢',\n",
              " '😰',\n",
              " '🐜',\n",
              " '😓',\n",
              " '😏',\n",
              " '☺',\n",
              " '🙏🏻',\n",
              " '😬',\n",
              " '🙄',\n",
              " '🙏',\n",
              " '👍🏻',\n",
              " '😐',\n",
              " '😫',\n",
              " '🤦🏻\\u200d♂️',\n",
              " '❤',\n",
              " '🤣',\n",
              " '😘',\n",
              " '👍',\n",
              " '😒',\n",
              " '😝',\n",
              " '😑',\n",
              " '😧',\n",
              " '😖',\n",
              " '😁',\n",
              " '👀',\n",
              " '😆',\n",
              " '💔',\n",
              " '👎',\n",
              " '😷',\n",
              " '☹️',\n",
              " '❤️',\n",
              " '🖕',\n",
              " '😉',\n",
              " '😃',\n",
              " '😔',\n",
              " '😦',\n",
              " '😇',\n",
              " '🤔',\n",
              " '😤',\n",
              " '☺️',\n",
              " '😌',\n",
              " '😜',\n",
              " '🤢',\n",
              " '👏',\n",
              " '😠',\n",
              " '😱',\n",
              " '👎🏻',\n",
              " '😵',\n",
              " '👣',\n",
              " '👍🏽',\n",
              " '🤗',\n",
              " '😨',\n",
              " '😕',\n",
              " '😲',\n",
              " '😂',\n",
              " '😥',\n",
              " '😅',\n",
              " '😡',\n",
              " '⭐',\n",
              " '😊',\n",
              " '😈',\n",
              " '😭',\n",
              " '😣',\n",
              " '😩',\n",
              " '💯',\n",
              " '👇',\n",
              " '😀',\n",
              " '😞',\n",
              " '🤮',\n",
              " '😪',\n",
              " '😄',\n",
              " '🙁']"
            ]
          },
          "metadata": {
            "tags": []
          },
          "execution_count": 24
        }
      ]
    },
    {
      "cell_type": "code",
      "metadata": {
        "scrolled": true,
        "id": "F0CK7xn3rFXo",
        "outputId": "1d72ecec-7d6b-4f35-c52c-15df86ffcd80"
      },
      "source": [
        "test_emo_set = unique_emojis(test_emo_only)\n",
        "print(f'Count of unique emojis in test: {len(test_emo_set)}')\n",
        "test_emo_set"
      ],
      "execution_count": null,
      "outputs": [
        {
          "output_type": "stream",
          "text": [
            "Count of unique emojis in test: 46\n"
          ],
          "name": "stdout"
        },
        {
          "output_type": "execute_result",
          "data": {
            "text/plain": [
              "['😟',\n",
              " '😢',\n",
              " '🙄',\n",
              " '😰',\n",
              " '☺',\n",
              " '😏',\n",
              " '🤘',\n",
              " '🙏',\n",
              " '👿',\n",
              " '👍🏻',\n",
              " '❤',\n",
              " '😘',\n",
              " '👍',\n",
              " '😒',\n",
              " '😑',\n",
              " '😁',\n",
              " '😆',\n",
              " '😷',\n",
              " '👎',\n",
              " '☹️',\n",
              " '😇',\n",
              " '😉',\n",
              " '😔',\n",
              " '🤔',\n",
              " '☔',\n",
              " '😌',\n",
              " '👏',\n",
              " '👎🏻',\n",
              " '♥',\n",
              " '😕',\n",
              " '😂',\n",
              " '😥',\n",
              " '😅',\n",
              " '😡',\n",
              " '⭐',\n",
              " '😊',\n",
              " '😈',\n",
              " '😭',\n",
              " '😣',\n",
              " '😩',\n",
              " '😯',\n",
              " '😀',\n",
              " '😞',\n",
              " '🤮',\n",
              " '😪',\n",
              " '😄']"
            ]
          },
          "metadata": {
            "tags": []
          },
          "execution_count": 25
        }
      ]
    },
    {
      "cell_type": "code",
      "metadata": {
        "id": "JPiWSFmPrFXp",
        "outputId": "d37c204d-f6f1-44c7-c35e-6ec5f86eb135"
      },
      "source": [
        "# Does all emojis in test exist in train?\n",
        "len([_ for emo in test_emo_set if emo in train_emo_set])"
      ],
      "execution_count": null,
      "outputs": [
        {
          "output_type": "execute_result",
          "data": {
            "text/plain": [
              "41"
            ]
          },
          "metadata": {
            "tags": []
          },
          "execution_count": 26
        }
      ]
    },
    {
      "cell_type": "markdown",
      "metadata": {
        "id": "43Bsi-_orFXp"
      },
      "source": [
        "<font size=3>Dari 46 emoji unik pada data test, hanya 41 emoji yang muncul dalam data train.</font>"
      ]
    },
    {
      "cell_type": "markdown",
      "metadata": {
        "id": "MzqMKXXsrFXq"
      },
      "source": [
        "### Proporsi Ulasan Dengan Emoji & Distribusi Kelas Emoji Pada Train"
      ]
    },
    {
      "cell_type": "markdown",
      "metadata": {
        "id": "rMK1In7KrFXq"
      },
      "source": [
        "### A. Train Data"
      ]
    },
    {
      "cell_type": "code",
      "metadata": {
        "id": "WgrWkxMJrFXq",
        "outputId": "5a153d09-246e-4621-9ed2-9b20c5beebfb"
      },
      "source": [
        "# Reuse the is_emoji function from before.\n",
        "train['emoji'] = train.review_text.map(lambda x:'has emoji' if is_emoji(x) else 'no emoji')\n",
        "train.head()\n",
        "            "
      ],
      "execution_count": null,
      "outputs": [
        {
          "output_type": "execute_result",
          "data": {
            "text/html": [
              "<div>\n",
              "<style scoped>\n",
              "    .dataframe tbody tr th:only-of-type {\n",
              "        vertical-align: middle;\n",
              "    }\n",
              "\n",
              "    .dataframe tbody tr th {\n",
              "        vertical-align: top;\n",
              "    }\n",
              "\n",
              "    .dataframe thead th {\n",
              "        text-align: right;\n",
              "    }\n",
              "</style>\n",
              "<table border=\"1\" class=\"dataframe\">\n",
              "  <thead>\n",
              "    <tr style=\"text-align: right;\">\n",
              "      <th></th>\n",
              "      <th>review_id</th>\n",
              "      <th>review_text</th>\n",
              "      <th>category</th>\n",
              "      <th>emoji</th>\n",
              "    </tr>\n",
              "  </thead>\n",
              "  <tbody>\n",
              "    <tr>\n",
              "      <th>0</th>\n",
              "      <td>0fc651bfdd38a3b4ba19ef9d0d1e92e3</td>\n",
              "      <td>Penginapannya rapi, bersih, suasana tenang, pe...</td>\n",
              "      <td>1</td>\n",
              "      <td>no emoji</td>\n",
              "    </tr>\n",
              "    <tr>\n",
              "      <th>1</th>\n",
              "      <td>7d8cb2e465c5602e51c1ba8710e8ff16</td>\n",
              "      <td>wifi tidak sampai kamar, tidak tersedia heater...</td>\n",
              "      <td>0</td>\n",
              "      <td>no emoji</td>\n",
              "    </tr>\n",
              "    <tr>\n",
              "      <th>2</th>\n",
              "      <td>1f4447c73e5e1aac462d05b0ecbd5a55</td>\n",
              "      <td>Lantai kamar mandi kotor, bau, dan seperti sdh...</td>\n",
              "      <td>0</td>\n",
              "      <td>no emoji</td>\n",
              "    </tr>\n",
              "    <tr>\n",
              "      <th>3</th>\n",
              "      <td>b9aefbfb0debbfff43f8b268c82b43c0</td>\n",
              "      <td>Wc jorok.. Kasur tidak dibersihkan,, handuk ti...</td>\n",
              "      <td>0</td>\n",
              "      <td>no emoji</td>\n",
              "    </tr>\n",
              "    <tr>\n",
              "      <th>4</th>\n",
              "      <td>e2afef18bd695fae43d4d53b8c547bd4</td>\n",
              "      <td>bocor lagi</td>\n",
              "      <td>0</td>\n",
              "      <td>no emoji</td>\n",
              "    </tr>\n",
              "  </tbody>\n",
              "</table>\n",
              "</div>"
            ],
            "text/plain": [
              "                          review_id  \\\n",
              "0  0fc651bfdd38a3b4ba19ef9d0d1e92e3   \n",
              "1  7d8cb2e465c5602e51c1ba8710e8ff16   \n",
              "2  1f4447c73e5e1aac462d05b0ecbd5a55   \n",
              "3  b9aefbfb0debbfff43f8b268c82b43c0   \n",
              "4  e2afef18bd695fae43d4d53b8c547bd4   \n",
              "\n",
              "                                         review_text  category     emoji  \n",
              "0  Penginapannya rapi, bersih, suasana tenang, pe...         1  no emoji  \n",
              "1  wifi tidak sampai kamar, tidak tersedia heater...         0  no emoji  \n",
              "2  Lantai kamar mandi kotor, bau, dan seperti sdh...         0  no emoji  \n",
              "3  Wc jorok.. Kasur tidak dibersihkan,, handuk ti...         0  no emoji  \n",
              "4                                         bocor lagi         0  no emoji  "
            ]
          },
          "metadata": {
            "tags": []
          },
          "execution_count": 27
        }
      ]
    },
    {
      "cell_type": "code",
      "metadata": {
        "id": "3DaQgmJorFXq",
        "outputId": "4bfc478a-3104-4a77-c9f4-a64b3fc56700"
      },
      "source": [
        "# Count of emoji rows\n",
        "has_emoji = (train['emoji']=='has emoji')\n",
        "print(f'Number of reviews that contain emoji: {sum(has_emoji)}')"
      ],
      "execution_count": null,
      "outputs": [
        {
          "output_type": "stream",
          "text": [
            "Number of reviews that contain emoji: 418\n"
          ],
          "name": "stdout"
        }
      ]
    },
    {
      "cell_type": "code",
      "metadata": {
        "id": "4tBIbFXprFXr",
        "outputId": "99cdb06d-131c-4170-8c71-6e81d7b0134f"
      },
      "source": [
        "# Count of categories for reviews that has emoji.\n",
        "tr_has_emoji_counts = train.emoji.value_counts()\n",
        "tr_has_emoji_counts"
      ],
      "execution_count": null,
      "outputs": [
        {
          "output_type": "execute_result",
          "data": {
            "text/plain": [
              "no emoji     14438\n",
              "has emoji      418\n",
              "Name: emoji, dtype: int64"
            ]
          },
          "metadata": {
            "tags": []
          },
          "execution_count": 29
        }
      ]
    },
    {
      "cell_type": "markdown",
      "metadata": {
        "id": "kb-FOQ4LrFXr"
      },
      "source": [
        "<font size=3> Kesimpulan:\n",
        "- 14438 ulasan pada data train tidak memiliki emoji\n",
        "- 418 ulasan pada data train memiliki emoji"
      ]
    },
    {
      "cell_type": "code",
      "metadata": {
        "id": "dPaDjdoErFXs",
        "outputId": "66f12dcd-eabb-4f01-cb57-b4fc9c4210c0"
      },
      "source": [
        "# Class distribution of emoji reviews\n",
        "emoji_classes = train[train.emoji=='has emoji'].category.value_counts()\n",
        "emoji_classes"
      ],
      "execution_count": null,
      "outputs": [
        {
          "output_type": "execute_result",
          "data": {
            "text/plain": [
              "0    364\n",
              "1     54\n",
              "Name: category, dtype: int64"
            ]
          },
          "metadata": {
            "tags": []
          },
          "execution_count": 30
        }
      ]
    },
    {
      "cell_type": "markdown",
      "metadata": {
        "id": "3_7LVeeYrFXs"
      },
      "source": [
        "### B. Test Data "
      ]
    },
    {
      "cell_type": "code",
      "metadata": {
        "id": "xURmYUrurFXs",
        "outputId": "9e89b667-6afa-4da4-d0a4-7278dfda1f77"
      },
      "source": [
        "# Since test data has no labels, we can only see whether each review has an emoji i.e. no class distribution.\n",
        "test['emoji'] = test.review_text.map(lambda x:'has emoji' if is_emoji(x) else 'no emoji')\n",
        "test.head()"
      ],
      "execution_count": null,
      "outputs": [
        {
          "output_type": "execute_result",
          "data": {
            "text/html": [
              "<div>\n",
              "<style scoped>\n",
              "    .dataframe tbody tr th:only-of-type {\n",
              "        vertical-align: middle;\n",
              "    }\n",
              "\n",
              "    .dataframe tbody tr th {\n",
              "        vertical-align: top;\n",
              "    }\n",
              "\n",
              "    .dataframe thead th {\n",
              "        text-align: right;\n",
              "    }\n",
              "</style>\n",
              "<table border=\"1\" class=\"dataframe\">\n",
              "  <thead>\n",
              "    <tr style=\"text-align: right;\">\n",
              "      <th></th>\n",
              "      <th>review_id</th>\n",
              "      <th>review_text</th>\n",
              "      <th>emoji</th>\n",
              "    </tr>\n",
              "  </thead>\n",
              "  <tbody>\n",
              "    <tr>\n",
              "      <th>0</th>\n",
              "      <td>7302180ac7160f04a405d8aa7bd6beb8</td>\n",
              "      <td>Kasur rusak, punggung saya sakit, kasurnya ga ...</td>\n",
              "      <td>no emoji</td>\n",
              "    </tr>\n",
              "    <tr>\n",
              "      <th>1</th>\n",
              "      <td>3184c670e170f565c7522eb76a320ba1</td>\n",
              "      <td>gerah</td>\n",
              "      <td>no emoji</td>\n",
              "    </tr>\n",
              "    <tr>\n",
              "      <th>2</th>\n",
              "      <td>e33abf6bb5d5a9a77c339043b1725dc8</td>\n",
              "      <td>tempat ridur atas bawah.. ac nya pararel, tdk ...</td>\n",
              "      <td>no emoji</td>\n",
              "    </tr>\n",
              "    <tr>\n",
              "      <th>3</th>\n",
              "      <td>061d388950340070a6ac03fabc9027b0</td>\n",
              "      <td>ac kurang dingin, tidak ada snack sperti di foto</td>\n",
              "      <td>no emoji</td>\n",
              "    </tr>\n",
              "    <tr>\n",
              "      <th>4</th>\n",
              "      <td>e62d87c348674b6c06856964f3ab16b8</td>\n",
              "      <td>Lumayan untuk guest house dengan standart harg...</td>\n",
              "      <td>no emoji</td>\n",
              "    </tr>\n",
              "  </tbody>\n",
              "</table>\n",
              "</div>"
            ],
            "text/plain": [
              "                          review_id  \\\n",
              "0  7302180ac7160f04a405d8aa7bd6beb8   \n",
              "1  3184c670e170f565c7522eb76a320ba1   \n",
              "2  e33abf6bb5d5a9a77c339043b1725dc8   \n",
              "3  061d388950340070a6ac03fabc9027b0   \n",
              "4  e62d87c348674b6c06856964f3ab16b8   \n",
              "\n",
              "                                         review_text     emoji  \n",
              "0  Kasur rusak, punggung saya sakit, kasurnya ga ...  no emoji  \n",
              "1                                              gerah  no emoji  \n",
              "2  tempat ridur atas bawah.. ac nya pararel, tdk ...  no emoji  \n",
              "3   ac kurang dingin, tidak ada snack sperti di foto  no emoji  \n",
              "4  Lumayan untuk guest house dengan standart harg...  no emoji  "
            ]
          },
          "metadata": {
            "tags": []
          },
          "execution_count": 31
        }
      ]
    },
    {
      "cell_type": "code",
      "metadata": {
        "id": "WOcgbt4wrFXt",
        "outputId": "3cc20f71-7205-4780-8bb6-e6d982a3e2b1"
      },
      "source": [
        "# Count of categories for reviews that has emoji\n",
        "ts_has_emoji_counts = test.emoji.value_counts()\n",
        "ts_has_emoji_counts"
      ],
      "execution_count": null,
      "outputs": [
        {
          "output_type": "execute_result",
          "data": {
            "text/plain": [
              "no emoji     3623\n",
              "has emoji      91\n",
              "Name: emoji, dtype: int64"
            ]
          },
          "metadata": {
            "tags": []
          },
          "execution_count": 32
        }
      ]
    },
    {
      "cell_type": "markdown",
      "metadata": {
        "id": "61SWAVQQrFXt"
      },
      "source": [
        "<font size=3> Kesimpulan:\n",
        "- 3623 ulasan pada data test tidak memiliki emoji\n",
        "- 91 ulasan pada data test memiliki emoji"
      ]
    },
    {
      "cell_type": "markdown",
      "metadata": {
        "id": "ILIs_dNLrFXt"
      },
      "source": [
        "<font size=3> Plot hasil penemuan:"
      ]
    },
    {
      "cell_type": "code",
      "metadata": {
        "id": "3eseVgpprFXt"
      },
      "source": [
        "# plt.style.use('default')"
      ],
      "execution_count": null,
      "outputs": []
    },
    {
      "cell_type": "code",
      "metadata": {
        "id": "ahFFHAsZrFXt",
        "outputId": "82464836-e41d-4ff9-bb27-610eb835b834"
      },
      "source": [
        "# Alter a few params\n",
        "mpl.rcParams['xtick.labelsize'] = 25\n",
        "mpl.rcParams['ytick.labelsize'] = 25\n",
        "mpl.rcParams['axes.titlesize'] = 25\n",
        "mpl.rcParams['font.size'] = 25\n",
        "\n",
        "# Create axes\n",
        "f, (ax,ax2) = plt.subplots(1,2,figsize=(20,10))\n",
        "\n",
        "# Data to be visualized\n",
        "no_emo = [14438, 3623]\n",
        "has_emo = [418, 91]\n",
        "ix = [0,1]\n",
        "lab = ['Train', 'Test']\n",
        "\n",
        "# Stacked bar\n",
        "ax.bar(lab, no_emo, width=0.8, label='No Emoji') # no emo\n",
        "ax.bar(lab, has_emo, width=0.8, label='Has Emoji', bottom=no_emo) # has emo\n",
        "ax.set_title('Emoji Proportions in Train & Test Reviews', fontsize=25)\n",
        "ax.set_ylabel('Count of rows', fontsize=25)\n",
        "ax.legend(prop={'size':20})\n",
        "\n",
        "# Text on bar\n",
        "for i,p in enumerate(ax.patches):\n",
        "    width = p.get_width()\n",
        "    height = p.get_height()\n",
        "    x, y = p.get_xy() \n",
        "    ax.annotate(f'{height} rows', (x+width/2, height/2 if i<=1 else y+height*1.05), ha='center', fontsize=20)\n",
        "    \n",
        "# Donut chart\n",
        "sizes, labels = emoji_classes.values, ['Buruk (0)', 'Baik (1)']\n",
        "donut(sizes,ax2,60,labels, colors=colors, explode=None, shadow=True)\n",
        "ax2.set_title('Emoji Class Distribution - Train Dataset')\n",
        "    \n",
        "# Show plot    \n",
        "plt.tight_layout()\n",
        "plt.show()"
      ],
      "execution_count": null,
      "outputs": [
        {
          "output_type": "display_data",
          "data": {
            "image/png": "[encoded data removed]",
            "text/plain": [
              "<Figure size 1440x720 with 2 Axes>"
            ]
          },
          "metadata": {
            "tags": []
          }
        }
      ]
    },
    {
      "cell_type": "code",
      "metadata": {
        "colab": {
          "base_uri": "https://localhost:8080/",
          "height": 184
        },
        "id": "i5nNpIo0ylc5",
        "outputId": "f36be876-2981-46c1-af2b-5c632d366862"
      },
      "source": [
        "del train['emoji']\n",
        "del test['emoji']"
      ],
      "execution_count": null,
      "outputs": [
        {
          "output_type": "error",
          "ename": "NameError",
          "evalue": "ignored",
          "traceback": [
            "\u001b[0;31m---------------------------------------------------------------------------\u001b[0m",
            "\u001b[0;31mNameError\u001b[0m                                 Traceback (most recent call last)",
            "\u001b[0;32m<ipython-input-4-fefe3c2d9f74>\u001b[0m in \u001b[0;36m<module>\u001b[0;34m()\u001b[0m\n\u001b[0;32m----> 1\u001b[0;31m \u001b[0;32mdel\u001b[0m \u001b[0mtrain\u001b[0m\u001b[0;34m[\u001b[0m\u001b[0;34m'emoji'\u001b[0m\u001b[0;34m]\u001b[0m\u001b[0;34m\u001b[0m\u001b[0;34m\u001b[0m\u001b[0m\n\u001b[0m\u001b[1;32m      2\u001b[0m \u001b[0;32mdel\u001b[0m \u001b[0mtest\u001b[0m\u001b[0;34m[\u001b[0m\u001b[0;34m'emoji'\u001b[0m\u001b[0;34m]\u001b[0m\u001b[0;34m\u001b[0m\u001b[0;34m\u001b[0m\u001b[0m\n",
            "\u001b[0;31mNameError\u001b[0m: name 'train' is not defined"
          ]
        }
      ]
    },
    {
      "cell_type": "markdown",
      "metadata": {
        "id": "RlfupH4xrFXu"
      },
      "source": [
        "## Corpus"
      ]
    },
    {
      "cell_type": "markdown",
      "metadata": {
        "id": "bsovEM_urFXu"
      },
      "source": [
        "<font size=3>Pada bagian ini, akan dibuat sebuah korpus untuk masing-masing ulasan pada train dan test.</font>"
      ]
    },
    {
      "cell_type": "code",
      "metadata": {
        "id": "8wMymtZ3rFXu"
      },
      "source": [
        "def clean_string(text):\n",
        "    cleaned = re.sub('[^a-zA-Z]+',' ',text).lower() # exclude numbers\n",
        "    return cleaned"
      ],
      "execution_count": null,
      "outputs": []
    },
    {
      "cell_type": "code",
      "metadata": {
        "id": "XPYuckJTrFXu"
      },
      "source": [
        "def make_corpus(column):\n",
        "    \n",
        "    corpus_list = []\n",
        "    additional_stop = ['yg', 'nya']\n",
        "    all_stopwords = stopwords.words('indonesian') + additional_stop\n",
        "    \n",
        "    for text in column:\n",
        "        cleaned = clean_string(text)\n",
        "        cleaned_list = cleaned.split(' ')\n",
        "        \n",
        "        # Stem words to shortest form\n",
        "        stemindo = StemmerFactory().create_stemmer()\n",
        "        stemmed_list = map(stemindo.stem, cleaned_list)\n",
        "        \n",
        "        # Remove stopwords\n",
        "        stemmed_list = [word for word in cleaned_list if word not in all_stopwords]\n",
        "        corpus_list.extend(stemmed_list)\n",
        "        \n",
        "    # transform list of words into 1 body of text\n",
        "    corpus = ' '.join(corpus_list)\n",
        "    corpus = re.sub('[ ]+',' ',corpus) # replace double whitespace with one\n",
        "        \n",
        "    return corpus"
      ],
      "execution_count": null,
      "outputs": []
    },
    {
      "cell_type": "code",
      "metadata": {
        "colab": {
          "base_uri": "https://localhost:8080/",
          "height": 201
        },
        "id": "BInLvvJfrFXu",
        "outputId": "68c236fe-099d-4554-9eb5-b88cd35238af"
      },
      "source": [
        "# Takes a while\n",
        "train_corpus = make_corpus(train.review_text)\n",
        "test_corpus = make_corpus(test.review_text)"
      ],
      "execution_count": null,
      "outputs": [
        {
          "output_type": "error",
          "ename": "NameError",
          "evalue": "ignored",
          "traceback": [
            "\u001b[0;31m---------------------------------------------------------------------------\u001b[0m",
            "\u001b[0;31mNameError\u001b[0m                                 Traceback (most recent call last)",
            "\u001b[0;32m<ipython-input-3-865eda5a5daa>\u001b[0m in \u001b[0;36m<module>\u001b[0;34m()\u001b[0m\n\u001b[1;32m      1\u001b[0m \u001b[0;31m# Takes a while\u001b[0m\u001b[0;34m\u001b[0m\u001b[0;34m\u001b[0m\u001b[0;34m\u001b[0m\u001b[0m\n\u001b[0;32m----> 2\u001b[0;31m \u001b[0mtrain_corpus\u001b[0m \u001b[0;34m=\u001b[0m \u001b[0mmake_corpus\u001b[0m\u001b[0;34m(\u001b[0m\u001b[0mtrain\u001b[0m\u001b[0;34m.\u001b[0m\u001b[0mreview_text\u001b[0m\u001b[0;34m)\u001b[0m\u001b[0;34m\u001b[0m\u001b[0;34m\u001b[0m\u001b[0m\n\u001b[0m\u001b[1;32m      3\u001b[0m \u001b[0mtest_corpus\u001b[0m \u001b[0;34m=\u001b[0m \u001b[0mmake_corpus\u001b[0m\u001b[0;34m(\u001b[0m\u001b[0mtest\u001b[0m\u001b[0;34m.\u001b[0m\u001b[0mreview_text\u001b[0m\u001b[0;34m)\u001b[0m\u001b[0;34m\u001b[0m\u001b[0;34m\u001b[0m\u001b[0m\n",
            "\u001b[0;31mNameError\u001b[0m: name 'train' is not defined"
          ]
        }
      ]
    },
    {
      "cell_type": "code",
      "metadata": {
        "id": "1YBfCy69rFXv"
      },
      "source": [
        "train_corpus_set = set(train_corpus.split(' '))\n",
        "test_corpus_set = set(test_corpus.split(' '))\n",
        "\n",
        "print(f'Count of unique words in train: {len(train_corpus_set)}')\n",
        "print(f'Count of unique words in test: {len(test_corpus_set)}')"
      ],
      "execution_count": null,
      "outputs": []
    },
    {
      "cell_type": "markdown",
      "metadata": {
        "id": "VRtBRIDorFXv"
      },
      "source": [
        "### Visualize Corpus"
      ]
    },
    {
      "cell_type": "code",
      "metadata": {
        "id": "GoFeeLgRrFXv"
      },
      "source": [
        "nltk.download('punkt') # for freqdist"
      ],
      "execution_count": null,
      "outputs": []
    },
    {
      "cell_type": "code",
      "metadata": {
        "id": "rFnQfKs6rFXv"
      },
      "source": [
        "# function for freqdist\n",
        "def word_freq(corpus, top=5):\n",
        "    tokenized_word = word_tokenize(corpus)\n",
        "    freqdist = FreqDist(tokenized_word)\n",
        "    freqdist = freqdist.most_common(top) # list of tuples \n",
        "    \n",
        "    # decompose into label and frequency\n",
        "    label = [tup[0] for tup in freqdist]\n",
        "    freq = [tup[1] for tup in freqdist]\n",
        "    df = pd.DataFrame({'word':label, 'freq':freq})\n",
        "    \n",
        "    return df"
      ],
      "execution_count": null,
      "outputs": []
    },
    {
      "cell_type": "code",
      "metadata": {
        "id": "AeNQ5ZYarFXv"
      },
      "source": [
        "train_freq = word_freq(train_corpus, top=10)\n",
        "test_freq = word_freq(test_corpus, top=10)"
      ],
      "execution_count": null,
      "outputs": []
    },
    {
      "cell_type": "code",
      "metadata": {
        "scrolled": false,
        "id": "FrM5dXF_rFXw"
      },
      "source": [
        "# Config params\n",
        "plt.style.use('default')\n",
        "sns.set(style='ticks', palette='Set2')\n",
        "mpl.rcParams['axes.titlesize'] = 20\n",
        "mpl.rcParams['axes.titlepad'] = 20\n",
        "\n",
        "# Compare plots of train and test corpus\n",
        "f, (ax1, ax2) = plt.subplots(1,2,figsize=(15,5))\n",
        "\n",
        "sns.barplot(x='word', y='freq', data=train_freq, ax=ax1)\n",
        "ax1.set_title('Word Frequency in Train Data')\n",
        "\n",
        "sns.barplot(x='word', y='freq', data=test_freq, ax=ax2)\n",
        "ax2.set_title('Word Frequency in Test Data')\n",
        "\n",
        "# sns.despine(ax=ax1)\n",
        "# sns.despine(ax=ax2)\n",
        "plt.show()"
      ],
      "execution_count": null,
      "outputs": []
    },
    {
      "cell_type": "code",
      "metadata": {
        "id": "ReMapm2LrFXw"
      },
      "source": [
        "# Stopwords\n",
        "additional_stop = ['nya','yg','ga','gk','tp']\n",
        "all_stopwords = stopwords.words('indonesian') + additional_stop"
      ],
      "execution_count": null,
      "outputs": []
    },
    {
      "cell_type": "code",
      "metadata": {
        "id": "SrP1GAoLrFXw"
      },
      "source": [
        "# Cloud for train corpus\n",
        "wordcloud = WordCloud(stopwords=all_stopwords,max_font_size=50, max_words=100, background_color=\"white\").generate(train_corpus)\n",
        "plt.figure()\n",
        "plt.imshow(wordcloud, interpolation=\"bilinear\")\n",
        "plt.axis(\"off\")\n",
        "plt.show()"
      ],
      "execution_count": null,
      "outputs": []
    },
    {
      "cell_type": "code",
      "metadata": {
        "scrolled": true,
        "id": "4hum-u0orFXw"
      },
      "source": [
        "# Cloud for test corpus\n",
        "wordcloud = WordCloud(stopwords=all_stopwords,max_font_size=50, max_words=100, background_color=\"white\").generate(test_corpus)\n",
        "plt.figure()\n",
        "plt.imshow(wordcloud, interpolation=\"bilinear\")\n",
        "plt.axis(\"off\")\n",
        "plt.show()"
      ],
      "execution_count": null,
      "outputs": []
    },
    {
      "cell_type": "markdown",
      "metadata": {
        "id": "A3oL4n7bsWm2"
      },
      "source": [
        "## Ulasan non-alphanumeric"
      ]
    },
    {
      "cell_type": "markdown",
      "metadata": {
        "id": "S_-XFrk5svPM"
      },
      "source": [
        "Akan dicari id ulasan yang tidak bersifat alphanumeric.\r\n",
        "\r\n"
      ]
    },
    {
      "cell_type": "code",
      "metadata": {
        "id": "BYbBHcBltb1-"
      },
      "source": [
        "# Clear Non-Alphanumeric and lowercase\r\n",
        "edatrain = train.copy()\r\n",
        "edatest = test.copy()\r\n",
        "edatrain['review_text'] = edatrain['review_text'].apply(lambda x : re.sub('[^a-zA-Z0-9]',' ',x).lower())\r\n",
        "edatest['review_text'] = edatest['review_text'].apply(lambda x : re.sub('[^a-zA-Z0-9]',' ',x).lower())"
      ],
      "execution_count": null,
      "outputs": []
    },
    {
      "cell_type": "code",
      "metadata": {
        "colab": {
          "base_uri": "https://localhost:8080/"
        },
        "id": "xSu57VgWswkI",
        "outputId": "988f9c78-0eb9-42b1-f3b7-e35a349a3e43"
      },
      "source": [
        "# Pembuatan list kosong untuk menginkorporasi 'review_id' yang berisikan konten non-alphanumeric.\r\n",
        "problematic = []\r\n",
        "\r\n",
        "# Pembersihan whitespace dari seluruh record dataset.\r\n",
        "antinan = edatrain.copy()\r\n",
        "antinan['string'] = antinan['review_text'].apply(lambda x : re.sub('\\s','',x))\r\n",
        "\r\n",
        "# Pencarian seluruh 'review_id' yang tidak memiliki apapun di dalam recordnya.\r\n",
        "errors = 0\r\n",
        "for i in range (0,len(antinan.index)):\r\n",
        "    if antinan['string'][i] == '':\r\n",
        "        problematic.append(antinan['review_id'][i])\r\n",
        "        errors += 1\r\n",
        "\r\n",
        "print('Found ', errors, ' errors!')\r\n",
        "problematic"
      ],
      "execution_count": null,
      "outputs": [
        {
          "output_type": "stream",
          "text": [
            "Found  21  errors!\n"
          ],
          "name": "stdout"
        },
        {
          "output_type": "execute_result",
          "data": {
            "text/plain": [
              "['ae3f2336b8246b6214e325e561488b97',\n",
              " 'cc059398cf5fd3d110967f0b27fad73f',\n",
              " '7c65dbafe1efd03da5356a5e77e19c72',\n",
              " '617c6594518e1342b1976829604d1a4c',\n",
              " 'd4fa1af0924e45e2363e56c14de94e89',\n",
              " 'a2f3073833374832609071e0b5bcd2bb',\n",
              " '0ab8e42b7454ed01e09858437009f817',\n",
              " 'b9e70aef0ed3986f01c036a60370b008',\n",
              " '048091bb5c97447e025a6b4e79cb1e53',\n",
              " '606825e4db9876c06153cc923cea9a8a',\n",
              " 'f5ed27898ab4e134179aeca4d17f621a',\n",
              " 'a0eefc096248721cbfd5a86921458d28',\n",
              " '65a010da47a8d91ae429b8817eff0209',\n",
              " '1b2513e42654c096053bb446224af202',\n",
              " '35b773e77ae8aef0b3b9c50f9973e495',\n",
              " '163adeba41019c0c417918a808fb3fd9',\n",
              " '98743941ffce62470ce18de7903e52af',\n",
              " '61d384887358af1a3ae849f60abd2194',\n",
              " 'a3772e8bb6fa5f88e83e543379d36d15',\n",
              " '7ecfea6c743491983657e8893e4ddac7',\n",
              " 'ac195cf5ea17eb1d79b3abcc57cffcd0']"
            ]
          },
          "metadata": {
            "tags": []
          },
          "execution_count": 52
        }
      ]
    },
    {
      "cell_type": "markdown",
      "metadata": {
        "id": "V45lt9Nztvgw"
      },
      "source": [
        "Setelah menemukan id ulasan yang bermasalah, selanjutnya akan ditampilkan ulasan-ulasan tersebut."
      ]
    },
    {
      "cell_type": "code",
      "metadata": {
        "colab": {
          "base_uri": "https://localhost:8080/",
          "height": 669
        },
        "id": "uBO--V-Cs0rj",
        "outputId": "465175b2-fb3e-438d-9a96-dd584f6a9792"
      },
      "source": [
        "problematicreviews = train[edatrain['review_id'].apply(lambda x : x in problematic)]\r\n",
        "problematicreviews"
      ],
      "execution_count": null,
      "outputs": [
        {
          "output_type": "execute_result",
          "data": {
            "text/html": [
              "<div>\n",
              "<style scoped>\n",
              "    .dataframe tbody tr th:only-of-type {\n",
              "        vertical-align: middle;\n",
              "    }\n",
              "\n",
              "    .dataframe tbody tr th {\n",
              "        vertical-align: top;\n",
              "    }\n",
              "\n",
              "    .dataframe thead th {\n",
              "        text-align: right;\n",
              "    }\n",
              "</style>\n",
              "<table border=\"1\" class=\"dataframe\">\n",
              "  <thead>\n",
              "    <tr style=\"text-align: right;\">\n",
              "      <th></th>\n",
              "      <th>review_id</th>\n",
              "      <th>review_text</th>\n",
              "      <th>category</th>\n",
              "    </tr>\n",
              "  </thead>\n",
              "  <tbody>\n",
              "    <tr>\n",
              "      <th>952</th>\n",
              "      <td>ae3f2336b8246b6214e325e561488b97</td>\n",
              "      <td>~</td>\n",
              "      <td>0</td>\n",
              "    </tr>\n",
              "    <tr>\n",
              "      <th>3193</th>\n",
              "      <td>cc059398cf5fd3d110967f0b27fad73f</td>\n",
              "      <td>👎🏻👎🏻👎🏻👎🏻👎🏻👎🏻👎🏻👎🏻👎🏻</td>\n",
              "      <td>0</td>\n",
              "    </tr>\n",
              "    <tr>\n",
              "      <th>5286</th>\n",
              "      <td>7c65dbafe1efd03da5356a5e77e19c72</td>\n",
              "      <td>😐</td>\n",
              "      <td>0</td>\n",
              "    </tr>\n",
              "    <tr>\n",
              "      <th>5469</th>\n",
              "      <td>617c6594518e1342b1976829604d1a4c</td>\n",
              "      <td>.. ..\\n</td>\n",
              "      <td>0</td>\n",
              "    </tr>\n",
              "    <tr>\n",
              "      <th>6536</th>\n",
              "      <td>d4fa1af0924e45e2363e56c14de94e89</td>\n",
              "      <td></td>\n",
              "      <td>0</td>\n",
              "    </tr>\n",
              "    <tr>\n",
              "      <th>7031</th>\n",
              "      <td>a2f3073833374832609071e0b5bcd2bb</td>\n",
              "      <td>------</td>\n",
              "      <td>0</td>\n",
              "    </tr>\n",
              "    <tr>\n",
              "      <th>8191</th>\n",
              "      <td>0ab8e42b7454ed01e09858437009f817</td>\n",
              "      <td>😔</td>\n",
              "      <td>0</td>\n",
              "    </tr>\n",
              "    <tr>\n",
              "      <th>8435</th>\n",
              "      <td>b9e70aef0ed3986f01c036a60370b008</td>\n",
              "      <td>😞</td>\n",
              "      <td>0</td>\n",
              "    </tr>\n",
              "    <tr>\n",
              "      <th>8523</th>\n",
              "      <td>048091bb5c97447e025a6b4e79cb1e53</td>\n",
              "      <td>?</td>\n",
              "      <td>0</td>\n",
              "    </tr>\n",
              "    <tr>\n",
              "      <th>8552</th>\n",
              "      <td>606825e4db9876c06153cc923cea9a8a</td>\n",
              "      <td>😢</td>\n",
              "      <td>0</td>\n",
              "    </tr>\n",
              "    <tr>\n",
              "      <th>9359</th>\n",
              "      <td>f5ed27898ab4e134179aeca4d17f621a</td>\n",
              "      <td>:(</td>\n",
              "      <td>0</td>\n",
              "    </tr>\n",
              "    <tr>\n",
              "      <th>10218</th>\n",
              "      <td>a0eefc096248721cbfd5a86921458d28</td>\n",
              "      <td>+</td>\n",
              "      <td>0</td>\n",
              "    </tr>\n",
              "    <tr>\n",
              "      <th>10569</th>\n",
              "      <td>65a010da47a8d91ae429b8817eff0209</td>\n",
              "      <td>😍🙏</td>\n",
              "      <td>0</td>\n",
              "    </tr>\n",
              "    <tr>\n",
              "      <th>10713</th>\n",
              "      <td>1b2513e42654c096053bb446224af202</td>\n",
              "      <td>!!</td>\n",
              "      <td>0</td>\n",
              "    </tr>\n",
              "    <tr>\n",
              "      <th>10771</th>\n",
              "      <td>35b773e77ae8aef0b3b9c50f9973e495</td>\n",
              "      <td>😥</td>\n",
              "      <td>0</td>\n",
              "    </tr>\n",
              "    <tr>\n",
              "      <th>10836</th>\n",
              "      <td>163adeba41019c0c417918a808fb3fd9</td>\n",
              "      <td>😕</td>\n",
              "      <td>0</td>\n",
              "    </tr>\n",
              "    <tr>\n",
              "      <th>10883</th>\n",
              "      <td>98743941ffce62470ce18de7903e52af</td>\n",
              "      <td>🖕</td>\n",
              "      <td>0</td>\n",
              "    </tr>\n",
              "    <tr>\n",
              "      <th>12084</th>\n",
              "      <td>61d384887358af1a3ae849f60abd2194</td>\n",
              "      <td>....</td>\n",
              "      <td>0</td>\n",
              "    </tr>\n",
              "    <tr>\n",
              "      <th>13411</th>\n",
              "      <td>a3772e8bb6fa5f88e83e543379d36d15</td>\n",
              "      <td>👎🏻👎🏻👎🏻👎🏻👎🏻👎🏻👎🏻</td>\n",
              "      <td>0</td>\n",
              "    </tr>\n",
              "    <tr>\n",
              "      <th>14171</th>\n",
              "      <td>7ecfea6c743491983657e8893e4ddac7</td>\n",
              "      <td>😣</td>\n",
              "      <td>0</td>\n",
              "    </tr>\n",
              "    <tr>\n",
              "      <th>14578</th>\n",
              "      <td>ac195cf5ea17eb1d79b3abcc57cffcd0</td>\n",
              "      <td>:’(</td>\n",
              "      <td>0</td>\n",
              "    </tr>\n",
              "  </tbody>\n",
              "</table>\n",
              "</div>"
            ],
            "text/plain": [
              "                              review_id         review_text  category\n",
              "952    ae3f2336b8246b6214e325e561488b97                   ~         0\n",
              "3193   cc059398cf5fd3d110967f0b27fad73f  👎🏻👎🏻👎🏻👎🏻👎🏻👎🏻👎🏻👎🏻👎🏻         0\n",
              "5286   7c65dbafe1efd03da5356a5e77e19c72                   😐         0\n",
              "5469   617c6594518e1342b1976829604d1a4c             .. ..\\n         0\n",
              "6536   d4fa1af0924e45e2363e56c14de94e89                             0\n",
              "7031   a2f3073833374832609071e0b5bcd2bb              ------         0\n",
              "8191   0ab8e42b7454ed01e09858437009f817                   😔         0\n",
              "8435   b9e70aef0ed3986f01c036a60370b008                   😞         0\n",
              "8523   048091bb5c97447e025a6b4e79cb1e53                   ?         0\n",
              "8552   606825e4db9876c06153cc923cea9a8a                   😢         0\n",
              "9359   f5ed27898ab4e134179aeca4d17f621a                  :(         0\n",
              "10218  a0eefc096248721cbfd5a86921458d28                   +         0\n",
              "10569  65a010da47a8d91ae429b8817eff0209                  😍🙏         0\n",
              "10713  1b2513e42654c096053bb446224af202                  !!         0\n",
              "10771  35b773e77ae8aef0b3b9c50f9973e495                   😥         0\n",
              "10836  163adeba41019c0c417918a808fb3fd9                   😕         0\n",
              "10883  98743941ffce62470ce18de7903e52af                   🖕         0\n",
              "12084  61d384887358af1a3ae849f60abd2194                ....         0\n",
              "13411  a3772e8bb6fa5f88e83e543379d36d15      👎🏻👎🏻👎🏻👎🏻👎🏻👎🏻👎🏻         0\n",
              "14171  7ecfea6c743491983657e8893e4ddac7                   😣         0\n",
              "14578  ac195cf5ea17eb1d79b3abcc57cffcd0                 :’(         0"
            ]
          },
          "metadata": {
            "tags": []
          },
          "execution_count": 53
        }
      ]
    },
    {
      "cell_type": "markdown",
      "metadata": {
        "id": "S8L_egNqvpfO"
      },
      "source": [
        "## Panjang Ulasan"
      ]
    },
    {
      "cell_type": "markdown",
      "metadata": {
        "id": "AAn6hh_vvswt"
      },
      "source": [
        "Cari panjang ulasan dari \"train.csv\" dan \"test.csv\" dengan menggunakan tokenization yang akan dilakukan di bawah ini."
      ]
    },
    {
      "cell_type": "code",
      "metadata": {
        "id": "OOkRC8vltoqw"
      },
      "source": [
        "# Tokenization\r\n",
        "edatrain['tokenized'] = edatrain['review_text'].apply(lambda x : x.split())\r\n",
        "edatest['tokenized'] = edatest['review_text'].apply(lambda x : x.split())"
      ],
      "execution_count": null,
      "outputs": []
    },
    {
      "cell_type": "code",
      "metadata": {
        "colab": {
          "base_uri": "https://localhost:8080/"
        },
        "id": "2vHMjaU8vqBg",
        "outputId": "1a3a7eda-e22f-4948-ab18-dbde37e48eaf"
      },
      "source": [
        "# Pencarian panjang dari tiap list yang ada pada kolom 'tokenized'\r\n",
        "edatrain['length_of_review'] = edatrain['tokenized'].apply(lambda x : len(x))\r\n",
        "edatest['length_of_review'] = edatest['tokenized'].apply(lambda x : len(x))\r\n",
        "\r\n",
        "# Menunjukkan kolom 'review_id' serta 'length_of_review'\r\n",
        "print(edatrain[['review_id','length_of_review']], '\\n', edatest[['review_id','length_of_review']])"
      ],
      "execution_count": null,
      "outputs": [
        {
          "output_type": "stream",
          "text": [
            "                              review_id  length_of_review\n",
            "0      0fc651bfdd38a3b4ba19ef9d0d1e92e3                29\n",
            "1      7d8cb2e465c5602e51c1ba8710e8ff16                26\n",
            "2      1f4447c73e5e1aac462d05b0ecbd5a55                36\n",
            "3      b9aefbfb0debbfff43f8b268c82b43c0                 8\n",
            "4      e2afef18bd695fae43d4d53b8c547bd4                 2\n",
            "...                                 ...               ...\n",
            "14851  5ed96732e4f1e1e69dfb8669cf507587                 5\n",
            "14852  b0692bdf4926ee0d58c2d9a0f28b0d62                 3\n",
            "14853  5217f5f284066f232d7b3c3bbd3cccd2                 9\n",
            "14854  31ca5a04ccc0dae4eaafc91c9822bede                 4\n",
            "14855  aadb614310e5ceb79b4c68d14f8dab8a                18\n",
            "\n",
            "[14856 rows x 2 columns] \n",
            "                              review_id  length_of_review\n",
            "0     7302180ac7160f04a405d8aa7bd6beb8                12\n",
            "1     3184c670e170f565c7522eb76a320ba1                 1\n",
            "2     e33abf6bb5d5a9a77c339043b1725dc8                28\n",
            "3     061d388950340070a6ac03fabc9027b0                 9\n",
            "4     e62d87c348674b6c06856964f3ab16b8                 8\n",
            "...                                ...               ...\n",
            "3709  4fac4c272d9194021f921138ebd5b389                 5\n",
            "3710  4fabd4722dd4074841f9656f75105f09                 4\n",
            "3711  44ff89997547d54cccb2a33776181240                21\n",
            "3712  c46cf84e3665a10199a539fee919edd6                14\n",
            "3713  82d1677f2aa50eb79fb4e6f496384ef2                 5\n",
            "\n",
            "[3714 rows x 2 columns]\n"
          ],
          "name": "stdout"
        }
      ]
    },
    {
      "cell_type": "markdown",
      "metadata": {
        "id": "Kd9K6pmOv42L"
      },
      "source": [
        "Setelah didapatkan panjang dari tiap ulasan untuk tiap id, maka dapat dilihat karakteristik panjang ulasan untuk kedua dataset yang akan membantu untuk EDA serta pertimbangan konstruksi model."
      ]
    },
    {
      "cell_type": "code",
      "metadata": {
        "colab": {
          "base_uri": "https://localhost:8080/"
        },
        "id": "MPigZN6Xv2Ad",
        "outputId": "7ea0fa09-6dee-4538-f40e-f3d22ba98ad3"
      },
      "source": [
        "# Metrik untuk rekapitulasi terkait panjang ulasan.\r\n",
        "maxtrain = max(edatrain['length_of_review'])\r\n",
        "avgtrain = sum(edatrain['length_of_review'])/len(edatrain.index)\r\n",
        "mintrain = min(edatrain['length_of_review'])\r\n",
        "devtrain = np.std(edatrain['length_of_review'])\r\n",
        "maxtest = max(edatest['length_of_review'])\r\n",
        "avgtest = sum(edatest['length_of_review'])/len(edatest.index)\r\n",
        "mintest = min(edatest['length_of_review'])\r\n",
        "devtest = np.std(edatest['length_of_review'])\r\n",
        "\r\n",
        "print('Rekapitulasi dari panjang ulasan:\\n')\r\n",
        "print('- Train -')\r\n",
        "print('Max = ', maxtrain, '\\nMin = ', mintrain, '\\nAverage = ', avgtrain,'\\nStdDev = ', devtrain)\r\n",
        "print('\\n- Test -')\r\n",
        "print('Max = ', maxtest, '\\nMin = ', mintest, '\\nAverage = ', avgtest, '\\nStdDev = ', devtest)"
      ],
      "execution_count": null,
      "outputs": [
        {
          "output_type": "stream",
          "text": [
            "Rekapitulasi dari panjang ulasan:\n",
            "\n",
            "- Train -\n",
            "Max =  125 \n",
            "Min =  0 \n",
            "Average =  16.63031771674744 \n",
            "StdDev =  14.374959213962784\n",
            "\n",
            "- Test -\n",
            "Max =  134 \n",
            "Min =  0 \n",
            "Average =  16.274367259019925 \n",
            "StdDev =  14.19017897201063\n"
          ],
          "name": "stdout"
        }
      ]
    },
    {
      "cell_type": "markdown",
      "metadata": {
        "id": "U2s1-Jg7wBLP"
      },
      "source": [
        "Untuk bisa lebih memahami distribusi dari panjang ulasan yang terdapat di dalam kedua dataset, dilakukan plotting dalam bentuk histogram."
      ]
    },
    {
      "cell_type": "code",
      "metadata": {
        "colab": {
          "base_uri": "https://localhost:8080/",
          "height": 1000
        },
        "id": "tR89i6AbwJt2",
        "outputId": "2f0a634c-19ac-40e3-91d2-c642a11a1fa1"
      },
      "source": [
        "# Penggunaan library plotly untuk menggambarkan Histogram frekuensi dari panjang ulasan.\r\n",
        "fig1 = px.histogram(x = edatrain['length_of_review'], nbins = 200)\r\n",
        "fig2 = px.histogram(x = edatest['length_of_review'], nbins = 200)\r\n",
        "fig1.show()\r\n",
        "fig2.show()"
      ],
      "execution_count": null,
      "outputs": [
        {
          "output_type": "display_data",
          "data": {
            "text/html": [
              "<html>\n",
              "<head><meta charset=\"utf-8\" /></head>\n",
              "<body>\n",
              "    <div>\n",
              "            <script src=\"https://cdnjs.cloudflare.com/ajax/libs/mathjax/2.7.5/MathJax.js?config=TeX-AMS-MML_SVG\"></script><script type=\"text/javascript\">if (window.MathJax) {MathJax.Hub.Config({SVG: {font: \"STIX-Web\"}});}</script>\n",
              "                <script type=\"text/javascript\">window.PlotlyConfig = {MathJaxConfig: 'local'};</script>\n",
              "        <script src=\"https://cdn.plot.ly/plotly-latest.min.js\"></script>    \n",
              "            <div id=\"0bc7258c-11c9-4698-81b3-974f348ef82f\" class=\"plotly-graph-div\" style=\"height:525px; width:100%;\"></div>\n",
              "            <script type=\"text/javascript\">\n",
              "                \n",
              "                    window.PLOTLYENV=window.PLOTLYENV || {};\n",
              "                    \n",
              "                if (document.getElementById(\"0bc7258c-11c9-4698-81b3-974f348ef82f\")) {\n",
              "                    Plotly.newPlot(\n",
              "                        '0bc7258c-11c9-4698-81b3-974f348ef82f',\n",
              "                        [{\"alignmentgroup\": \"True\", \"bingroup\": \"x\", \"hoverlabel\": {\"namelength\": 0}, \"hovertemplate\": \"x=%{x}<br>count=%{y}\", \"legendgroup\": \"\", \"marker\": {\"color\": \"#636efa\"}, \"name\": \"\", \"nbinsx\": 200, \"offsetgroup\": \"\", \"orientation\": \"v\", \"showlegend\": false, \"type\": \"histogram\", \"x\": [29, 26, 36, 8, 2, 3, 10, 15, 7, 3, 27, 11, 24, 25, 10, 4, 7, 14, 14, 10, 15, 8, 2, 10, 15, 4, 27, 16, 5, 54, 55, 7, 28, 18, 3, 60, 3, 11, 14, 23, 43, 23, 39, 9, 27, 7, 9, 46, 3, 8, 16, 39, 8, 10, 7, 5, 4, 20, 4, 11, 15, 19, 8, 40, 36, 3, 2, 9, 8, 4, 4, 9, 23, 7, 44, 15, 7, 8, 31, 17, 5, 8, 54, 7, 20, 4, 5, 2, 3, 3, 5, 17, 21, 7, 2, 51, 10, 17, 35, 6, 11, 22, 19, 18, 65, 19, 3, 41, 10, 6, 60, 15, 16, 6, 2, 16, 8, 11, 38, 10, 21, 41, 15, 22, 14, 44, 22, 2, 19, 5, 4, 16, 7, 23, 27, 28, 5, 24, 5, 9, 17, 6, 9, 51, 50, 6, 9, 6, 14, 11, 9, 5, 34, 24, 8, 2, 9, 6, 33, 19, 17, 4, 36, 11, 9, 6, 12, 10, 23, 8, 4, 5, 4, 4, 6, 18, 15, 8, 23, 8, 47, 19, 20, 8, 22, 12, 7, 22, 3, 1, 22, 11, 4, 36, 6, 11, 11, 14, 30, 14, 55, 7, 11, 19, 13, 16, 22, 6, 11, 30, 10, 11, 36, 40, 11, 46, 14, 16, 2, 9, 31, 12, 9, 8, 47, 4, 5, 18, 26, 4, 32, 9, 1, 21, 22, 9, 5, 4, 22, 2, 10, 55, 12, 54, 17, 21, 24, 56, 24, 1, 17, 13, 7, 13, 11, 3, 13, 7, 13, 60, 10, 35, 9, 25, 13, 15, 8, 4, 22, 3, 6, 7, 11, 23, 29, 13, 11, 7, 11, 2, 10, 8, 2, 11, 32, 13, 6, 3, 45, 26, 25, 5, 17, 3, 16, 21, 2, 18, 2, 11, 59, 3, 18, 58, 10, 18, 30, 12, 59, 17, 11, 1, 30, 7, 3, 14, 12, 10, 10, 29, 3, 11, 4, 9, 9, 11, 18, 14, 10, 12, 12, 5, 26, 5, 12, 18, 6, 55, 11, 14, 9, 24, 6, 20, 60, 1, 51, 13, 62, 43, 10, 12, 2, 17, 20, 17, 15, 29, 20, 8, 7, 20, 5, 17, 15, 31, 8, 48, 6, 14, 10, 27, 41, 46, 18, 8, 8, 22, 32, 2, 6, 12, 22, 13, 5, 10, 15, 10, 5, 12, 6, 27, 53, 32, 7, 21, 27, 2, 23, 8, 2, 15, 5, 1, 3, 22, 7, 8, 11, 6, 49, 14, 3, 3, 7, 10, 21, 11, 56, 18, 14, 10, 3, 5, 3, 14, 14, 12, 5, 6, 55, 8, 6, 9, 49, 59, 8, 2, 4, 17, 4, 16, 3, 57, 14, 18, 8, 2, 21, 13, 6, 13, 9, 29, 14, 28, 15, 15, 14, 16, 3, 8, 13, 26, 7, 6, 63, 12, 46, 11, 15, 13, 2, 22, 2, 6, 18, 5, 55, 15, 13, 17, 2, 5, 4, 12, 11, 17, 38, 5, 15, 28, 13, 31, 18, 12, 7, 52, 10, 3, 53, 12, 7, 5, 18, 22, 11, 5, 1, 18, 56, 54, 33, 4, 13, 57, 47, 5, 7, 61, 12, 5, 10, 16, 44, 19, 2, 58, 9, 2, 3, 6, 18, 7, 6, 14, 13, 5, 10, 32, 21, 7, 13, 11, 20, 15, 30, 23, 6, 42, 3, 24, 24, 4, 7, 6, 31, 36, 3, 7, 11, 58, 9, 7, 15, 34, 1, 4, 9, 2, 6, 55, 27, 2, 19, 6, 26, 62, 6, 7, 15, 18, 56, 6, 9, 11, 7, 9, 11, 9, 32, 12, 62, 12, 7, 19, 49, 17, 14, 4, 2, 10, 6, 4, 15, 18, 19, 14, 17, 14, 45, 9, 10, 14, 20, 15, 5, 6, 14, 3, 45, 28, 7, 28, 8, 17, 8, 23, 17, 5, 26, 30, 45, 13, 15, 6, 7, 17, 11, 57, 9, 2, 5, 9, 29, 9, 8, 45, 11, 23, 3, 6, 8, 9, 6, 6, 27, 30, 14, 20, 3, 5, 24, 12, 7, 12, 56, 5, 16, 18, 15, 54, 28, 44, 28, 29, 13, 8, 3, 23, 23, 16, 11, 9, 3, 15, 9, 11, 2, 42, 5, 13, 7, 3, 9, 16, 3, 8, 10, 6, 61, 5, 34, 15, 18, 6, 5, 5, 5, 13, 15, 21, 24, 25, 20, 12, 6, 4, 47, 11, 4, 3, 3, 18, 12, 10, 1, 17, 2, 33, 7, 14, 37, 15, 5, 3, 31, 13, 15, 31, 10, 6, 27, 53, 13, 16, 11, 17, 10, 7, 13, 7, 4, 1, 13, 10, 7, 33, 82, 19, 2, 7, 15, 4, 7, 12, 4, 7, 22, 4, 9, 15, 7, 17, 57, 2, 56, 4, 6, 5, 5, 5, 28, 24, 10, 5, 8, 57, 7, 6, 11, 4, 4, 11, 3, 19, 16, 34, 6, 9, 5, 3, 5, 13, 44, 16, 3, 9, 7, 10, 36, 15, 4, 54, 6, 5, 6, 15, 14, 18, 6, 16, 10, 39, 12, 7, 9, 9, 10, 5, 4, 14, 6, 22, 3, 3, 13, 1, 41, 15, 33, 18, 7, 11, 35, 10, 5, 14, 11, 32, 16, 11, 10, 30, 20, 32, 3, 6, 36, 10, 11, 15, 41, 17, 25, 21, 11, 16, 3, 25, 38, 20, 28, 10, 40, 28, 25, 3, 59, 30, 4, 34, 16, 6, 13, 11, 37, 42, 26, 13, 27, 5, 3, 48, 16, 6, 7, 2, 34, 9, 21, 22, 28, 54, 6, 17, 6, 4, 55, 28, 31, 8, 20, 23, 22, 20, 10, 9, 53, 3, 2, 17, 9, 14, 1, 11, 6, 9, 27, 17, 4, 17, 9, 11, 37, 3, 6, 7, 17, 5, 12, 23, 6, 8, 14, 19, 21, 10, 8, 9, 6, 4, 0, 102, 23, 25, 10, 24, 2, 26, 23, 56, 13, 39, 18, 21, 3, 31, 6, 2, 11, 55, 62, 19, 26, 16, 22, 2, 5, 1, 12, 29, 6, 11, 3, 7, 6, 35, 9, 14, 34, 28, 15, 8, 64, 13, 19, 2, 30, 11, 12, 5, 3, 7, 10, 19, 13, 23, 28, 12, 12, 55, 13, 37, 3, 54, 13, 15, 14, 2, 8, 8, 2, 13, 58, 14, 15, 3, 11, 1, 7, 6, 14, 18, 4, 23, 9, 23, 5, 8, 7, 16, 14, 11, 45, 9, 54, 8, 8, 4, 23, 9, 6, 15, 3, 13, 1, 6, 20, 3, 50, 12, 12, 12, 14, 2, 9, 4, 15, 7, 24, 8, 2, 3, 4, 12, 1, 5, 23, 25, 16, 3, 7, 14, 2, 6, 3, 5, 19, 13, 12, 7, 7, 17, 30, 11, 11, 15, 35, 58, 9, 6, 22, 9, 2, 62, 42, 36, 38, 9, 8, 4, 2, 15, 1, 5, 7, 2, 16, 11, 7, 4, 36, 5, 27, 9, 31, 9, 36, 14, 21, 15, 28, 2, 13, 10, 13, 5, 11, 7, 19, 25, 37, 3, 16, 55, 11, 4, 2, 5, 20, 4, 21, 8, 10, 11, 7, 20, 1, 23, 15, 19, 6, 8, 35, 13, 8, 25, 26, 11, 7, 18, 9, 37, 24, 42, 4, 51, 4, 15, 5, 4, 5, 10, 23, 16, 37, 22, 9, 16, 38, 5, 7, 3, 1, 12, 49, 26, 14, 47, 8, 44, 59, 52, 12, 4, 14, 11, 12, 25, 8, 53, 5, 6, 15, 14, 3, 30, 49, 21, 19, 20, 27, 6, 18, 11, 7, 2, 8, 2, 6, 21, 6, 5, 10, 4, 11, 7, 17, 9, 24, 4, 3, 61, 33, 8, 13, 6, 32, 5, 7, 9, 19, 6, 30, 5, 16, 6, 41, 19, 11, 2, 19, 36, 7, 10, 24, 54, 7, 3, 28, 5, 14, 24, 5, 2, 5, 36, 4, 29, 25, 13, 21, 12, 2, 37, 51, 30, 12, 15, 9, 27, 28, 4, 5, 52, 4, 2, 44, 12, 74, 45, 6, 4, 33, 4, 62, 9, 2, 25, 53, 3, 60, 56, 16, 29, 16, 8, 8, 6, 8, 34, 25, 33, 6, 23, 11, 14, 9, 20, 11, 8, 16, 22, 12, 20, 8, 4, 7, 8, 29, 5, 53, 11, 26, 21, 5, 15, 60, 5, 12, 27, 5, 2, 9, 23, 4, 13, 28, 10, 10, 11, 5, 39, 3, 5, 8, 3, 18, 17, 7, 31, 12, 18, 18, 5, 20, 6, 16, 11, 6, 4, 30, 5, 5, 4, 6, 7, 16, 24, 4, 4, 2, 2, 24, 11, 20, 57, 2, 37, 12, 13, 3, 8, 14, 5, 10, 4, 30, 23, 13, 6, 26, 8, 11, 25, 11, 15, 8, 46, 6, 12, 11, 5, 5, 11, 11, 20, 28, 5, 20, 16, 7, 11, 6, 29, 12, 3, 10, 6, 18, 5, 15, 3, 27, 8, 13, 8, 19, 25, 16, 16, 15, 6, 3, 6, 14, 20, 13, 38, 12, 13, 15, 7, 5, 9, 23, 5, 10, 33, 8, 22, 3, 4, 12, 6, 10, 10, 14, 19, 36, 14, 5, 5, 5, 12, 3, 8, 32, 19, 43, 5, 16, 6, 37, 10, 10, 3, 9, 20, 20, 7, 17, 6, 21, 22, 6, 46, 20, 12, 15, 20, 8, 3, 3, 4, 3, 23, 10, 11, 5, 11, 11, 5, 5, 17, 6, 3, 2, 9, 4, 29, 19, 10, 2, 6, 5, 6, 7, 17, 1, 23, 7, 6, 7, 7, 6, 9, 8, 6, 24, 15, 6, 7, 13, 3, 34, 46, 57, 6, 23, 20, 11, 3, 4, 16, 2, 20, 16, 5, 17, 54, 57, 1, 20, 45, 7, 42, 17, 3, 10, 5, 35, 6, 55, 16, 10, 15, 8, 9, 11, 23, 5, 5, 9, 21, 5, 9, 5, 9, 5, 39, 53, 46, 4, 25, 16, 3, 6, 51, 3, 3, 8, 40, 2, 17, 20, 4, 7, 12, 13, 31, 59, 4, 4, 6, 18, 59, 17, 46, 31, 28, 4, 13, 39, 15, 4, 11, 32, 3, 15, 4, 11, 6, 10, 14, 8, 29, 12, 13, 48, 16, 16, 8, 20, 54, 14, 11, 19, 51, 7, 11, 9, 13, 11, 10, 3, 11, 6, 3, 15, 19, 3, 18, 15, 3, 2, 2, 6, 5, 13, 11, 20, 48, 25, 18, 13, 21, 7, 5, 3, 22, 9, 9, 6, 2, 36, 46, 26, 14, 52, 61, 3, 32, 3, 11, 5, 19, 26, 2, 9, 13, 12, 14, 12, 18, 4, 55, 40, 1, 19, 30, 9, 11, 3, 8, 48, 4, 16, 26, 23, 23, 6, 14, 57, 10, 15, 46, 53, 4, 8, 16, 31, 8, 7, 38, 33, 12, 13, 1, 3, 9, 8, 16, 27, 21, 9, 30, 55, 4, 39, 7, 4, 21, 7, 23, 11, 11, 5, 45, 12, 10, 18, 6, 15, 52, 2, 11, 10, 20, 5, 5, 38, 4, 5, 8, 11, 7, 1, 6, 15, 39, 3, 2, 10, 8, 15, 11, 7, 50, 11, 8, 34, 6, 6, 52, 11, 41, 12, 4, 10, 30, 11, 10, 15, 5, 8, 19, 29, 5, 14, 52, 48, 9, 4, 10, 26, 38, 17, 12, 12, 9, 32, 21, 19, 2, 12, 40, 6, 12, 7, 32, 4, 12, 13, 2, 19, 17, 12, 28, 23, 2, 7, 43, 9, 8, 35, 6, 50, 1, 8, 42, 4, 5, 6, 44, 11, 14, 20, 8, 6, 11, 9, 18, 8, 9, 37, 3, 6, 27, 3, 13, 3, 1, 5, 7, 11, 6, 2, 15, 23, 50, 6, 5, 8, 22, 7, 4, 14, 5, 16, 24, 4, 7, 18, 23, 16, 17, 17, 11, 64, 3, 18, 18, 24, 12, 4, 38, 13, 2, 6, 8, 1, 10, 23, 23, 38, 11, 1, 6, 3, 65, 10, 5, 34, 4, 7, 56, 61, 2, 13, 4, 27, 14, 18, 27, 7, 5, 4, 2, 59, 69, 8, 14, 6, 9, 47, 13, 7, 19, 9, 14, 7, 13, 43, 56, 3, 4, 21, 11, 13, 14, 4, 9, 14, 4, 30, 8, 57, 13, 23, 15, 4, 23, 1, 4, 17, 3, 24, 21, 34, 7, 5, 41, 21, 54, 24, 3, 7, 4, 27, 11, 11, 18, 26, 1, 18, 50, 27, 8, 11, 7, 8, 9, 14, 48, 8, 21, 5, 5, 12, 13, 3, 14, 9, 31, 3, 32, 17, 10, 8, 13, 18, 14, 11, 11, 14, 28, 6, 3, 3, 14, 8, 15, 8, 3, 8, 5, 10, 9, 39, 13, 14, 15, 8, 47, 57, 5, 9, 40, 23, 33, 13, 47, 7, 10, 8, 35, 16, 8, 6, 5, 7, 16, 19, 20, 32, 14, 7, 6, 4, 11, 6, 17, 28, 5, 15, 30, 7, 35, 2, 54, 9, 41, 56, 3, 29, 3, 26, 7, 14, 12, 20, 35, 11, 23, 13, 6, 43, 33, 35, 57, 20, 5, 44, 5, 9, 21, 7, 14, 12, 24, 4, 19, 22, 16, 22, 2, 6, 11, 22, 1, 15, 11, 29, 16, 15, 7, 6, 40, 8, 4, 6, 56, 7, 4, 3, 20, 13, 4, 5, 2, 27, 3, 7, 13, 23, 37, 5, 7, 7, 8, 7, 2, 36, 42, 12, 12, 19, 6, 12, 3, 8, 25, 2, 17, 32, 40, 31, 5, 4, 18, 4, 43, 8, 26, 23, 9, 8, 25, 21, 19, 7, 23, 38, 3, 10, 3, 8, 2, 30, 19, 39, 16, 30, 3, 33, 50, 11, 40, 22, 17, 66, 4, 5, 8, 8, 5, 17, 8, 17, 12, 11, 53, 7, 4, 2, 35, 7, 4, 52, 26, 10, 16, 3, 35, 5, 34, 13, 8, 7, 30, 4, 7, 18, 18, 2, 42, 9, 57, 3, 9, 3, 3, 6, 10, 29, 21, 16, 4, 9, 33, 10, 9, 52, 4, 11, 53, 18, 31, 51, 24, 38, 17, 6, 5, 20, 20, 31, 4, 9, 17, 8, 6, 38, 6, 40, 4, 7, 34, 20, 56, 5, 7, 12, 45, 3, 8, 18, 6, 7, 12, 14, 14, 16, 11, 3, 11, 6, 6, 7, 40, 55, 10, 7, 1, 1, 5, 13, 27, 46, 40, 19, 53, 54, 16, 4, 4, 16, 9, 5, 15, 5, 13, 9, 3, 33, 17, 34, 3, 8, 21, 7, 11, 13, 4, 59, 34, 4, 19, 7, 6, 11, 10, 22, 7, 18, 18, 4, 6, 4, 8, 2, 10, 10, 3, 1, 8, 23, 53, 3, 17, 33, 28, 2, 7, 8, 14, 10, 16, 12, 6, 7, 16, 5, 21, 53, 16, 56, 61, 3, 10, 5, 3, 4, 22, 5, 21, 13, 13, 2, 11, 8, 23, 3, 37, 22, 45, 16, 28, 55, 6, 49, 23, 5, 37, 24, 16, 11, 29, 15, 19, 9, 13, 9, 13, 27, 10, 5, 4, 5, 28, 6, 14, 20, 39, 12, 9, 14, 8, 22, 64, 5, 10, 1, 12, 5, 6, 5, 21, 25, 15, 9, 12, 8, 14, 8, 9, 10, 12, 2, 20, 4, 50, 50, 6, 1, 21, 18, 3, 6, 32, 8, 14, 12, 25, 10, 3, 6, 8, 60, 67, 5, 22, 7, 20, 10, 7, 10, 17, 9, 3, 7, 13, 18, 34, 57, 7, 20, 31, 24, 3, 8, 12, 7, 15, 26, 28, 9, 5, 13, 15, 17, 34, 38, 14, 37, 18, 14, 28, 19, 55, 6, 15, 17, 9, 17, 9, 34, 5, 53, 13, 32, 7, 24, 34, 7, 21, 19, 11, 17, 4, 26, 17, 17, 15, 13, 44, 6, 4, 17, 6, 20, 29, 11, 5, 4, 16, 13, 2, 37, 28, 7, 8, 24, 22, 25, 7, 5, 6, 31, 12, 15, 19, 20, 7, 5, 15, 37, 6, 10, 15, 4, 6, 6, 53, 3, 14, 7, 2, 11, 17, 10, 14, 3, 17, 7, 12, 5, 35, 6, 9, 28, 9, 8, 12, 25, 15, 59, 5, 54, 29, 73, 49, 2, 22, 29, 61, 13, 10, 9, 9, 6, 4, 2, 33, 9, 3, 4, 45, 38, 14, 7, 30, 5, 22, 6, 8, 25, 3, 8, 12, 31, 3, 36, 17, 20, 20, 13, 10, 15, 7, 25, 38, 4, 6, 11, 52, 19, 3, 24, 4, 19, 16, 6, 24, 3, 23, 16, 10, 3, 8, 16, 11, 62, 2, 11, 1, 1, 1, 17, 4, 3, 4, 20, 3, 11, 2, 10, 17, 19, 2, 17, 6, 4, 23, 38, 11, 22, 6, 16, 7, 7, 11, 12, 33, 4, 59, 10, 17, 19, 3, 58, 34, 4, 10, 4, 43, 7, 13, 16, 13, 22, 3, 13, 24, 16, 29, 11, 4, 10, 6, 21, 9, 3, 13, 43, 14, 27, 51, 6, 5, 10, 21, 5, 10, 50, 3, 7, 11, 7, 15, 4, 8, 18, 15, 9, 8, 12, 2, 5, 1, 12, 12, 23, 5, 7, 2, 6, 15, 12, 4, 49, 13, 7, 8, 17, 5, 12, 16, 24, 15, 11, 7, 6, 6, 2, 38, 6, 36, 57, 33, 11, 32, 37, 4, 7, 14, 15, 1, 5, 9, 12, 6, 46, 14, 8, 53, 16, 21, 3, 26, 1, 62, 17, 12, 9, 7, 49, 3, 32, 15, 11, 7, 9, 63, 6, 9, 7, 56, 7, 2, 3, 10, 15, 52, 9, 3, 15, 58, 3, 17, 4, 4, 7, 17, 4, 10, 44, 8, 2, 8, 22, 12, 10, 7, 39, 6, 59, 21, 20, 8, 5, 11, 7, 10, 11, 27, 4, 27, 27, 11, 18, 20, 13, 40, 2, 2, 3, 6, 16, 5, 6, 4, 13, 4, 3, 3, 19, 17, 3, 3, 7, 17, 16, 5, 3, 17, 15, 1, 4, 5, 13, 7, 10, 36, 24, 33, 13, 7, 6, 18, 23, 25, 36, 6, 33, 7, 17, 9, 47, 12, 51, 16, 40, 5, 8, 6, 17, 66, 12, 36, 28, 8, 18, 32, 16, 5, 31, 12, 18, 26, 6, 7, 2, 5, 1, 20, 6, 20, 19, 7, 4, 8, 32, 19, 51, 6, 11, 5, 15, 8, 24, 8, 16, 7, 8, 11, 9, 24, 72, 37, 4, 22, 22, 15, 17, 53, 11, 49, 21, 6, 35, 16, 53, 26, 29, 10, 5, 5, 15, 14, 8, 16, 4, 13, 4, 9, 10, 28, 4, 4, 5, 11, 17, 8, 11, 11, 5, 6, 12, 30, 54, 4, 10, 6, 16, 20, 39, 34, 7, 5, 9, 6, 31, 51, 5, 27, 8, 3, 6, 15, 16, 7, 27, 13, 12, 4, 13, 10, 6, 7, 42, 11, 3, 9, 25, 15, 6, 12, 5, 37, 11, 53, 23, 22, 7, 12, 22, 19, 3, 7, 24, 11, 13, 4, 14, 18, 40, 4, 20, 6, 16, 4, 14, 6, 19, 15, 32, 6, 17, 17, 14, 6, 13, 13, 52, 13, 8, 23, 4, 50, 10, 12, 20, 5, 15, 8, 26, 55, 16, 8, 29, 6, 7, 12, 4, 13, 50, 8, 22, 11, 8, 10, 7, 37, 10, 57, 45, 11, 34, 2, 11, 46, 11, 4, 15, 47, 6, 4, 22, 4, 19, 9, 32, 10, 10, 21, 9, 26, 25, 16, 25, 13, 5, 8, 13, 4, 1, 10, 52, 10, 51, 10, 5, 14, 3, 1, 10, 7, 6, 2, 4, 19, 4, 9, 5, 10, 28, 12, 12, 14, 14, 16, 23, 29, 20, 7, 7, 6, 22, 5, 22, 13, 13, 12, 5, 16, 11, 21, 16, 12, 5, 0, 19, 6, 41, 52, 4, 8, 12, 14, 49, 20, 12, 21, 6, 7, 4, 28, 16, 11, 9, 3, 5, 11, 10, 31, 10, 26, 19, 9, 13, 37, 20, 36, 7, 51, 17, 16, 8, 3, 10, 22, 5, 2, 10, 9, 5, 10, 24, 16, 21, 23, 4, 4, 13, 38, 14, 4, 28, 16, 28, 11, 63, 8, 35, 23, 28, 4, 2, 9, 21, 49, 5, 11, 5, 38, 7, 25, 6, 20, 6, 10, 11, 7, 17, 21, 8, 12, 38, 10, 8, 30, 18, 34, 16, 10, 57, 8, 15, 12, 25, 9, 20, 11, 40, 10, 7, 8, 1, 26, 5, 8, 12, 12, 10, 10, 6, 13, 9, 3, 7, 33, 1, 21, 19, 17, 4, 9, 52, 6, 10, 15, 56, 11, 40, 12, 36, 56, 5, 16, 13, 7, 9, 28, 4, 5, 16, 1, 1, 6, 4, 9, 8, 49, 5, 18, 9, 54, 11, 3, 10, 13, 7, 4, 24, 12, 4, 3, 3, 11, 23, 11, 31, 46, 7, 6, 13, 15, 28, 18, 7, 3, 22, 3, 3, 8, 9, 7, 47, 38, 3, 9, 11, 44, 7, 24, 7, 20, 10, 16, 1, 4, 30, 26, 7, 1, 4, 19, 18, 24, 1, 3, 5, 32, 3, 25, 6, 12, 10, 39, 14, 11, 11, 13, 4, 19, 8, 5, 4, 7, 16, 5, 1, 41, 10, 17, 15, 7, 27, 7, 14, 33, 33, 18, 57, 57, 13, 24, 29, 7, 13, 5, 11, 14, 17, 8, 56, 13, 5, 30, 5, 11, 12, 17, 7, 45, 50, 2, 8, 49, 8, 1, 4, 4, 50, 29, 44, 45, 5, 30, 15, 23, 9, 18, 14, 8, 30, 17, 29, 20, 5, 8, 8, 7, 59, 25, 18, 13, 16, 2, 5, 8, 29, 25, 4, 18, 10, 33, 3, 6, 10, 17, 12, 12, 21, 5, 3, 9, 9, 7, 27, 36, 23, 17, 16, 5, 10, 48, 19, 42, 18, 52, 26, 52, 3, 11, 7, 27, 3, 24, 14, 3, 34, 5, 11, 3, 7, 11, 9, 37, 28, 13, 10, 9, 8, 12, 8, 4, 10, 23, 38, 5, 11, 10, 10, 5, 3, 5, 20, 8, 12, 14, 19, 7, 27, 28, 4, 8, 15, 10, 31, 10, 13, 18, 5, 22, 12, 6, 7, 2, 27, 25, 5, 3, 4, 14, 11, 9, 35, 54, 4, 12, 40, 6, 12, 7, 9, 16, 21, 12, 4, 55, 39, 9, 15, 13, 8, 30, 4, 24, 26, 9, 13, 27, 14, 6, 1, 32, 3, 6, 6, 24, 39, 23, 14, 3, 52, 20, 17, 6, 16, 7, 7, 49, 12, 12, 9, 25, 27, 19, 27, 33, 2, 33, 23, 2, 8, 17, 8, 14, 2, 5, 11, 9, 26, 20, 16, 33, 14, 6, 7, 12, 10, 7, 6, 6, 8, 11, 51, 11, 7, 16, 13, 14, 25, 3, 8, 11, 3, 19, 3, 3, 14, 11, 13, 6, 28, 15, 41, 7, 16, 12, 47, 21, 17, 9, 21, 8, 46, 27, 11, 6, 12, 41, 22, 3, 44, 20, 59, 8, 10, 4, 39, 9, 12, 20, 6, 10, 32, 6, 48, 11, 5, 17, 14, 2, 20, 2, 10, 5, 17, 10, 11, 2, 6, 19, 2, 5, 3, 25, 9, 43, 14, 18, 16, 12, 7, 11, 27, 6, 29, 17, 19, 15, 6, 13, 23, 17, 5, 8, 11, 63, 18, 29, 11, 19, 3, 7, 22, 9, 27, 7, 21, 33, 11, 15, 13, 1, 6, 60, 17, 13, 4, 25, 2, 6, 43, 5, 13, 4, 16, 13, 5, 22, 6, 10, 24, 19, 26, 7, 9, 22, 1, 5, 4, 3, 51, 26, 14, 63, 4, 9, 56, 2, 24, 5, 28, 27, 10, 11, 9, 3, 4, 9, 47, 10, 11, 10, 40, 43, 30, 12, 13, 7, 7, 16, 15, 18, 7, 50, 28, 59, 15, 10, 5, 8, 19, 52, 24, 6, 36, 22, 20, 7, 2, 22, 7, 39, 33, 79, 3, 14, 31, 29, 4, 22, 7, 23, 5, 11, 6, 9, 6, 3, 33, 14, 62, 9, 2, 35, 10, 7, 2, 7, 7, 7, 9, 5, 28, 5, 23, 62, 18, 7, 9, 18, 4, 3, 52, 17, 15, 33, 15, 12, 3, 13, 18, 21, 9, 15, 2, 22, 12, 44, 16, 43, 21, 7, 18, 11, 16, 20, 11, 3, 9, 4, 5, 7, 15, 19, 20, 27, 8, 41, 19, 11, 14, 21, 14, 10, 26, 36, 10, 4, 20, 24, 27, 57, 33, 11, 17, 21, 11, 45, 6, 14, 3, 3, 2, 1, 12, 15, 26, 20, 35, 24, 24, 30, 5, 61, 4, 2, 17, 8, 22, 8, 11, 42, 7, 7, 5, 9, 14, 11, 1, 5, 28, 38, 58, 53, 52, 12, 5, 3, 12, 43, 40, 14, 18, 23, 14, 20, 14, 15, 19, 16, 32, 6, 8, 14, 6, 11, 89, 16, 26, 3, 39, 7, 15, 7, 24, 24, 6, 3, 2, 29, 13, 29, 15, 11, 12, 20, 12, 5, 10, 22, 16, 14, 5, 3, 3, 7, 8, 23, 13, 13, 7, 12, 1, 20, 57, 23, 5, 5, 8, 29, 5, 47, 15, 12, 7, 54, 9, 6, 31, 20, 3, 12, 11, 1, 17, 18, 23, 24, 34, 10, 10, 28, 12, 16, 9, 2, 17, 5, 27, 11, 6, 5, 2, 17, 28, 5, 4, 15, 24, 30, 48, 13, 2, 3, 48, 17, 24, 6, 5, 27, 10, 27, 24, 6, 6, 17, 5, 2, 45, 3, 14, 11, 6, 4, 24, 18, 43, 25, 6, 56, 35, 15, 18, 60, 13, 7, 29, 44, 7, 11, 3, 31, 3, 10, 63, 15, 1, 46, 28, 23, 11, 7, 9, 6, 4, 33, 2, 13, 3, 17, 2, 45, 9, 6, 33, 16, 5, 24, 2, 19, 6, 7, 10, 21, 7, 51, 15, 6, 6, 14, 2, 8, 10, 37, 13, 22, 8, 2, 55, 21, 1, 6, 9, 10, 29, 5, 32, 29, 56, 2, 14, 13, 6, 19, 68, 2, 22, 8, 30, 10, 6, 12, 35, 18, 21, 10, 2, 4, 7, 7, 44, 33, 4, 25, 9, 11, 33, 3, 10, 6, 4, 12, 16, 4, 5, 42, 32, 23, 12, 3, 8, 14, 36, 15, 4, 21, 3, 23, 27, 4, 18, 3, 12, 6, 7, 7, 12, 4, 22, 13, 55, 13, 3, 6, 12, 4, 5, 2, 21, 17, 12, 39, 1, 19, 33, 6, 6, 14, 12, 53, 15, 8, 5, 6, 50, 4, 8, 41, 5, 12, 3, 15, 12, 24, 9, 7, 24, 23, 3, 8, 13, 3, 20, 14, 7, 5, 14, 6, 12, 41, 16, 4, 12, 5, 5, 29, 4, 10, 13, 10, 2, 14, 31, 12, 6, 20, 6, 52, 18, 4, 7, 7, 4, 41, 59, 16, 6, 9, 20, 37, 12, 63, 11, 9, 16, 4, 23, 18, 6, 8, 5, 13, 4, 6, 48, 17, 10, 4, 8, 15, 11, 6, 13, 24, 17, 27, 12, 12, 2, 19, 6, 34, 9, 13, 13, 43, 21, 19, 18, 41, 7, 4, 16, 5, 12, 42, 13, 5, 12, 8, 12, 28, 14, 27, 5, 27, 15, 25, 18, 5, 39, 15, 52, 11, 2, 23, 6, 3, 8, 5, 17, 8, 11, 5, 9, 22, 5, 6, 22, 5, 10, 27, 25, 11, 11, 3, 10, 16, 7, 8, 15, 4, 7, 7, 12, 21, 16, 4, 6, 5, 15, 18, 12, 36, 12, 22, 3, 13, 35, 9, 2, 16, 5, 5, 7, 4, 10, 15, 7, 2, 14, 1, 20, 4, 3, 4, 12, 40, 73, 53, 7, 2, 4, 23, 12, 8, 15, 19, 8, 5, 5, 14, 30, 9, 8, 35, 48, 56, 11, 24, 7, 40, 7, 19, 7, 15, 35, 59, 26, 10, 4, 21, 5, 3, 16, 4, 35, 11, 4, 6, 32, 47, 14, 15, 11, 12, 5, 8, 10, 16, 59, 8, 8, 7, 13, 61, 8, 5, 5, 7, 11, 11, 14, 3, 4, 10, 31, 17, 16, 23, 15, 13, 1, 21, 14, 16, 28, 6, 3, 24, 28, 9, 3, 36, 6, 7, 6, 14, 38, 11, 67, 11, 29, 10, 24, 12, 10, 11, 8, 5, 44, 4, 4, 3, 14, 18, 10, 10, 3, 5, 53, 3, 49, 9, 17, 3, 12, 13, 8, 5, 24, 7, 3, 39, 3, 2, 6, 5, 11, 16, 9, 27, 20, 19, 3, 14, 35, 5, 43, 2, 8, 3, 23, 4, 45, 29, 5, 14, 20, 2, 27, 19, 11, 17, 32, 6, 5, 15, 17, 28, 23, 17, 4, 12, 14, 11, 49, 13, 3, 7, 22, 31, 8, 32, 7, 22, 66, 25, 47, 33, 9, 14, 11, 17, 6, 5, 14, 12, 5, 6, 5, 4, 18, 8, 52, 5, 16, 40, 4, 51, 65, 4, 6, 11, 12, 15, 34, 4, 4, 12, 15, 15, 21, 34, 1, 14, 7, 5, 38, 10, 12, 17, 10, 5, 19, 10, 5, 3, 8, 9, 35, 4, 5, 5, 7, 15, 15, 7, 13, 3, 36, 33, 13, 23, 38, 47, 2, 9, 16, 2, 21, 30, 1, 31, 13, 20, 45, 5, 53, 4, 18, 19, 2, 8, 43, 15, 2, 22, 4, 31, 13, 3, 5, 30, 2, 17, 11, 31, 17, 6, 19, 30, 9, 41, 8, 16, 14, 51, 10, 30, 19, 40, 22, 10, 57, 11, 21, 17, 2, 7, 13, 6, 29, 3, 53, 14, 13, 56, 4, 3, 7, 6, 39, 28, 7, 6, 27, 11, 14, 2, 10, 36, 4, 53, 25, 12, 42, 10, 9, 5, 20, 21, 3, 19, 24, 24, 4, 14, 27, 18, 4, 2, 56, 7, 6, 39, 19, 50, 29, 4, 10, 19, 46, 18, 44, 10, 6, 10, 13, 26, 14, 3, 43, 6, 16, 5, 19, 64, 33, 39, 5, 6, 20, 25, 18, 12, 53, 9, 5, 1, 8, 7, 20, 7, 27, 34, 9, 6, 18, 23, 3, 13, 7, 8, 34, 10, 6, 3, 5, 14, 11, 38, 14, 31, 51, 29, 20, 5, 7, 5, 10, 28, 9, 10, 3, 11, 5, 19, 6, 7, 7, 33, 9, 2, 21, 20, 7, 4, 5, 9, 14, 10, 3, 2, 5, 42, 24, 7, 11, 24, 6, 3, 17, 2, 2, 19, 51, 9, 18, 29, 11, 36, 18, 3, 5, 5, 1, 9, 28, 16, 30, 2, 3, 13, 58, 26, 27, 4, 23, 18, 16, 21, 10, 14, 4, 16, 10, 9, 5, 54, 14, 4, 18, 35, 57, 5, 7, 56, 13, 16, 56, 21, 5, 6, 3, 62, 7, 6, 37, 18, 18, 24, 5, 2, 8, 18, 9, 5, 62, 25, 53, 67, 6, 5, 6, 37, 47, 5, 6, 9, 17, 21, 26, 23, 3, 18, 25, 15, 4, 26, 5, 17, 38, 6, 14, 8, 36, 22, 51, 18, 4, 33, 4, 8, 40, 58, 8, 24, 10, 6, 29, 13, 22, 23, 4, 5, 8, 5, 4, 11, 19, 17, 9, 15, 5, 9, 54, 5, 4, 21, 6, 6, 1, 2, 36, 16, 40, 10, 10, 8, 12, 15, 6, 9, 5, 5, 4, 19, 10, 48, 30, 4, 38, 56, 7, 13, 9, 11, 16, 3, 2, 57, 29, 11, 3, 32, 10, 8, 13, 1, 12, 18, 19, 47, 7, 8, 20, 6, 3, 10, 13, 21, 18, 5, 22, 11, 7, 8, 8, 10, 5, 52, 54, 3, 25, 3, 21, 25, 12, 15, 9, 6, 19, 15, 6, 16, 27, 5, 3, 20, 3, 9, 50, 54, 17, 3, 13, 4, 15, 7, 14, 9, 16, 2, 8, 5, 34, 3, 23, 1, 2, 36, 11, 21, 31, 6, 3, 16, 57, 11, 3, 58, 44, 34, 16, 29, 9, 50, 35, 14, 32, 66, 2, 61, 7, 30, 5, 7, 29, 5, 3, 17, 4, 20, 1, 10, 6, 8, 6, 12, 34, 18, 8, 11, 6, 10, 4, 1, 8, 4, 19, 30, 17, 15, 5, 15, 7, 39, 38, 11, 9, 24, 8, 9, 45, 4, 14, 4, 13, 5, 24, 49, 58, 30, 17, 15, 5, 3, 1, 29, 4, 24, 13, 14, 56, 7, 26, 30, 17, 15, 21, 6, 16, 25, 26, 56, 16, 3, 7, 13, 5, 22, 33, 4, 9, 3, 15, 18, 7, 14, 21, 23, 2, 20, 65, 11, 51, 9, 33, 6, 10, 44, 5, 2, 18, 8, 8, 15, 4, 26, 10, 10, 18, 9, 35, 53, 21, 17, 10, 26, 58, 16, 11, 2, 24, 26, 10, 7, 0, 14, 8, 8, 13, 12, 21, 31, 17, 6, 24, 67, 9, 10, 4, 19, 9, 11, 18, 15, 57, 49, 15, 22, 6, 12, 60, 53, 6, 10, 20, 3, 12, 13, 2, 13, 7, 6, 8, 7, 6, 6, 6, 12, 12, 53, 5, 35, 45, 16, 7, 4, 32, 17, 29, 3, 57, 10, 29, 6, 6, 12, 8, 4, 25, 10, 8, 23, 8, 20, 16, 56, 21, 35, 36, 2, 10, 20, 24, 5, 46, 1, 5, 16, 8, 5, 18, 12, 30, 15, 22, 16, 36, 4, 3, 17, 3, 4, 19, 7, 21, 1, 6, 8, 12, 45, 22, 19, 27, 13, 15, 7, 12, 4, 13, 15, 28, 11, 8, 11, 35, 1, 2, 21, 18, 43, 9, 22, 22, 14, 5, 27, 12, 10, 17, 5, 25, 7, 17, 4, 3, 1, 7, 4, 15, 8, 15, 20, 27, 13, 6, 9, 15, 3, 4, 50, 3, 13, 15, 28, 22, 65, 8, 7, 6, 10, 4, 15, 10, 29, 26, 6, 37, 15, 22, 9, 4, 14, 8, 51, 16, 4, 13, 0, 29, 2, 10, 27, 2, 21, 3, 22, 22, 12, 12, 18, 14, 10, 13, 8, 31, 24, 8, 4, 54, 18, 6, 52, 8, 15, 10, 8, 4, 16, 76, 29, 26, 3, 6, 21, 47, 8, 55, 9, 4, 22, 22, 10, 18, 18, 29, 4, 20, 28, 10, 10, 5, 14, 11, 21, 8, 11, 6, 16, 30, 16, 11, 35, 17, 49, 7, 16, 26, 65, 21, 4, 7, 17, 15, 5, 9, 15, 13, 39, 20, 51, 24, 27, 7, 6, 6, 17, 53, 11, 49, 25, 5, 10, 11, 49, 2, 2, 4, 11, 30, 18, 11, 33, 51, 51, 10, 22, 38, 16, 31, 6, 6, 5, 45, 17, 5, 3, 19, 14, 14, 1, 9, 9, 13, 7, 32, 2, 8, 13, 30, 5, 16, 44, 17, 6, 55, 42, 58, 8, 4, 45, 19, 10, 3, 13, 21, 19, 1, 14, 2, 6, 32, 13, 9, 5, 17, 31, 5, 6, 19, 14, 45, 34, 41, 44, 27, 16, 3, 6, 55, 4, 50, 21, 11, 4, 3, 12, 14, 10, 17, 7, 10, 3, 9, 23, 10, 12, 12, 16, 10, 16, 51, 17, 10, 5, 4, 22, 12, 11, 26, 23, 5, 9, 1, 27, 13, 29, 20, 23, 6, 10, 8, 55, 4, 3, 20, 57, 25, 9, 12, 19, 14, 7, 12, 16, 55, 9, 8, 59, 19, 1, 7, 45, 9, 30, 6, 52, 35, 1, 9, 38, 5, 5, 39, 21, 12, 8, 31, 21, 29, 24, 19, 39, 8, 12, 33, 19, 21, 5, 45, 15, 11, 18, 5, 35, 4, 7, 18, 28, 14, 9, 14, 5, 6, 9, 13, 16, 11, 5, 25, 2, 13, 19, 27, 48, 51, 6, 6, 28, 5, 10, 6, 34, 11, 21, 37, 17, 1, 5, 7, 64, 46, 4, 38, 6, 8, 29, 9, 3, 3, 2, 33, 8, 7, 10, 32, 10, 11, 6, 10, 10, 8, 14, 5, 4, 10, 4, 30, 44, 35, 13, 39, 8, 9, 7, 45, 7, 18, 43, 40, 5, 25, 7, 14, 17, 48, 8, 2, 3, 7, 4, 23, 2, 2, 9, 57, 15, 6, 7, 8, 39, 12, 52, 6, 12, 15, 17, 8, 8, 42, 10, 9, 2, 13, 1, 14, 23, 4, 6, 16, 56, 4, 9, 27, 8, 9, 12, 32, 7, 7, 12, 29, 11, 10, 14, 4, 10, 32, 13, 39, 7, 3, 12, 9, 7, 9, 10, 19, 65, 18, 31, 16, 9, 6, 10, 12, 14, 25, 9, 2, 9, 3, 12, 38, 20, 18, 4, 18, 9, 11, 14, 10, 18, 15, 3, 29, 36, 15, 9, 29, 16, 6, 17, 7, 55, 5, 27, 5, 18, 4, 57, 39, 5, 32, 29, 14, 3, 3, 6, 19, 36, 25, 39, 5, 46, 2, 10, 6, 9, 2, 2, 15, 8, 50, 20, 5, 33, 8, 19, 64, 17, 14, 4, 9, 10, 25, 21, 46, 10, 20, 12, 22, 15, 4, 43, 5, 5, 17, 15, 25, 39, 4, 3, 5, 16, 28, 10, 2, 39, 34, 14, 38, 21, 22, 6, 31, 12, 18, 23, 18, 28, 28, 16, 19, 7, 5, 7, 6, 12, 3, 6, 10, 15, 8, 15, 24, 2, 9, 5, 15, 52, 7, 15, 9, 39, 14, 18, 15, 5, 3, 27, 17, 17, 55, 18, 2, 11, 3, 8, 3, 12, 15, 11, 5, 47, 5, 22, 5, 7, 4, 10, 16, 28, 5, 7, 12, 10, 33, 12, 9, 24, 23, 10, 3, 4, 6, 3, 7, 15, 13, 39, 5, 31, 9, 10, 21, 12, 55, 19, 52, 9, 54, 18, 5, 8, 3, 7, 21, 31, 10, 16, 2, 5, 4, 2, 1, 7, 10, 5, 10, 35, 5, 54, 15, 2, 7, 3, 10, 47, 3, 1, 8, 3, 13, 5, 8, 18, 6, 5, 16, 12, 3, 18, 16, 24, 9, 14, 10, 2, 25, 3, 20, 24, 12, 19, 30, 14, 12, 24, 11, 6, 34, 5, 26, 18, 5, 4, 60, 4, 53, 19, 10, 8, 6, 2, 17, 16, 6, 11, 6, 45, 10, 4, 11, 8, 41, 15, 5, 26, 8, 42, 57, 4, 4, 29, 19, 17, 7, 1, 17, 8, 52, 2, 7, 17, 11, 15, 2, 17, 4, 27, 37, 7, 3, 4, 7, 4, 4, 55, 21, 39, 6, 7, 47, 14, 10, 8, 10, 5, 13, 13, 19, 15, 10, 23, 58, 27, 10, 2, 18, 5, 6, 7, 7, 23, 62, 20, 22, 21, 3, 9, 6, 6, 9, 38, 21, 11, 32, 8, 12, 42, 36, 20, 9, 8, 6, 28, 54, 13, 7, 10, 49, 10, 15, 25, 2, 13, 4, 9, 10, 57, 15, 4, 25, 8, 3, 4, 49, 30, 16, 27, 40, 6, 57, 6, 12, 16, 20, 12, 5, 47, 18, 7, 10, 7, 9, 50, 25, 3, 38, 10, 10, 6, 21, 7, 7, 21, 4, 14, 5, 4, 10, 4, 2, 10, 4, 15, 4, 27, 11, 18, 8, 14, 8, 7, 3, 15, 7, 13, 7, 15, 19, 14, 6, 11, 14, 52, 2, 20, 20, 9, 18, 21, 24, 2, 9, 10, 5, 8, 40, 16, 4, 18, 20, 13, 7, 18, 29, 7, 5, 6, 5, 25, 6, 1, 7, 5, 10, 7, 5, 20, 11, 17, 25, 5, 4, 5, 16, 10, 5, 8, 4, 44, 8, 5, 55, 31, 5, 15, 7, 29, 3, 12, 7, 16, 42, 48, 13, 13, 45, 16, 13, 14, 13, 16, 13, 18, 3, 18, 11, 24, 50, 25, 37, 16, 21, 3, 33, 4, 52, 9, 17, 9, 16, 24, 2, 34, 11, 44, 20, 33, 12, 10, 16, 14, 6, 14, 5, 25, 5, 32, 18, 22, 11, 14, 16, 1, 17, 11, 11, 13, 55, 4, 43, 13, 1, 6, 4, 23, 18, 8, 3, 14, 4, 5, 2, 28, 4, 17, 67, 7, 5, 16, 6, 8, 13, 10, 21, 5, 4, 27, 2, 4, 2, 9, 42, 5, 4, 39, 12, 8, 27, 10, 5, 18, 8, 7, 3, 12, 8, 37, 13, 12, 8, 10, 14, 15, 28, 20, 56, 12, 10, 29, 4, 5, 33, 8, 3, 12, 10, 62, 11, 2, 34, 19, 13, 18, 14, 10, 3, 2, 5, 8, 10, 2, 13, 24, 27, 6, 5, 3, 3, 9, 5, 13, 2, 7, 46, 42, 2, 10, 10, 10, 13, 7, 0, 7, 5, 9, 5, 7, 15, 8, 3, 10, 25, 40, 14, 11, 17, 16, 14, 21, 18, 3, 7, 2, 8, 14, 6, 25, 39, 2, 6, 7, 4, 7, 7, 10, 18, 14, 13, 10, 8, 14, 8, 2, 10, 17, 9, 31, 14, 9, 3, 13, 11, 24, 32, 5, 18, 4, 60, 9, 19, 17, 57, 14, 5, 7, 5, 5, 11, 51, 7, 6, 16, 7, 5, 22, 15, 7, 52, 12, 4, 6, 36, 5, 10, 14, 37, 4, 10, 55, 8, 4, 56, 15, 37, 13, 36, 36, 4, 13, 9, 5, 21, 45, 8, 9, 38, 15, 7, 18, 10, 11, 19, 10, 9, 4, 8, 8, 26, 53, 6, 13, 6, 27, 12, 11, 61, 7, 19, 4, 8, 14, 10, 63, 11, 18, 14, 20, 13, 55, 25, 44, 48, 33, 26, 8, 4, 19, 2, 9, 4, 58, 24, 1, 14, 16, 18, 18, 27, 35, 41, 4, 56, 3, 33, 22, 20, 31, 5, 15, 14, 6, 37, 9, 47, 42, 44, 36, 5, 4, 9, 14, 44, 34, 37, 21, 7, 8, 31, 21, 10, 2, 14, 15, 7, 6, 3, 2, 29, 15, 19, 52, 7, 7, 5, 23, 8, 38, 34, 16, 6, 2, 60, 2, 17, 21, 12, 30, 18, 39, 46, 9, 29, 6, 47, 29, 18, 20, 5, 36, 7, 10, 62, 17, 17, 3, 12, 7, 10, 40, 38, 3, 6, 4, 3, 9, 38, 9, 34, 31, 15, 23, 4, 20, 26, 41, 39, 11, 16, 2, 5, 3, 24, 19, 8, 10, 24, 49, 3, 12, 16, 28, 10, 2, 12, 10, 6, 8, 4, 6, 24, 5, 13, 7, 66, 5, 6, 2, 6, 2, 6, 51, 22, 4, 4, 59, 7, 8, 7, 20, 7, 26, 25, 32, 17, 8, 8, 18, 10, 12, 10, 6, 5, 16, 3, 14, 12, 7, 3, 14, 6, 13, 44, 7, 5, 8, 12, 20, 23, 6, 25, 17, 29, 27, 12, 21, 33, 10, 2, 3, 11, 22, 16, 46, 31, 10, 15, 34, 6, 29, 8, 28, 21, 12, 11, 8, 11, 7, 35, 13, 7, 7, 8, 11, 15, 9, 5, 40, 55, 61, 1, 49, 5, 4, 30, 3, 51, 9, 5, 13, 25, 13, 19, 6, 6, 20, 20, 3, 23, 7, 4, 17, 2, 5, 7, 3, 18, 17, 11, 4, 31, 6, 12, 62, 15, 26, 16, 14, 8, 13, 29, 7, 1, 12, 5, 3, 1, 7, 4, 21, 6, 26, 24, 28, 3, 57, 9, 42, 15, 16, 16, 7, 7, 29, 3, 14, 15, 17, 25, 3, 3, 14, 17, 9, 4, 15, 15, 19, 15, 22, 30, 18, 15, 7, 14, 11, 2, 1, 13, 34, 34, 47, 14, 8, 28, 21, 46, 11, 2, 44, 4, 7, 6, 3, 5, 4, 7, 16, 18, 8, 16, 21, 14, 33, 58, 9, 38, 22, 24, 39, 15, 40, 5, 14, 12, 17, 29, 0, 11, 5, 5, 26, 4, 55, 10, 17, 28, 6, 26, 4, 3, 24, 4, 7, 15, 2, 7, 19, 59, 2, 6, 11, 7, 14, 8, 6, 53, 3, 16, 7, 29, 9, 29, 14, 12, 4, 45, 21, 4, 26, 2, 53, 12, 9, 10, 59, 4, 30, 8, 49, 21, 11, 28, 4, 2, 28, 8, 54, 5, 10, 38, 11, 30, 5, 9, 17, 29, 5, 27, 12, 7, 26, 16, 35, 6, 57, 10, 59, 11, 4, 15, 14, 50, 12, 10, 5, 10, 45, 8, 28, 12, 21, 2, 16, 20, 8, 44, 8, 9, 52, 22, 9, 19, 9, 24, 8, 2, 8, 27, 17, 62, 27, 39, 18, 12, 4, 15, 27, 59, 13, 8, 21, 4, 5, 33, 3, 17, 9, 13, 6, 5, 53, 62, 2, 4, 18, 17, 14, 9, 35, 6, 40, 11, 4, 9, 1, 6, 2, 21, 20, 4, 17, 5, 52, 40, 14, 7, 9, 9, 56, 3, 3, 21, 23, 50, 57, 28, 4, 44, 25, 6, 2, 37, 22, 11, 11, 6, 36, 4, 51, 29, 40, 7, 6, 5, 7, 6, 3, 16, 24, 15, 7, 7, 27, 18, 15, 7, 17, 12, 24, 18, 19, 23, 57, 55, 9, 56, 12, 9, 8, 8, 15, 53, 21, 13, 4, 5, 19, 17, 4, 15, 19, 9, 7, 27, 42, 11, 33, 9, 6, 12, 28, 42, 15, 5, 14, 2, 18, 31, 5, 13, 36, 11, 10, 63, 12, 18, 11, 16, 24, 15, 15, 43, 42, 15, 5, 9, 6, 3, 12, 59, 18, 13, 13, 5, 24, 46, 14, 12, 3, 25, 2, 19, 13, 1, 8, 7, 51, 15, 2, 12, 7, 5, 8, 3, 53, 53, 9, 1, 4, 11, 11, 8, 7, 8, 10, 53, 6, 26, 9, 24, 36, 53, 10, 20, 8, 8, 8, 13, 19, 2, 8, 4, 29, 3, 10, 8, 6, 26, 26, 50, 13, 14, 8, 16, 5, 51, 8, 17, 6, 6, 28, 3, 26, 6, 50, 52, 7, 3, 5, 10, 8, 26, 5, 8, 2, 9, 7, 10, 14, 6, 5, 2, 15, 4, 9, 7, 1, 26, 11, 9, 23, 24, 5, 8, 7, 10, 15, 14, 56, 30, 3, 9, 21, 11, 22, 49, 54, 42, 50, 10, 7, 29, 22, 12, 15, 58, 9, 19, 7, 20, 15, 2, 4, 5, 47, 29, 65, 6, 33, 15, 4, 41, 33, 25, 30, 5, 25, 5, 15, 4, 8, 15, 54, 13, 6, 27, 24, 13, 6, 33, 28, 58, 11, 6, 3, 12, 48, 18, 14, 3, 3, 6, 12, 8, 26, 21, 66, 9, 35, 6, 7, 16, 25, 11, 10, 20, 1, 14, 10, 14, 8, 5, 10, 11, 21, 15, 26, 5, 27, 6, 49, 3, 4, 19, 6, 15, 58, 5, 9, 27, 5, 10, 7, 10, 3, 4, 17, 4, 2, 5, 10, 8, 3, 23, 8, 8, 13, 9, 3, 22, 14, 14, 24, 28, 44, 5, 34, 12, 11, 8, 12, 54, 22, 3, 6, 6, 2, 3, 26, 12, 7, 6, 48, 2, 5, 9, 14, 3, 6, 9, 9, 41, 25, 40, 7, 22, 13, 65, 46, 3, 10, 17, 12, 19, 12, 20, 9, 7, 15, 12, 7, 20, 39, 12, 13, 5, 1, 8, 13, 9, 10, 46, 5, 20, 15, 27, 9, 30, 3, 2, 17, 1, 9, 5, 53, 29, 21, 21, 9, 21, 14, 40, 3, 2, 2, 63, 4, 29, 16, 54, 5, 6, 7, 14, 5, 2, 10, 14, 7, 34, 4, 25, 14, 9, 8, 24, 2, 14, 18, 11, 60, 2, 4, 9, 6, 50, 19, 24, 18, 18, 8, 22, 23, 6, 4, 6, 56, 5, 22, 5, 4, 6, 55, 37, 3, 16, 23, 9, 38, 5, 13, 17, 25, 10, 8, 22, 10, 10, 10, 5, 1, 19, 8, 9, 4, 11, 1, 52, 6, 16, 10, 5, 9, 7, 46, 30, 17, 51, 6, 23, 5, 10, 23, 4, 9, 59, 2, 9, 20, 1, 10, 25, 53, 17, 4, 29, 50, 23, 29, 5, 28, 24, 4, 9, 35, 6, 13, 2, 52, 16, 2, 9, 11, 54, 6, 28, 6, 18, 16, 12, 19, 3, 9, 46, 10, 9, 5, 10, 8, 55, 3, 22, 15, 32, 23, 8, 4, 12, 5, 10, 50, 17, 10, 5, 4, 12, 17, 5, 6, 36, 13, 10, 12, 10, 6, 52, 22, 38, 9, 10, 6, 6, 30, 48, 15, 6, 9, 2, 11, 21, 40, 6, 3, 10, 6, 31, 12, 13, 24, 47, 2, 53, 9, 4, 4, 31, 6, 4, 19, 7, 13, 6, 7, 8, 30, 21, 6, 15, 33, 55, 17, 23, 8, 16, 15, 5, 11, 17, 13, 28, 5, 7, 1, 11, 18, 18, 9, 16, 57, 11, 26, 3, 39, 30, 12, 2, 23, 9, 3, 15, 6, 5, 54, 9, 18, 6, 4, 14, 19, 68, 10, 15, 46, 3, 52, 29, 7, 10, 17, 3, 15, 14, 8, 10, 33, 26, 7, 14, 36, 17, 10, 7, 18, 1, 10, 25, 26, 35, 31, 6, 8, 27, 1, 6, 3, 5, 11, 8, 3, 25, 33, 8, 18, 16, 3, 4, 2, 5, 5, 4, 12, 18, 6, 42, 2, 29, 10, 17, 11, 16, 29, 22, 10, 23, 18, 4, 8, 1, 13, 18, 3, 9, 11, 10, 18, 50, 6, 22, 57, 4, 63, 9, 20, 38, 21, 63, 12, 9, 18, 12, 7, 8, 55, 3, 13, 26, 16, 50, 6, 6, 13, 13, 31, 5, 11, 4, 9, 4, 25, 4, 48, 2, 15, 5, 46, 5, 14, 10, 3, 9, 5, 2, 3, 5, 8, 11, 9, 51, 57, 10, 4, 55, 6, 8, 13, 19, 42, 15, 7, 6, 12, 52, 15, 61, 5, 2, 32, 2, 22, 7, 8, 5, 3, 4, 7, 49, 4, 52, 24, 15, 46, 38, 4, 65, 7, 10, 3, 13, 47, 73, 3, 53, 60, 14, 4, 10, 5, 12, 18, 6, 3, 1, 3, 10, 44, 2, 34, 21, 10, 17, 19, 10, 50, 6, 12, 10, 7, 4, 8, 42, 15, 4, 52, 15, 9, 8, 3, 10, 2, 4, 2, 12, 16, 4, 5, 4, 10, 32, 9, 24, 22, 1, 26, 16, 14, 58, 30, 9, 24, 14, 10, 20, 13, 10, 13, 5, 9, 9, 7, 24, 28, 10, 60, 4, 27, 6, 32, 6, 47, 35, 18, 42, 14, 10, 9, 19, 6, 2, 9, 5, 16, 10, 25, 43, 7, 11, 14, 4, 2, 11, 25, 10, 13, 15, 36, 9, 30, 6, 33, 7, 38, 7, 2, 18, 2, 30, 1, 4, 15, 6, 35, 9, 9, 14, 32, 58, 53, 26, 2, 17, 12, 2, 5, 6, 5, 23, 20, 9, 9, 3, 2, 20, 5, 6, 16, 16, 31, 6, 5, 34, 2, 6, 14, 12, 9, 8, 10, 28, 25, 26, 21, 3, 29, 27, 56, 5, 0, 5, 7, 22, 3, 11, 15, 37, 7, 12, 2, 3, 17, 15, 4, 13, 7, 55, 9, 13, 24, 8, 5, 11, 26, 15, 21, 15, 8, 24, 31, 51, 15, 2, 34, 18, 16, 8, 7, 37, 8, 48, 18, 13, 30, 5, 2, 11, 5, 9, 2, 32, 16, 40, 7, 29, 19, 10, 1, 11, 9, 8, 7, 6, 4, 4, 2, 7, 8, 7, 54, 8, 6, 3, 6, 28, 19, 2, 6, 17, 5, 1, 6, 7, 53, 7, 32, 5, 16, 49, 6, 5, 29, 19, 16, 8, 53, 30, 5, 32, 3, 21, 3, 22, 3, 41, 39, 15, 26, 51, 21, 13, 14, 3, 3, 13, 9, 2, 15, 9, 3, 13, 3, 7, 1, 4, 44, 19, 24, 48, 7, 11, 7, 13, 9, 24, 6, 10, 23, 23, 8, 9, 6, 16, 1, 23, 17, 4, 5, 7, 8, 23, 5, 5, 7, 36, 10, 44, 58, 5, 40, 15, 6, 21, 13, 6, 28, 6, 5, 37, 13, 4, 19, 11, 12, 25, 25, 7, 5, 3, 10, 2, 22, 8, 18, 5, 12, 7, 6, 4, 10, 18, 57, 7, 6, 39, 7, 16, 26, 45, 5, 9, 18, 16, 4, 5, 18, 7, 3, 8, 6, 21, 50, 8, 6, 16, 14, 5, 8, 11, 7, 39, 16, 30, 4, 27, 7, 47, 6, 40, 15, 12, 9, 7, 16, 13, 3, 25, 3, 47, 18, 7, 24, 14, 0, 48, 19, 33, 13, 6, 24, 38, 61, 49, 19, 6, 9, 13, 9, 14, 9, 56, 20, 26, 43, 5, 27, 17, 6, 3, 15, 4, 4, 8, 6, 24, 7, 13, 17, 6, 55, 2, 10, 2, 5, 24, 14, 18, 19, 41, 7, 14, 6, 42, 15, 5, 63, 18, 12, 13, 16, 6, 15, 6, 32, 14, 6, 8, 16, 15, 60, 5, 4, 6, 18, 7, 18, 13, 23, 14, 8, 53, 3, 2, 13, 1, 21, 8, 9, 10, 17, 23, 0, 12, 16, 5, 10, 4, 8, 30, 10, 6, 2, 28, 10, 15, 11, 2, 3, 21, 9, 19, 8, 6, 8, 9, 8, 29, 8, 39, 2, 0, 8, 5, 61, 8, 13, 2, 17, 8, 5, 8, 2, 19, 19, 14, 5, 3, 36, 8, 25, 11, 30, 9, 7, 18, 14, 6, 32, 12, 7, 38, 10, 4, 18, 54, 5, 5, 18, 11, 44, 56, 7, 12, 1, 20, 3, 39, 8, 23, 12, 2, 9, 16, 9, 4, 18, 8, 35, 6, 9, 13, 3, 56, 8, 49, 17, 19, 12, 9, 27, 7, 19, 2, 12, 13, 28, 7, 3, 17, 7, 36, 13, 17, 9, 6, 12, 7, 37, 6, 15, 35, 9, 10, 19, 8, 29, 11, 34, 27, 9, 49, 2, 27, 3, 10, 27, 8, 7, 22, 12, 10, 53, 14, 9, 7, 4, 67, 19, 3, 17, 3, 5, 5, 7, 13, 5, 30, 7, 19, 19, 7, 8, 7, 23, 44, 26, 16, 20, 7, 2, 15, 7, 4, 27, 3, 4, 21, 9, 9, 17, 33, 8, 6, 11, 10, 6, 4, 38, 18, 4, 25, 28, 30, 7, 3, 58, 30, 20, 18, 37, 6, 14, 14, 6, 12, 18, 18, 22, 19, 17, 4, 38, 10, 18, 16, 4, 25, 12, 25, 26, 32, 4, 5, 9, 14, 15, 10, 52, 4, 6, 14, 3, 4, 39, 24, 14, 1, 12, 52, 34, 26, 15, 8, 32, 10, 30, 14, 6, 30, 12, 53, 2, 31, 6, 80, 5, 4, 9, 6, 32, 5, 2, 5, 34, 54, 6, 16, 24, 17, 9, 5, 41, 9, 6, 21, 9, 20, 8, 10, 11, 21, 5, 7, 16, 12, 29, 2, 25, 5, 5, 10, 17, 3, 9, 15, 61, 18, 7, 5, 4, 11, 18, 2, 4, 9, 38, 46, 48, 39, 5, 12, 9, 17, 10, 3, 11, 11, 14, 17, 15, 9, 11, 5, 3, 15, 24, 5, 27, 21, 9, 58, 24, 27, 29, 14, 4, 10, 41, 36, 12, 27, 56, 15, 33, 7, 4, 6, 5, 15, 12, 15, 4, 29, 34, 9, 5, 2, 50, 3, 15, 21, 28, 2, 30, 35, 39, 11, 5, 6, 43, 6, 10, 4, 16, 6, 5, 19, 6, 5, 11, 50, 8, 10, 13, 7, 14, 15, 9, 20, 9, 5, 4, 10, 15, 5, 22, 16, 27, 35, 9, 5, 17, 14, 9, 57, 24, 39, 2, 40, 6, 17, 55, 7, 24, 4, 11, 14, 16, 15, 5, 49, 2, 5, 12, 31, 6, 55, 8, 4, 13, 33, 10, 4, 9, 51, 3, 26, 5, 6, 64, 3, 11, 16, 12, 19, 2, 5, 9, 53, 24, 58, 25, 4, 20, 6, 16, 8, 4, 3, 9, 23, 8, 4, 16, 4, 6, 27, 3, 16, 9, 6, 9, 38, 22, 16, 10, 31, 55, 25, 7, 4, 8, 10, 12, 4, 12, 29, 1, 8, 6, 14, 11, 6, 17, 2, 18, 6, 2, 9, 26, 8, 15, 16, 14, 10, 6, 38, 4, 39, 9, 24, 23, 11, 12, 10, 9, 62, 69, 4, 7, 53, 5, 4, 8, 29, 13, 10, 12, 3, 25, 5, 9, 7, 70, 9, 6, 24, 13, 37, 3, 8, 26, 5, 43, 53, 7, 15, 11, 18, 6, 11, 24, 6, 7, 20, 12, 13, 10, 4, 11, 18, 50, 3, 16, 24, 18, 6, 24, 22, 10, 55, 29, 24, 55, 37, 17, 38, 20, 5, 12, 26, 3, 7, 22, 34, 22, 7, 2, 2, 6, 4, 8, 29, 36, 14, 18, 31, 9, 14, 26, 63, 17, 23, 17, 6, 15, 3, 18, 3, 16, 6, 7, 54, 26, 8, 4, 54, 4, 16, 43, 8, 10, 15, 5, 10, 7, 17, 6, 33, 9, 11, 46, 7, 6, 46, 8, 20, 26, 51, 19, 6, 54, 18, 5, 5, 5, 3, 7, 12, 4, 12, 4, 8, 46, 43, 19, 6, 3, 15, 40, 29, 9, 16, 9, 19, 13, 56, 6, 15, 32, 8, 23, 21, 10, 10, 3, 9, 7, 35, 7, 17, 8, 8, 6, 13, 26, 7, 7, 9, 15, 21, 12, 9, 13, 26, 38, 9, 18, 20, 36, 7, 14, 13, 9, 22, 7, 12, 2, 6, 14, 4, 10, 8, 22, 7, 5, 21, 16, 11, 24, 21, 7, 5, 2, 4, 8, 3, 8, 16, 8, 33, 18, 8, 21, 17, 10, 14, 7, 10, 5, 2, 25, 17, 7, 23, 60, 62, 9, 3, 54, 15, 41, 4, 10, 10, 3, 24, 9, 8, 10, 10, 22, 15, 10, 12, 16, 7, 63, 11, 16, 14, 32, 26, 16, 21, 9, 5, 8, 10, 56, 16, 3, 20, 8, 14, 19, 7, 4, 7, 54, 13, 26, 63, 29, 26, 18, 2, 18, 54, 13, 29, 14, 23, 15, 23, 5, 52, 5, 26, 7, 14, 7, 7, 38, 5, 8, 4, 5, 20, 44, 6, 7, 17, 6, 8, 17, 4, 14, 44, 6, 8, 17, 17, 6, 7, 53, 10, 0, 37, 14, 24, 14, 7, 20, 11, 24, 4, 53, 4, 4, 12, 6, 12, 5, 6, 19, 44, 29, 8, 45, 9, 4, 17, 24, 3, 16, 6, 13, 8, 25, 10, 10, 53, 6, 3, 23, 6, 4, 6, 69, 9, 10, 4, 6, 16, 4, 6, 4, 13, 8, 6, 38, 16, 10, 11, 9, 11, 28, 8, 9, 21, 3, 6, 15, 4, 3, 5, 5, 19, 17, 5, 60, 36, 30, 56, 10, 19, 4, 4, 21, 26, 4, 6, 7, 7, 36, 7, 11, 44, 2, 2, 7, 4, 62, 4, 16, 4, 11, 3, 6, 22, 19, 5, 5, 7, 7, 9, 6, 11, 4, 11, 52, 16, 31, 6, 9, 35, 5, 3, 7, 50, 5, 3, 2, 15, 17, 50, 16, 50, 6, 16, 8, 48, 19, 6, 11, 42, 24, 17, 42, 8, 35, 7, 14, 7, 8, 2, 12, 3, 6, 5, 6, 9, 10, 11, 8, 10, 53, 16, 5, 18, 11, 10, 4, 16, 5, 55, 6, 45, 4, 6, 3, 12, 9, 51, 3, 2, 14, 24, 14, 6, 12, 13, 19, 10, 5, 4, 7, 11, 27, 10, 17, 8, 9, 23, 38, 28, 15, 36, 47, 9, 47, 4, 14, 35, 7, 17, 17, 15, 18, 1, 4, 4, 14, 12, 2, 1, 6, 13, 16, 6, 12, 7, 6, 6, 2, 6, 24, 21, 46, 14, 4, 14, 3, 2, 6, 15, 9, 13, 6, 31, 21, 11, 8, 61, 11, 3, 11, 10, 15, 3, 65, 14, 3, 3, 8, 30, 6, 26, 5, 17, 18, 20, 20, 11, 6, 6, 48, 4, 11, 15, 10, 19, 47, 21, 3, 11, 11, 23, 7, 3, 28, 23, 13, 15, 17, 8, 20, 10, 5, 8, 56, 4, 1, 8, 6, 26, 8, 13, 6, 12, 6, 35, 59, 59, 14, 7, 16, 15, 28, 7, 18, 8, 25, 6, 28, 15, 44, 17, 2, 42, 12, 6, 57, 79, 15, 9, 51, 9, 12, 8, 3, 49, 10, 3, 9, 42, 52, 4, 2, 12, 39, 4, 20, 14, 26, 7, 5, 40, 16, 38, 36, 3, 6, 6, 24, 12, 3, 6, 12, 9, 19, 3, 5, 10, 9, 4, 4, 8, 21, 5, 12, 11, 53, 22, 6, 10, 7, 16, 23, 53, 7, 23, 5, 12, 11, 17, 4, 18, 17, 4, 8, 14, 35, 18, 8, 5, 23, 19, 14, 4, 6, 15, 11, 7, 5, 19, 19, 20, 2, 7, 8, 31, 13, 36, 8, 11, 6, 10, 3, 11, 24, 12, 24, 6, 15, 9, 12, 17, 2, 19, 21, 18, 29, 13, 42, 26, 15, 3, 11, 9, 12, 29, 24, 59, 4, 8, 2, 1, 43, 6, 3, 50, 2, 5, 46, 12, 24, 16, 17, 5, 19, 8, 10, 17, 10, 33, 4, 17, 16, 25, 61, 11, 16, 3, 4, 11, 4, 14, 12, 26, 21, 17, 6, 11, 7, 8, 5, 10, 56, 14, 3, 11, 13, 11, 10, 26, 4, 12, 52, 43, 29, 27, 2, 50, 4, 18, 4, 14, 6, 2, 4, 11, 8, 6, 27, 4, 33, 6, 43, 3, 14, 3, 3, 7, 3, 3, 4, 56, 5, 14, 32, 25, 8, 9, 23, 4, 85, 27, 5, 15, 18, 13, 6, 14, 6, 8, 12, 7, 6, 3, 10, 7, 12, 4, 39, 3, 7, 30, 12, 32, 2, 32, 18, 17, 11, 11, 26, 10, 2, 13, 50, 33, 14, 34, 6, 43, 5, 7, 16, 23, 8, 9, 21, 4, 3, 5, 19, 7, 3, 3, 11, 25, 19, 16, 4, 6, 31, 11, 2, 3, 20, 11, 12, 2, 8, 6, 23, 22, 34, 3, 14, 8, 28, 13, 15, 41, 2, 12, 7, 22, 7, 4, 7, 19, 15, 16, 6, 14, 35, 9, 27, 30, 8, 14, 14, 23, 27, 48, 4, 6, 28, 25, 14, 7, 10, 17, 15, 16, 41, 7, 5, 12, 14, 25, 8, 31, 8, 12, 7, 5, 17, 3, 7, 5, 6, 2, 5, 26, 5, 8, 10, 9, 30, 21, 14, 24, 6, 3, 22, 6, 36, 13, 36, 5, 8, 43, 3, 47, 8, 24, 6, 38, 65, 26, 7, 3, 4, 22, 9, 13, 4, 5, 48, 7, 17, 13, 56, 13, 11, 19, 7, 5, 3, 3, 47, 5, 16, 7, 12, 22, 22, 19, 56, 6, 15, 7, 8, 5, 28, 8, 7, 5, 8, 17, 52, 9, 15, 7, 6, 11, 10, 6, 8, 8, 20, 13, 17, 17, 12, 41, 6, 4, 7, 15, 5, 25, 21, 7, 19, 19, 24, 42, 48, 6, 29, 9, 21, 10, 9, 21, 23, 19, 9, 19, 21, 3, 4, 15, 56, 7, 13, 4, 6, 4, 19, 28, 3, 26, 4, 5, 24, 19, 28, 12, 46, 18, 3, 11, 5, 11, 47, 61, 6, 29, 33, 6, 8, 29, 2, 8, 12, 8, 13, 24, 9, 7, 21, 14, 55, 12, 12, 16, 13, 16, 8, 9, 7, 3, 12, 3, 7, 13, 7, 15, 18, 4, 12, 23, 20, 41, 12, 15, 4, 3, 10, 9, 3, 41, 30, 6, 37, 2, 6, 21, 37, 0, 7, 15, 11, 15, 17, 42, 31, 18, 17, 7, 65, 5, 8, 37, 13, 4, 21, 8, 59, 6, 17, 19, 24, 3, 4, 2, 21, 9, 9, 25, 21, 20, 17, 19, 4, 8, 39, 8, 32, 58, 4, 5, 24, 33, 12, 10, 12, 15, 52, 10, 5, 7, 22, 30, 3, 16, 43, 3, 14, 12, 7, 19, 7, 14, 51, 3, 7, 20, 17, 42, 13, 15, 18, 15, 36, 4, 18, 18, 3, 3, 11, 21, 48, 11, 24, 9, 42, 8, 51, 25, 3, 6, 16, 44, 4, 11, 17, 4, 8, 32, 27, 52, 10, 3, 7, 26, 50, 8, 3, 13, 4, 12, 2, 25, 5, 32, 4, 6, 52, 10, 11, 7, 35, 23, 23, 15, 37, 4, 17, 6, 8, 21, 39, 8, 4, 6, 13, 18, 49, 9, 4, 7, 22, 8, 5, 23, 16, 40, 36, 6, 60, 9, 9, 5, 22, 4, 20, 1, 16, 5, 4, 18, 21, 10, 20, 4, 6, 23, 18, 3, 30, 3, 6, 8, 3, 3, 8, 11, 15, 31, 5, 14, 19, 36, 16, 7, 29, 15, 10, 32, 11, 61, 4, 37, 6, 4, 9, 3, 53, 53, 8, 22, 33, 3, 42, 9, 7, 34, 5, 4, 11, 2, 58, 10, 54, 18, 6, 12, 5, 30, 57, 18, 38, 14, 1, 2, 7, 32, 28, 60, 6, 31, 22, 46, 9, 14, 13, 64, 13, 34, 3, 16, 35, 17, 2, 8, 4, 6, 14, 48, 11, 43, 4, 10, 7, 11, 10, 55, 24, 7, 5, 22, 13, 19, 12, 40, 5, 23, 16, 47, 3, 18, 26, 43, 17, 13, 8, 6, 56, 4, 4, 5, 1, 43, 38, 42, 6, 14, 15, 7, 12, 10, 5, 10, 11, 11, 15, 13, 85, 10, 9, 3, 23, 21, 5, 9, 44, 5, 11, 36, 5, 7, 14, 21, 39, 2, 2, 28, 39, 36, 7, 11, 49, 4, 26, 6, 38, 9, 16, 29, 11, 1, 5, 7, 23, 2, 8, 37, 16, 59, 9, 11, 8, 21, 6, 58, 14, 58, 15, 4, 0, 10, 8, 5, 24, 4, 2, 5, 5, 19, 37, 4, 18, 49, 3, 10, 31, 22, 6, 15, 6, 2, 7, 34, 35, 23, 18, 6, 39, 7, 15, 32, 3, 6, 47, 7, 9, 6, 28, 7, 9, 9, 9, 6, 26, 19, 8, 13, 10, 11, 10, 4, 21, 9, 14, 3, 3, 8, 10, 6, 23, 41, 8, 22, 49, 29, 24, 4, 34, 12, 56, 44, 2, 8, 8, 11, 14, 49, 5, 10, 22, 5, 54, 6, 20, 5, 14, 29, 17, 12, 30, 5, 12, 3, 9, 4, 29, 55, 7, 26, 11, 6, 7, 5, 3, 6, 30, 7, 10, 16, 47, 37, 20, 9, 31, 8, 54, 18, 27, 60, 24, 56, 13, 19, 22, 44, 3, 9, 52, 5, 9, 12, 11, 27, 6, 3, 8, 2, 1, 19, 4, 8, 6, 20, 0, 18, 22, 2, 3, 25, 40, 4, 15, 10, 10, 3, 2, 7, 14, 2, 18, 3, 8, 21, 12, 13, 11, 12, 4, 6, 7, 12, 17, 13, 12, 15, 5, 4, 13, 1, 4, 11, 3, 7, 18, 23, 24, 8, 57, 50, 6, 52, 26, 18, 10, 8, 3, 4, 10, 4, 19, 10, 0, 21, 30, 15, 18, 14, 6, 8, 15, 5, 6, 14, 1, 14, 2, 35, 2, 10, 8, 16, 26, 21, 2, 12, 6, 7, 8, 11, 14, 3, 14, 62, 13, 7, 16, 4, 6, 7, 17, 13, 24, 9, 3, 11, 4, 10, 19, 16, 22, 16, 10, 48, 11, 15, 7, 9, 40, 6, 19, 21, 31, 17, 7, 28, 14, 0, 22, 7, 27, 42, 28, 48, 18, 9, 3, 22, 21, 6, 25, 17, 7, 15, 13, 4, 13, 8, 17, 3, 7, 22, 23, 23, 5, 52, 22, 5, 41, 8, 15, 3, 9, 3, 17, 32, 9, 26, 39, 7, 28, 21, 34, 3, 0, 8, 3, 12, 50, 22, 10, 13, 6, 16, 8, 15, 15, 1, 8, 16, 17, 32, 55, 2, 12, 31, 35, 13, 22, 17, 7, 26, 5, 6, 20, 7, 8, 18, 24, 33, 9, 14, 12, 21, 5, 9, 59, 5, 50, 10, 15, 2, 25, 2, 13, 2, 11, 6, 15, 17, 19, 15, 7, 19, 3, 18, 4, 17, 33, 10, 14, 49, 10, 8, 2, 28, 7, 42, 15, 4, 12, 56, 57, 3, 17, 17, 17, 8, 10, 10, 54, 52, 6, 56, 7, 22, 20, 11, 56, 9, 2, 3, 51, 13, 9, 3, 17, 2, 4, 25, 6, 52, 15, 25, 7, 23, 21, 32, 12, 17, 5, 35, 2, 10, 12, 7, 2, 6, 4, 3, 6, 4, 2, 46, 1, 33, 7, 14, 15, 6, 6, 70, 8, 11, 24, 14, 36, 5, 6, 26, 4, 30, 4, 3, 16, 9, 25, 28, 33, 14, 33, 33, 5, 17, 8, 8, 4, 5, 7, 11, 24, 4, 17, 20, 54, 5, 14, 24, 3, 19, 8, 2, 19, 2, 19, 14, 13, 6, 11, 11, 17, 51, 14, 33, 43, 73, 3, 14, 8, 20, 31, 6, 21, 22, 11, 9, 56, 12, 14, 39, 45, 6, 16, 4, 9, 6, 3, 9, 3, 25, 11, 17, 5, 17, 17, 13, 21, 4, 13, 15, 14, 17, 5, 15, 27, 3, 29, 2, 5, 2, 10, 4, 6, 25, 10, 3, 11, 47, 61, 30, 14, 13, 14, 14, 14, 4, 8, 14, 58, 8, 13, 5, 25, 6, 5, 59, 6, 22, 19, 8, 6, 21, 3, 12, 1, 17, 4, 7, 12, 22, 9, 8, 16, 16, 53, 30, 36, 48, 11, 3, 4, 20, 7, 49, 14, 34, 37, 3, 7, 18, 59, 8, 5, 8, 6, 18, 21, 12, 12, 2, 6, 40, 23, 10, 24, 13, 22, 7, 19, 7, 20, 7, 2, 24, 26, 45, 39, 35, 54, 46, 63, 14, 5, 34, 4, 8, 49, 12, 4, 5, 18, 8, 17, 33, 12, 12, 8, 5, 48, 11, 17, 16, 2, 7, 3, 2, 8, 44, 21, 5, 10, 32, 33, 16, 2, 11, 2, 2, 8, 23, 3, 11, 28, 32, 10, 5, 8, 30, 3, 29, 7, 4, 14, 30, 34, 5, 14, 25, 12, 40, 3, 18, 10, 10, 12, 25, 40, 26, 13, 13, 15, 4, 16, 36, 13, 28, 8, 14, 5, 25, 2, 15, 4, 13, 19, 11, 47, 6, 13, 4, 5, 52, 24, 37, 7, 6, 1, 10, 17, 5, 12, 56, 4, 33, 12, 50, 8, 6, 35, 16, 15, 3, 10, 3, 19, 6, 21, 2, 9, 49, 17, 47, 5, 62, 5, 3, 6, 3, 37, 12, 7, 8, 19, 4, 8, 20, 47, 16, 8, 3, 1, 13, 6, 14, 27, 9, 20, 58, 12, 4, 19, 1, 8, 3, 18, 5, 23, 8, 5, 20, 21, 4, 23, 42, 17, 1, 2, 50, 9, 31, 10, 5, 39, 12, 10, 15, 13, 8, 7, 5, 8, 8, 21, 47, 25, 40, 7, 9, 6, 34, 4, 2, 19, 12, 18, 1, 9, 19, 5, 15, 27, 17, 7, 10, 18, 4, 4, 25, 27, 15, 19, 9, 6, 13, 6, 35, 42, 12, 2, 17, 8, 25, 53, 7, 4, 16, 3, 5, 58, 4, 14, 22, 2, 52, 10, 2, 19, 14, 4, 14, 19, 7, 36, 23, 6, 30, 22, 22, 38, 40, 5, 4, 17, 39, 9, 9, 5, 6, 13, 28, 3, 22, 56, 6, 6, 8, 5, 9, 6, 5, 18, 5, 34, 13, 42, 9, 16, 9, 11, 10, 3, 61, 13, 17, 9, 8, 41, 16, 5, 16, 15, 9, 51, 5, 12, 10, 4, 34, 18, 12, 11, 63, 27, 17, 5, 47, 9, 4, 47, 7, 1, 16, 23, 7, 12, 16, 2, 9, 29, 2, 4, 15, 7, 25, 9, 38, 2, 5, 5, 7, 11, 5, 6, 13, 6, 18, 8, 12, 6, 22, 17, 5, 6, 13, 23, 9, 35, 14, 50, 7, 17, 54, 16, 8, 32, 19, 11, 8, 29, 4, 4, 20, 5, 3, 3, 19, 11, 16, 30, 28, 33, 6, 11, 18, 14, 45, 1, 19, 6, 6, 7, 43, 16, 5, 33, 22, 9, 53, 4, 9, 19, 7, 4, 5, 21, 10, 4, 5, 44, 40, 20, 4, 5, 18, 21, 4, 10, 49, 7, 33, 20, 3, 11, 7, 3, 18, 4, 27, 3, 28, 6, 8, 66, 38, 48, 3, 19, 6, 6, 55, 2, 3, 17, 33, 12, 27, 45, 12, 45, 17, 6, 4, 27, 8, 6, 5, 2, 24, 5, 14, 4, 22, 7, 21, 15, 11, 17, 4, 28, 26, 55, 10, 30, 10, 24, 33, 7, 9, 9, 5, 12, 6, 14, 6, 11, 11, 26, 8, 2, 8, 5, 13, 3, 6, 18, 29, 6, 9, 8, 50, 4, 4, 7, 56, 14, 14, 15, 15, 4, 6, 19, 6, 6, 15, 11, 13, 3, 54, 28, 13, 6, 11, 9, 7, 16, 3, 5, 18, 2, 5, 9, 15, 4, 12, 2, 20, 5, 8, 16, 4, 6, 7, 4, 8, 11, 27, 25, 2, 12, 30, 6, 20, 57, 9, 6, 12, 10, 52, 3, 42, 5, 7, 22, 3, 7, 17, 7, 4, 7, 5, 5, 4, 10, 23, 22, 17, 15, 18, 20, 6, 11, 3, 9, 8, 28, 10, 20, 15, 9, 56, 12, 3, 9, 6, 18, 9, 5, 3, 17, 34, 5, 17, 4, 54, 7, 2, 10, 2, 19, 26, 14, 16, 8, 15, 26, 11, 4, 8, 11, 59, 7, 9, 21, 39, 30, 9, 6, 2, 15, 27, 20, 3, 17, 31, 16, 13, 6, 63, 6, 9, 8, 15, 15, 54, 5, 8, 3, 14, 37, 11, 4, 12, 10, 19, 45, 12, 5, 4, 5, 3, 17, 24, 4, 12, 29, 3, 2, 6, 4, 54, 26, 6, 2, 15, 22, 47, 47, 6, 15, 5, 44, 4, 54, 8, 42, 32, 41, 10, 7, 12, 5, 20, 7, 14, 24, 3, 5, 30, 3, 2, 5, 9, 38, 13, 19, 50, 4, 6, 61, 10, 36, 57, 16, 4, 9, 16, 10, 27, 31, 16, 19, 7, 14, 14, 11, 3, 43, 57, 2, 24, 6, 5, 5, 8, 19, 25, 8, 28, 5, 15, 7, 15, 29, 19, 4, 31, 4, 39, 4, 23, 14, 20, 14, 11, 11, 26, 17, 36, 15, 8, 5, 3, 34, 5, 59, 12, 24, 52, 12, 2, 6, 7, 12, 20, 3, 13, 26, 16, 12, 11, 8, 4, 5, 5, 12, 35, 5, 15, 32, 53, 31, 32, 3, 5, 5, 36, 35, 57, 1, 27, 4, 18, 43, 38, 3, 8, 17, 18, 10, 58, 8, 19, 17, 5, 23, 3, 5, 15, 62, 19, 14, 10, 5, 1, 16, 9, 30, 6, 1, 15, 37, 54, 23, 5, 21, 8, 13, 19, 20, 1, 2, 25, 9, 10, 18, 17, 19, 9, 56, 10, 3, 44, 6, 2, 15, 15, 16, 30, 10, 4, 60, 9, 21, 17, 7, 11, 7, 9, 7, 7, 12, 14, 18, 1, 27, 5, 15, 51, 42, 18, 19, 16, 22, 29, 50, 0, 21, 12, 20, 29, 1, 11, 3, 52, 1, 45, 23, 13, 2, 7, 24, 9, 7, 63, 11, 9, 57, 3, 20, 7, 12, 10, 11, 31, 6, 19, 61, 37, 9, 3, 5, 10, 6, 28, 13, 43, 4, 31, 26, 9, 2, 12, 4, 11, 36, 30, 25, 22, 54, 11, 42, 13, 21, 17, 40, 6, 20, 5, 5, 16, 49, 5, 10, 21, 9, 7, 41, 58, 33, 14, 10, 25, 4, 11, 10, 14, 7, 12, 10, 2, 9, 12, 15, 11, 20, 2, 23, 8, 26, 6, 35, 2, 20, 9, 23, 31, 10, 41, 4, 33, 3, 14, 16, 5, 5, 7, 9, 18, 52, 27, 2, 21, 7, 12, 6, 24, 55, 3, 60, 25, 16, 19, 2, 8, 24, 9, 24, 7, 30, 42, 7, 20, 3, 8, 6, 16, 3, 22, 7, 42, 1, 21, 5, 29, 7, 28, 27, 1, 8, 6, 6, 24, 23, 3, 15, 5, 11, 9, 8, 9, 23, 59, 10, 7, 28, 6, 7, 9, 22, 59, 2, 6, 1, 7, 42, 25, 54, 23, 16, 5, 15, 20, 16, 4, 8, 20, 15, 19, 5, 5, 4, 11, 4, 23, 11, 10, 55, 6, 10, 7, 4, 7, 5, 17, 5, 21, 36, 11, 10, 8, 14, 2, 21, 8, 6, 16, 25, 3, 34, 21, 27, 26, 2, 18, 28, 5, 15, 9, 3, 16, 16, 30, 11, 39, 5, 12, 6, 14, 18, 6, 6, 24, 7, 43, 8, 9, 47, 55, 48, 9, 15, 4, 6, 17, 13, 19, 8, 8, 2, 9, 5, 44, 2, 56, 7, 10, 31, 4, 8, 4, 9, 17, 23, 9, 8, 16, 13, 13, 41, 53, 22, 20, 18, 41, 10, 16, 22, 19, 16, 11, 4, 5, 17, 11, 13, 20, 16, 3, 25, 4, 4, 7, 10, 13, 25, 5, 3, 45, 10, 8, 6, 29, 6, 3, 7, 13, 2, 7, 9, 10, 4, 16, 7, 6, 1, 5, 9, 15, 59, 4, 7, 15, 46, 10, 35, 50, 4, 8, 41, 8, 32, 54, 9, 43, 13, 10, 6, 6, 6, 21, 4, 6, 12, 13, 5, 7, 7, 6, 3, 10, 28, 5, 7, 9, 16, 6, 41, 48, 5, 6, 8, 6, 45, 4, 11, 7, 22, 59, 1, 6, 27, 8, 1, 53, 9, 7, 7, 4, 4, 15, 11, 12, 13, 13, 36, 24, 49, 13, 30, 6, 1, 3, 36, 30, 16, 13, 10, 21, 25, 14, 8, 24, 8, 13, 7, 15, 10, 3, 22, 15, 15, 20, 8, 24, 1, 6, 13, 5, 36, 20, 7, 19, 28, 23, 8, 4, 4, 11, 5, 11, 4, 4, 7, 8, 2, 8, 11, 55, 9, 18, 18, 20, 16, 8, 9, 2, 16, 23, 3, 37, 1, 6, 9, 34, 53, 14, 12, 3, 34, 39, 13, 8, 30, 8, 46, 26, 5, 10, 20, 38, 4, 9, 56, 7, 9, 6, 11, 39, 28, 12, 4, 26, 6, 17, 18, 3, 7, 20, 17, 4, 3, 52, 9, 14, 11, 3, 21, 8, 6, 32, 3, 4, 55, 7, 29, 16, 7, 20, 24, 29, 2, 5, 9, 3, 4, 23, 20, 19, 13, 25, 16, 4, 50, 27, 4, 11, 4, 5, 23, 53, 22, 24, 30, 3, 7, 3, 4, 38, 5, 10, 19, 9, 13, 13, 10, 19, 21, 21, 52, 32, 5, 12, 37, 48, 48, 3, 8, 4, 12, 34, 3, 22, 1, 15, 9, 5, 12, 11, 7, 21, 3, 7, 34, 20, 28, 55, 6, 53, 5, 13, 31, 33, 23, 14, 58, 5, 8, 9, 2, 51, 7, 5, 18, 12, 4, 22, 7, 21, 3, 58, 7, 9, 8, 46, 1, 15, 35, 20, 43, 4, 5, 13, 7, 4, 11, 46, 16, 63, 6, 3, 3, 9, 15, 14, 18, 34, 11, 9, 12, 15, 17, 22, 9, 10, 28, 22, 13, 2, 18, 11, 3, 19, 20, 3, 2, 31, 11, 23, 9, 57, 15, 6, 10, 11, 13, 20, 27, 33, 8, 4, 14, 19, 10, 4, 12, 4, 14, 18, 16, 10, 36, 2, 18, 51, 12, 3, 8, 11, 5, 4, 2, 55, 22, 35, 11, 3, 40, 32, 25, 7, 5, 16, 9, 10, 8, 18, 19, 10, 10, 13, 23, 4, 16, 6, 8, 6, 8, 5, 5, 2, 10, 13, 22, 16, 1, 32, 8, 25, 11, 8, 18, 9, 18, 19, 16, 14, 7, 22, 27, 16, 11, 6, 13, 26, 22, 9, 35, 25, 41, 6, 9, 3, 5, 21, 6, 4, 24, 7, 14, 9, 29, 19, 12, 35, 23, 10, 5, 15, 14, 7, 6, 6, 29, 35, 2, 9, 15, 15, 11, 35, 4, 7, 16, 13, 2, 16, 11, 13, 12, 32, 7, 22, 8, 17, 19, 4, 20, 27, 55, 12, 65, 13, 20, 7, 8, 31, 40, 20, 14, 10, 30, 14, 7, 4, 33, 11, 7, 10, 22, 6, 6, 23, 6, 53, 18, 2, 42, 14, 5, 29, 31, 38, 2, 17, 4, 28, 34, 15, 49, 4, 3, 9, 29, 6, 20, 6, 2, 19, 8, 6, 36, 13, 14, 41, 12, 47, 32, 2, 7, 55, 23, 12, 9, 24, 18, 8, 12, 2, 5, 14, 25, 3, 19, 7, 17, 18, 4, 31, 41, 10, 6, 2, 50, 4, 9, 57, 16, 4, 6, 13, 14, 7, 12, 23, 8, 14, 29, 15, 5, 12, 5, 4, 28, 13, 24, 15, 16, 6, 3, 6, 47, 9, 14, 17, 4, 41, 3, 11, 15, 19, 18, 3, 9, 14, 29, 7, 2, 7, 47, 18, 44, 4, 17, 14, 31, 10, 11, 8, 26, 35, 3, 7, 12, 11, 6, 9, 13, 12, 3, 35, 18, 6, 6, 36, 3, 23, 31, 13, 3, 8, 20, 1, 4, 22, 16, 11, 6, 19, 24, 7, 41, 21, 7, 7, 28, 12, 30, 7, 4, 58, 8, 30, 3, 6, 4, 27, 7, 7, 17, 7, 4, 15, 10, 10, 21, 6, 63, 50, 19, 7, 27, 20, 5, 4, 14, 11, 33, 24, 8, 34, 11, 11, 3, 2, 19, 22, 23, 30, 12, 5, 42, 56, 48, 41, 30, 25, 24, 39, 6, 7, 8, 7, 25, 15, 5, 12, 12, 18, 2, 12, 8, 1, 2, 3, 7, 7, 33, 11, 62, 33, 2, 13, 14, 8, 31, 3, 13, 40, 27, 8, 3, 8, 10, 6, 9, 5, 15, 17, 12, 11, 12, 8, 55, 35, 14, 28, 28, 46, 6, 28, 11, 34, 11, 21, 12, 3, 9, 56, 23, 6, 11, 16, 11, 4, 12, 5, 28, 12, 20, 3, 16, 10, 13, 20, 31, 71, 13, 14, 15, 4, 16, 12, 20, 15, 60, 6, 34, 7, 13, 3, 6, 17, 13, 12, 19, 15, 7, 10, 13, 4, 5, 20, 9, 3, 45, 5, 50, 36, 9, 10, 10, 13, 3, 14, 33, 2, 20, 8, 6, 9, 12, 47, 19, 8, 9, 50, 6, 8, 14, 22, 3, 12, 28, 25, 10, 15, 6, 15, 17, 12, 20, 36, 4, 15, 2, 16, 65, 46, 3, 24, 37, 18, 6, 17, 11, 11, 9, 8, 5, 48, 6, 19, 29, 6, 21, 9, 12, 15, 18, 2, 2, 14, 9, 3, 22, 4, 2, 18, 39, 5, 3, 62, 12, 12, 22, 15, 36, 21, 37, 5, 12, 11, 20, 7, 6, 25, 23, 5, 14, 20, 5, 6, 1, 11, 48, 25, 18, 64, 31, 14, 3, 41, 12, 17, 24, 26, 5, 17, 13, 3, 13, 42, 4, 6, 5, 12, 25, 27, 51, 53, 3, 5, 50, 42, 4, 60, 23, 42, 10, 37, 7, 4, 15, 4, 57, 14, 24, 25, 12, 9, 14, 11, 4, 17, 4, 4, 17, 6, 14, 8, 34, 2, 17, 10, 22, 1, 48, 20, 22, 6, 34, 11, 13, 17, 35, 51, 31, 16, 3, 10, 16, 10, 6, 10, 5, 6, 15, 11, 18, 6, 19, 4, 0, 40, 10, 36, 49, 18, 12, 5, 39, 20, 6, 29, 8, 36, 40, 15, 27, 22, 55, 12, 7, 8, 11, 11, 13, 9, 39, 6, 13, 36, 55, 6, 27, 3, 60, 10, 4, 26, 9, 24, 8, 6, 38, 19, 1, 7, 8, 3, 15, 7, 5, 52, 30, 15, 8, 46, 55, 3, 27, 32, 13, 17, 2, 6, 51, 4, 13, 4, 23, 4, 10, 30, 30, 6, 14, 3, 11, 6, 6, 20, 5, 3, 19, 19, 22, 4, 4, 3, 40, 4, 6, 9, 7, 18, 5, 54, 23, 4, 3, 3, 11, 12, 32, 21, 3, 7, 7, 14, 4, 8, 14, 53, 8, 29, 5, 12, 48, 10, 9, 9, 17, 19, 7, 42, 14, 3, 12, 8, 47, 2, 14, 19, 5, 27, 14, 2, 12, 59, 15, 6, 13, 8, 6, 15, 7, 22, 28, 6, 3, 5, 5, 9, 32, 48, 4, 3, 51, 11, 7, 4, 12, 10, 3, 6, 33, 6, 25, 18, 27, 5, 7, 5, 17, 6, 9, 3, 7, 40, 22, 19, 6, 17, 5, 3, 6, 10, 24, 12, 8, 8, 48, 6, 6, 50, 5, 9, 36, 32, 8, 13, 11, 13, 10, 12, 40, 8, 25, 26, 11, 12, 16, 23, 55, 2, 8, 10, 5, 9, 10, 9, 10, 5, 11, 20, 16, 9, 14, 9, 13, 5, 55, 21, 22, 29, 57, 36, 20, 16, 10, 6, 18, 17, 43, 15, 23, 53, 8, 24, 5, 34, 32, 16, 41, 8, 58, 10, 22, 25, 5, 9, 50, 34, 31, 17, 50, 17, 13, 13, 30, 4, 26, 2, 6, 16, 18, 10, 3, 24, 55, 7, 4, 8, 9, 2, 21, 17, 10, 8, 54, 2, 19, 56, 15, 15, 3, 7, 5, 6, 8, 3, 6, 3, 8, 12, 15, 5, 2, 2, 11, 2, 8, 14, 7, 5, 6, 16, 7, 17, 14, 8, 10, 2, 30, 39, 25, 15, 20, 8, 8, 5, 21, 43, 14, 10, 13, 3, 14, 11, 16, 4, 3, 7, 8, 9, 8, 4, 20, 6, 18, 22, 15, 17, 2, 31, 15, 11, 27, 2, 7, 46, 6, 37, 13, 5, 5, 12, 62, 16, 37, 11, 7, 21, 32, 14, 9, 1, 5, 49, 12, 9, 4, 8, 7, 30, 5, 26, 5, 16, 12, 6, 16, 5, 4, 60, 4, 18, 3, 2, 9, 19, 6, 16, 16, 15, 4, 17, 7, 23, 18, 17, 4, 15, 23, 2, 7, 43, 18, 48, 10, 64, 27, 56, 5, 10, 8, 4, 35, 9, 10, 7, 9, 3, 7, 26, 9, 30, 13, 28, 16, 8, 16, 16, 6, 23, 22, 51, 20, 31, 45, 3, 13, 13, 11, 11, 16, 20, 4, 43, 5, 5, 6, 53, 15, 13, 16, 34, 10, 22, 18, 16, 19, 17, 39, 7, 29, 2, 11, 21, 6, 14, 7, 10, 6, 30, 11, 13, 17, 12, 14, 10, 7, 7, 8, 11, 6, 5, 17, 25, 24, 29, 4, 11, 45, 5, 7, 25, 6, 22, 11, 9, 29, 4, 22, 11, 5, 4, 35, 43, 20, 3, 13, 15, 14, 9, 21, 14, 29, 2, 15, 4, 15, 18, 3, 42, 19, 12, 5, 5, 4, 15, 17, 57, 15, 29, 33, 7, 11, 13, 5, 2, 24, 11, 19, 17, 13, 26, 4, 12, 6, 18, 57, 14, 11, 4, 11, 2, 8, 13, 4, 22, 9, 4, 5, 45, 9, 15, 12, 3, 16, 28, 17, 14, 7, 30, 10, 22, 14, 6, 2, 14, 50, 12, 8, 48, 5, 14, 1, 34, 49, 7, 28, 10, 1, 16, 6, 19, 2, 10, 32, 22, 17, 17, 10, 3, 3, 42, 31, 16, 9, 25, 7, 4, 21, 4, 37, 30, 16, 12, 6, 3, 9, 16, 3, 53, 7, 12, 36, 13, 31, 20, 3, 39, 12, 3, 19, 15, 17, 30, 47, 9, 31, 10, 3, 25, 20, 10, 12, 47, 10, 7, 19, 11, 5, 23, 4, 5, 14, 3, 19, 7, 44, 3, 18, 4, 50, 2, 11, 22, 19, 10, 14, 19, 37, 17, 16, 58, 13, 8, 7, 4, 6, 5, 15, 19, 7, 11, 8, 12, 22, 52, 37, 38, 33, 4, 7, 17, 21, 24, 19, 39, 7, 6, 34, 7, 22, 6, 6, 3, 15, 2, 7, 7, 38, 10, 30, 3, 35, 8, 4, 8, 31, 2, 6, 18, 41, 13, 16, 8, 20, 17, 35, 6, 14, 34, 31, 7, 4, 24, 3, 8, 15, 6, 14, 38, 8, 17, 7, 31, 9, 9, 0, 22, 30, 9, 16, 16, 10, 22, 13, 13, 14, 7, 11, 3, 4, 39, 21, 16, 13, 10, 12, 7, 7, 9, 40, 13, 8, 13, 55, 8, 14, 9, 17, 11, 39, 37, 9, 18, 12, 33, 27, 8, 13, 5, 27, 34, 10, 28, 10, 16, 8, 5, 8, 3, 3, 23, 35, 30, 9, 14, 6, 5, 18, 17, 22, 9, 10, 8, 22, 6, 10, 6, 16, 24, 14, 5, 14, 23, 4, 25, 36, 4, 15, 12, 4, 23, 7, 47, 9, 16, 26, 6, 4, 23, 48, 7, 25, 25, 40, 4, 23, 17, 38, 9, 7, 10, 10, 63, 6, 12, 16, 22, 8, 3, 15, 39, 3, 13, 25, 3, 30, 36, 15, 7, 4, 28, 17, 4, 12, 8, 17, 33, 23, 1, 6, 6, 18, 6, 4, 35, 44, 62, 10, 5, 22, 34, 15, 2, 8, 10, 36, 8, 4, 15, 8, 10, 12, 4, 5, 3, 3, 20, 5, 4, 8, 17, 7, 20, 20, 45, 12, 12, 11, 6, 39, 2, 39, 22, 51, 51, 28, 4, 8, 17, 26, 37, 58, 13, 12, 13, 7, 12, 15, 13, 33, 17, 12, 14, 9, 17, 6, 3, 13, 24, 10, 21, 48, 52, 3, 9, 6, 32, 8, 12, 16, 37, 24, 7, 22, 35, 4, 5, 46, 21, 4, 6, 36, 12, 9, 4, 6, 25, 14, 18, 1, 10, 35, 35, 31, 2, 52, 5, 24, 3, 60, 7, 52, 32, 26, 9, 3, 12, 15, 14, 8, 3, 35, 3, 49, 35, 56, 55, 13, 11, 6, 13, 3, 24, 2, 8, 2, 54, 15, 25, 51, 16, 61, 2, 7, 3, 13, 9, 49, 4, 14, 14, 9, 29, 15, 28, 24, 15, 11, 32, 9, 23, 25, 8, 15, 9, 26, 29, 24, 58, 11, 2, 8, 7, 9, 7, 10, 5, 12, 27, 10, 31, 1, 6, 2, 6, 25, 21, 8, 26, 2, 8, 19, 32, 17, 13, 4, 5, 3, 17, 42, 16, 14, 3, 14, 10, 9, 23, 6, 2, 50, 11, 30, 46, 57, 70, 6, 15, 52, 15, 8, 21, 16, 9, 59, 12, 11, 52, 19, 4, 9, 30, 18, 34, 12, 4, 45, 2, 22, 63, 25, 41, 11, 5, 54, 23, 48, 51, 21, 53, 8, 38, 3, 22, 12, 5, 2, 10, 28, 32, 9, 17, 58, 7, 29, 8, 23, 21, 9, 6, 4, 1, 33, 0, 51, 22, 36, 12, 3, 7, 21, 6, 4, 36, 6, 5, 22, 10, 8, 46, 17, 8, 18, 12, 53, 21, 14, 6, 11, 3, 5, 13, 8, 48, 12, 2, 10, 1, 40, 5, 12, 12, 2, 6, 15, 39, 10, 54, 62, 13, 13, 4, 16, 14, 5, 10, 13, 4, 7, 5, 22, 10, 47, 1, 6, 49, 2, 31, 13, 8, 54, 54, 7, 12, 5, 5, 20, 11, 2, 18, 5, 8, 5, 7, 7, 13, 18, 17, 13, 15, 6, 46, 15, 5, 17, 32, 22, 3, 12, 20, 14, 13, 60, 22, 5, 2, 19, 13, 7, 22, 54, 26, 28, 11, 6, 4, 16, 15, 5, 4, 27, 11, 31, 5, 10, 5, 27, 9, 38, 11, 5, 3, 6, 20, 2, 8, 22, 21, 3, 11, 40, 9, 2, 29, 13, 4, 10, 20, 18, 5, 19, 1, 2, 27, 7, 46, 125, 20, 11, 10, 4, 8, 8, 40, 5, 7, 8, 52, 6, 14, 10, 1, 25, 3, 13, 33, 9, 9, 6, 11, 9, 13, 14, 6, 53, 4, 7, 8, 8, 1, 9, 5, 4, 26, 26, 5, 8, 3, 6, 4, 7, 5, 3, 10, 10, 5, 7, 9, 42, 14, 10, 48, 10, 22, 34, 3, 6, 5, 9, 30, 14, 25, 10, 46, 19, 2, 11, 4, 11, 6, 29, 6, 7, 33, 5, 2, 9, 7, 3, 4, 6, 12, 32, 2, 59, 61, 8, 2, 32, 22, 8, 20, 13, 22, 9, 18, 22, 56, 4, 21, 40, 56, 56, 25, 8, 7, 5, 13, 31, 52, 27, 7, 12, 6, 18, 54, 5, 3, 9, 4, 18], \"xaxis\": \"x\", \"yaxis\": \"y\"}],\n",
              "                        {\"barmode\": \"relative\", \"legend\": {\"tracegroupgap\": 0}, \"margin\": {\"t\": 60}, \"template\": {\"data\": {\"bar\": [{\"error_x\": {\"color\": \"#2a3f5f\"}, \"error_y\": {\"color\": \"#2a3f5f\"}, \"marker\": {\"line\": {\"color\": \"#E5ECF6\", \"width\": 0.5}}, \"type\": \"bar\"}], \"barpolar\": [{\"marker\": {\"line\": {\"color\": \"#E5ECF6\", \"width\": 0.5}}, \"type\": \"barpolar\"}], \"carpet\": [{\"aaxis\": {\"endlinecolor\": \"#2a3f5f\", \"gridcolor\": \"white\", \"linecolor\": \"white\", \"minorgridcolor\": \"white\", \"startlinecolor\": \"#2a3f5f\"}, \"baxis\": {\"endlinecolor\": \"#2a3f5f\", \"gridcolor\": \"white\", \"linecolor\": \"white\", \"minorgridcolor\": \"white\", \"startlinecolor\": \"#2a3f5f\"}, \"type\": \"carpet\"}], \"choropleth\": [{\"colorbar\": {\"outlinewidth\": 0, \"ticks\": \"\"}, \"type\": \"choropleth\"}], \"contour\": [{\"colorbar\": {\"outlinewidth\": 0, \"ticks\": \"\"}, \"colorscale\": [[0.0, \"#0d0887\"], [0.1111111111111111, \"#46039f\"], [0.2222222222222222, \"#7201a8\"], [0.3333333333333333, \"#9c179e\"], [0.4444444444444444, \"#bd3786\"], [0.5555555555555556, \"#d8576b\"], [0.6666666666666666, \"#ed7953\"], [0.7777777777777778, \"#fb9f3a\"], [0.8888888888888888, \"#fdca26\"], [1.0, \"#f0f921\"]], \"type\": \"contour\"}], \"contourcarpet\": [{\"colorbar\": {\"outlinewidth\": 0, \"ticks\": \"\"}, \"type\": \"contourcarpet\"}], \"heatmap\": [{\"colorbar\": {\"outlinewidth\": 0, \"ticks\": \"\"}, \"colorscale\": [[0.0, \"#0d0887\"], [0.1111111111111111, \"#46039f\"], [0.2222222222222222, \"#7201a8\"], [0.3333333333333333, \"#9c179e\"], [0.4444444444444444, \"#bd3786\"], [0.5555555555555556, \"#d8576b\"], [0.6666666666666666, \"#ed7953\"], [0.7777777777777778, \"#fb9f3a\"], [0.8888888888888888, \"#fdca26\"], [1.0, \"#f0f921\"]], \"type\": \"heatmap\"}], \"heatmapgl\": [{\"colorbar\": {\"outlinewidth\": 0, \"ticks\": \"\"}, \"colorscale\": [[0.0, \"#0d0887\"], [0.1111111111111111, \"#46039f\"], [0.2222222222222222, \"#7201a8\"], [0.3333333333333333, \"#9c179e\"], [0.4444444444444444, \"#bd3786\"], [0.5555555555555556, \"#d8576b\"], [0.6666666666666666, \"#ed7953\"], [0.7777777777777778, \"#fb9f3a\"], [0.8888888888888888, \"#fdca26\"], [1.0, \"#f0f921\"]], \"type\": \"heatmapgl\"}], \"histogram\": [{\"marker\": {\"colorbar\": {\"outlinewidth\": 0, \"ticks\": \"\"}}, \"type\": \"histogram\"}], \"histogram2d\": [{\"colorbar\": {\"outlinewidth\": 0, \"ticks\": \"\"}, \"colorscale\": [[0.0, \"#0d0887\"], [0.1111111111111111, \"#46039f\"], [0.2222222222222222, \"#7201a8\"], [0.3333333333333333, \"#9c179e\"], [0.4444444444444444, \"#bd3786\"], [0.5555555555555556, \"#d8576b\"], [0.6666666666666666, \"#ed7953\"], [0.7777777777777778, \"#fb9f3a\"], [0.8888888888888888, \"#fdca26\"], [1.0, \"#f0f921\"]], \"type\": \"histogram2d\"}], \"histogram2dcontour\": [{\"colorbar\": {\"outlinewidth\": 0, \"ticks\": \"\"}, \"colorscale\": [[0.0, \"#0d0887\"], [0.1111111111111111, \"#46039f\"], [0.2222222222222222, \"#7201a8\"], [0.3333333333333333, \"#9c179e\"], [0.4444444444444444, \"#bd3786\"], [0.5555555555555556, \"#d8576b\"], [0.6666666666666666, \"#ed7953\"], [0.7777777777777778, \"#fb9f3a\"], [0.8888888888888888, \"#fdca26\"], [1.0, \"#f0f921\"]], \"type\": \"histogram2dcontour\"}], \"mesh3d\": [{\"colorbar\": {\"outlinewidth\": 0, \"ticks\": \"\"}, \"type\": \"mesh3d\"}], \"parcoords\": [{\"line\": {\"colorbar\": {\"outlinewidth\": 0, \"ticks\": \"\"}}, \"type\": \"parcoords\"}], \"pie\": [{\"automargin\": true, \"type\": \"pie\"}], \"scatter\": [{\"marker\": {\"colorbar\": {\"outlinewidth\": 0, \"ticks\": \"\"}}, \"type\": \"scatter\"}], \"scatter3d\": [{\"line\": {\"colorbar\": {\"outlinewidth\": 0, \"ticks\": \"\"}}, \"marker\": {\"colorbar\": {\"outlinewidth\": 0, \"ticks\": \"\"}}, \"type\": \"scatter3d\"}], \"scattercarpet\": [{\"marker\": {\"colorbar\": {\"outlinewidth\": 0, \"ticks\": \"\"}}, \"type\": \"scattercarpet\"}], \"scattergeo\": [{\"marker\": {\"colorbar\": {\"outlinewidth\": 0, \"ticks\": \"\"}}, \"type\": \"scattergeo\"}], \"scattergl\": [{\"marker\": {\"colorbar\": {\"outlinewidth\": 0, \"ticks\": \"\"}}, \"type\": \"scattergl\"}], \"scattermapbox\": [{\"marker\": {\"colorbar\": {\"outlinewidth\": 0, \"ticks\": \"\"}}, \"type\": \"scattermapbox\"}], \"scatterpolar\": [{\"marker\": {\"colorbar\": {\"outlinewidth\": 0, \"ticks\": \"\"}}, \"type\": \"scatterpolar\"}], \"scatterpolargl\": [{\"marker\": {\"colorbar\": {\"outlinewidth\": 0, \"ticks\": \"\"}}, \"type\": \"scatterpolargl\"}], \"scatterternary\": [{\"marker\": {\"colorbar\": {\"outlinewidth\": 0, \"ticks\": \"\"}}, \"type\": \"scatterternary\"}], \"surface\": [{\"colorbar\": {\"outlinewidth\": 0, \"ticks\": \"\"}, \"colorscale\": [[0.0, \"#0d0887\"], [0.1111111111111111, \"#46039f\"], [0.2222222222222222, \"#7201a8\"], [0.3333333333333333, \"#9c179e\"], [0.4444444444444444, \"#bd3786\"], [0.5555555555555556, \"#d8576b\"], [0.6666666666666666, \"#ed7953\"], [0.7777777777777778, \"#fb9f3a\"], [0.8888888888888888, \"#fdca26\"], [1.0, \"#f0f921\"]], \"type\": \"surface\"}], \"table\": [{\"cells\": {\"fill\": {\"color\": \"#EBF0F8\"}, \"line\": {\"color\": \"white\"}}, \"header\": {\"fill\": {\"color\": \"#C8D4E3\"}, \"line\": {\"color\": \"white\"}}, \"type\": \"table\"}]}, \"layout\": {\"annotationdefaults\": {\"arrowcolor\": \"#2a3f5f\", \"arrowhead\": 0, \"arrowwidth\": 1}, \"coloraxis\": {\"colorbar\": {\"outlinewidth\": 0, \"ticks\": \"\"}}, \"colorscale\": {\"diverging\": [[0, \"#8e0152\"], [0.1, \"#c51b7d\"], [0.2, \"#de77ae\"], [0.3, \"#f1b6da\"], [0.4, \"#fde0ef\"], [0.5, \"#f7f7f7\"], [0.6, \"#e6f5d0\"], [0.7, \"#b8e186\"], [0.8, \"#7fbc41\"], [0.9, \"#4d9221\"], [1, \"#276419\"]], \"sequential\": [[0.0, \"#0d0887\"], [0.1111111111111111, \"#46039f\"], [0.2222222222222222, \"#7201a8\"], [0.3333333333333333, \"#9c179e\"], [0.4444444444444444, \"#bd3786\"], [0.5555555555555556, \"#d8576b\"], [0.6666666666666666, \"#ed7953\"], [0.7777777777777778, \"#fb9f3a\"], [0.8888888888888888, \"#fdca26\"], [1.0, \"#f0f921\"]], \"sequentialminus\": [[0.0, \"#0d0887\"], [0.1111111111111111, \"#46039f\"], [0.2222222222222222, \"#7201a8\"], [0.3333333333333333, \"#9c179e\"], [0.4444444444444444, \"#bd3786\"], [0.5555555555555556, \"#d8576b\"], [0.6666666666666666, \"#ed7953\"], [0.7777777777777778, \"#fb9f3a\"], [0.8888888888888888, \"#fdca26\"], [1.0, \"#f0f921\"]]}, \"colorway\": [\"#636efa\", \"#EF553B\", \"#00cc96\", \"#ab63fa\", \"#FFA15A\", \"#19d3f3\", \"#FF6692\", \"#B6E880\", \"#FF97FF\", \"#FECB52\"], \"font\": {\"color\": \"#2a3f5f\"}, \"geo\": {\"bgcolor\": \"white\", \"lakecolor\": \"white\", \"landcolor\": \"#E5ECF6\", \"showlakes\": true, \"showland\": true, \"subunitcolor\": \"white\"}, \"hoverlabel\": {\"align\": \"left\"}, \"hovermode\": \"closest\", \"mapbox\": {\"style\": \"light\"}, \"paper_bgcolor\": \"white\", \"plot_bgcolor\": \"#E5ECF6\", \"polar\": {\"angularaxis\": {\"gridcolor\": \"white\", \"linecolor\": \"white\", \"ticks\": \"\"}, \"bgcolor\": \"#E5ECF6\", \"radialaxis\": {\"gridcolor\": \"white\", \"linecolor\": \"white\", \"ticks\": \"\"}}, \"scene\": {\"xaxis\": {\"backgroundcolor\": \"#E5ECF6\", \"gridcolor\": \"white\", \"gridwidth\": 2, \"linecolor\": \"white\", \"showbackground\": true, \"ticks\": \"\", \"zerolinecolor\": \"white\"}, \"yaxis\": {\"backgroundcolor\": \"#E5ECF6\", \"gridcolor\": \"white\", \"gridwidth\": 2, \"linecolor\": \"white\", \"showbackground\": true, \"ticks\": \"\", \"zerolinecolor\": \"white\"}, \"zaxis\": {\"backgroundcolor\": \"#E5ECF6\", \"gridcolor\": \"white\", \"gridwidth\": 2, \"linecolor\": \"white\", \"showbackground\": true, \"ticks\": \"\", \"zerolinecolor\": \"white\"}}, \"shapedefaults\": {\"line\": {\"color\": \"#2a3f5f\"}}, \"ternary\": {\"aaxis\": {\"gridcolor\": \"white\", \"linecolor\": \"white\", \"ticks\": \"\"}, \"baxis\": {\"gridcolor\": \"white\", \"linecolor\": \"white\", \"ticks\": \"\"}, \"bgcolor\": \"#E5ECF6\", \"caxis\": {\"gridcolor\": \"white\", \"linecolor\": \"white\", \"ticks\": \"\"}}, \"title\": {\"x\": 0.05}, \"xaxis\": {\"automargin\": true, \"gridcolor\": \"white\", \"linecolor\": \"white\", \"ticks\": \"\", \"title\": {\"standoff\": 15}, \"zerolinecolor\": \"white\", \"zerolinewidth\": 2}, \"yaxis\": {\"automargin\": true, \"gridcolor\": \"white\", \"linecolor\": \"white\", \"ticks\": \"\", \"title\": {\"standoff\": 15}, \"zerolinecolor\": \"white\", \"zerolinewidth\": 2}}}, \"xaxis\": {\"anchor\": \"y\", \"domain\": [0.0, 1.0], \"title\": {\"text\": \"x\"}}, \"yaxis\": {\"anchor\": \"x\", \"domain\": [0.0, 1.0], \"title\": {\"text\": \"count\"}}},\n",
              "                        {\"responsive\": true}\n",
              "                    ).then(function(){\n",
              "                            \n",
              "var gd = document.getElementById('0bc7258c-11c9-4698-81b3-974f348ef82f');\n",
              "var x = new MutationObserver(function (mutations, observer) {{\n",
              "        var display = window.getComputedStyle(gd).display;\n",
              "        if (!display || display === 'none') {{\n",
              "            console.log([gd, 'removed!']);\n",
              "            Plotly.purge(gd);\n",
              "            observer.disconnect();\n",
              "        }}\n",
              "}});\n",
              "\n",
              "// Listen for the removal of the full notebook cells\n",
              "var notebookContainer = gd.closest('#notebook-container');\n",
              "if (notebookContainer) {{\n",
              "    x.observe(notebookContainer, {childList: true});\n",
              "}}\n",
              "\n",
              "// Listen for the clearing of the current output cell\n",
              "var outputEl = gd.closest('.output');\n",
              "if (outputEl) {{\n",
              "    x.observe(outputEl, {childList: true});\n",
              "}}\n",
              "\n",
              "                        })\n",
              "                };\n",
              "                \n",
              "            </script>\n",
              "        </div>\n",
              "</body>\n",
              "</html>"
            ]
          },
          "metadata": {
            "tags": []
          }
        },
        {
          "output_type": "display_data",
          "data": {
            "text/html": [
              "<html>\n",
              "<head><meta charset=\"utf-8\" /></head>\n",
              "<body>\n",
              "    <div>\n",
              "            <script src=\"https://cdnjs.cloudflare.com/ajax/libs/mathjax/2.7.5/MathJax.js?config=TeX-AMS-MML_SVG\"></script><script type=\"text/javascript\">if (window.MathJax) {MathJax.Hub.Config({SVG: {font: \"STIX-Web\"}});}</script>\n",
              "                <script type=\"text/javascript\">window.PlotlyConfig = {MathJaxConfig: 'local'};</script>\n",
              "        <script src=\"https://cdn.plot.ly/plotly-latest.min.js\"></script>    \n",
              "            <div id=\"ce2058d2-7ea1-4577-86b9-47159e7f7af8\" class=\"plotly-graph-div\" style=\"height:525px; width:100%;\"></div>\n",
              "            <script type=\"text/javascript\">\n",
              "                \n",
              "                    window.PLOTLYENV=window.PLOTLYENV || {};\n",
              "                    \n",
              "                if (document.getElementById(\"ce2058d2-7ea1-4577-86b9-47159e7f7af8\")) {\n",
              "                    Plotly.newPlot(\n",
              "                        'ce2058d2-7ea1-4577-86b9-47159e7f7af8',\n",
              "                        [{\"alignmentgroup\": \"True\", \"bingroup\": \"x\", \"hoverlabel\": {\"namelength\": 0}, \"hovertemplate\": \"x=%{x}<br>count=%{y}\", \"legendgroup\": \"\", \"marker\": {\"color\": \"#636efa\"}, \"name\": \"\", \"nbinsx\": 200, \"offsetgroup\": \"\", \"orientation\": \"v\", \"showlegend\": false, \"type\": \"histogram\", \"x\": [12, 1, 28, 9, 8, 2, 2, 29, 4, 6, 6, 16, 10, 8, 13, 54, 7, 33, 28, 11, 36, 9, 15, 7, 9, 18, 17, 31, 8, 11, 7, 16, 7, 6, 4, 8, 22, 7, 7, 11, 9, 4, 61, 22, 46, 7, 12, 3, 46, 30, 19, 7, 20, 29, 12, 5, 43, 35, 9, 3, 29, 32, 5, 12, 14, 9, 17, 44, 27, 60, 17, 8, 7, 48, 35, 19, 18, 11, 8, 12, 3, 55, 6, 16, 9, 39, 12, 4, 2, 52, 18, 2, 10, 8, 34, 15, 10, 10, 12, 1, 4, 5, 16, 2, 34, 39, 41, 5, 6, 37, 6, 13, 5, 7, 14, 35, 7, 15, 10, 61, 16, 27, 6, 6, 5, 20, 12, 8, 8, 12, 8, 11, 4, 8, 20, 2, 40, 20, 5, 8, 5, 6, 17, 55, 12, 5, 6, 3, 10, 9, 4, 7, 8, 7, 5, 10, 20, 54, 6, 15, 6, 22, 7, 9, 41, 23, 3, 46, 15, 3, 35, 3, 4, 10, 4, 12, 10, 4, 19, 21, 5, 15, 5, 23, 7, 28, 15, 10, 34, 11, 22, 15, 54, 23, 5, 19, 9, 53, 25, 4, 29, 4, 3, 14, 15, 22, 9, 27, 5, 43, 22, 33, 39, 13, 20, 11, 6, 41, 5, 6, 6, 18, 36, 8, 18, 15, 2, 10, 13, 10, 23, 11, 10, 3, 10, 6, 11, 13, 8, 22, 27, 12, 11, 19, 63, 30, 52, 3, 55, 2, 10, 5, 4, 15, 5, 4, 6, 4, 19, 17, 5, 35, 5, 39, 9, 42, 5, 13, 10, 27, 12, 14, 25, 9, 46, 33, 2, 7, 33, 57, 5, 35, 6, 15, 8, 20, 16, 5, 6, 27, 6, 24, 22, 11, 30, 19, 12, 6, 2, 1, 5, 18, 28, 28, 6, 7, 6, 74, 4, 9, 28, 2, 8, 5, 3, 16, 7, 15, 9, 2, 7, 10, 46, 34, 21, 22, 62, 8, 11, 4, 6, 2, 14, 3, 6, 8, 6, 11, 12, 52, 7, 13, 15, 18, 14, 19, 5, 15, 9, 34, 20, 3, 4, 6, 16, 7, 6, 2, 4, 6, 14, 31, 4, 5, 18, 8, 50, 15, 10, 23, 6, 33, 53, 12, 3, 14, 51, 8, 22, 5, 21, 21, 20, 23, 23, 3, 51, 5, 10, 4, 41, 33, 26, 16, 8, 21, 9, 8, 2, 16, 15, 16, 7, 12, 48, 5, 8, 17, 11, 30, 6, 6, 59, 19, 13, 5, 9, 6, 3, 52, 4, 11, 3, 32, 16, 26, 15, 9, 40, 26, 4, 0, 46, 15, 26, 4, 12, 4, 20, 3, 7, 36, 14, 3, 1, 13, 6, 6, 17, 13, 15, 9, 7, 9, 4, 38, 46, 9, 4, 10, 62, 29, 15, 9, 8, 24, 15, 8, 13, 51, 4, 23, 14, 25, 19, 17, 7, 3, 4, 14, 9, 33, 20, 8, 8, 5, 17, 51, 27, 9, 59, 11, 6, 11, 44, 6, 61, 48, 21, 3, 9, 15, 18, 22, 2, 11, 7, 8, 24, 8, 30, 6, 12, 38, 9, 21, 21, 13, 49, 29, 3, 15, 37, 4, 11, 14, 17, 23, 15, 14, 37, 10, 26, 6, 47, 47, 51, 26, 11, 8, 9, 1, 51, 22, 36, 7, 27, 2, 10, 2, 10, 8, 18, 1, 26, 3, 15, 25, 13, 20, 21, 19, 24, 10, 1, 14, 8, 3, 34, 8, 6, 49, 37, 60, 9, 7, 2, 5, 13, 5, 56, 2, 6, 23, 7, 19, 30, 10, 17, 11, 30, 13, 3, 13, 6, 37, 12, 23, 1, 3, 51, 56, 31, 9, 12, 18, 2, 12, 6, 6, 2, 55, 3, 16, 21, 11, 16, 5, 60, 27, 21, 6, 9, 56, 2, 4, 3, 8, 3, 7, 15, 17, 16, 5, 42, 16, 21, 5, 34, 51, 12, 4, 23, 38, 23, 57, 4, 64, 51, 5, 8, 5, 7, 51, 13, 25, 8, 52, 57, 6, 2, 18, 50, 7, 5, 6, 18, 9, 5, 6, 5, 20, 33, 25, 10, 24, 8, 20, 18, 8, 19, 24, 22, 13, 23, 49, 2, 12, 7, 10, 7, 14, 19, 21, 35, 6, 3, 5, 26, 4, 14, 40, 12, 5, 16, 21, 10, 64, 22, 17, 2, 30, 7, 9, 16, 3, 18, 48, 11, 5, 10, 2, 5, 9, 7, 7, 44, 9, 11, 19, 9, 11, 13, 53, 6, 7, 4, 14, 22, 3, 7, 20, 26, 9, 11, 3, 14, 14, 7, 7, 20, 9, 1, 5, 10, 18, 9, 3, 4, 9, 9, 5, 11, 21, 11, 25, 12, 11, 22, 34, 23, 3, 3, 15, 11, 16, 58, 6, 8, 25, 11, 8, 23, 51, 8, 4, 18, 21, 6, 13, 21, 20, 4, 13, 17, 25, 5, 48, 7, 14, 4, 17, 58, 12, 9, 18, 9, 20, 67, 11, 72, 16, 38, 12, 26, 17, 9, 32, 8, 5, 6, 17, 12, 8, 31, 7, 9, 11, 10, 20, 16, 35, 5, 43, 31, 5, 3, 12, 17, 15, 6, 9, 28, 50, 4, 26, 13, 4, 17, 14, 4, 2, 5, 26, 23, 11, 20, 2, 22, 5, 4, 8, 6, 7, 7, 3, 21, 29, 13, 5, 18, 19, 13, 21, 3, 17, 13, 31, 14, 11, 18, 16, 28, 3, 15, 22, 17, 5, 5, 9, 10, 4, 18, 8, 10, 8, 19, 16, 8, 4, 6, 20, 10, 11, 18, 10, 2, 6, 10, 10, 38, 5, 1, 8, 8, 17, 6, 8, 3, 71, 40, 14, 30, 16, 10, 6, 30, 40, 19, 15, 19, 7, 3, 12, 32, 7, 10, 4, 14, 13, 43, 11, 22, 3, 8, 3, 12, 12, 56, 12, 33, 6, 18, 28, 8, 18, 11, 7, 6, 8, 17, 22, 23, 23, 50, 6, 5, 3, 10, 2, 7, 12, 16, 10, 11, 5, 3, 4, 23, 23, 10, 20, 32, 21, 8, 7, 23, 24, 8, 8, 30, 15, 4, 59, 13, 56, 13, 19, 5, 20, 3, 37, 11, 26, 26, 21, 4, 12, 25, 5, 23, 5, 8, 5, 28, 11, 2, 53, 10, 14, 54, 16, 6, 7, 4, 10, 23, 10, 5, 9, 6, 12, 2, 11, 7, 11, 8, 11, 10, 24, 22, 27, 48, 21, 6, 58, 3, 48, 27, 13, 20, 27, 5, 21, 3, 6, 5, 9, 20, 55, 17, 52, 12, 17, 7, 8, 17, 8, 22, 38, 36, 9, 4, 18, 2, 51, 2, 4, 18, 8, 53, 30, 6, 35, 20, 8, 3, 48, 30, 12, 23, 15, 15, 9, 14, 34, 12, 2, 41, 45, 44, 10, 39, 9, 11, 1, 16, 10, 17, 19, 12, 12, 31, 3, 26, 4, 6, 19, 8, 6, 7, 18, 9, 4, 4, 17, 24, 23, 20, 2, 16, 15, 6, 24, 19, 30, 6, 15, 13, 52, 31, 11, 2, 5, 7, 5, 17, 7, 10, 3, 7, 38, 2, 16, 6, 9, 18, 47, 6, 16, 2, 15, 16, 15, 31, 8, 43, 20, 13, 6, 52, 9, 8, 14, 4, 3, 13, 17, 9, 13, 1, 22, 14, 11, 22, 9, 13, 14, 55, 5, 24, 9, 8, 11, 9, 15, 2, 21, 17, 4, 35, 19, 11, 14, 6, 25, 7, 16, 11, 23, 10, 13, 15, 45, 5, 5, 17, 2, 2, 21, 7, 2, 8, 6, 22, 13, 13, 7, 4, 17, 19, 10, 13, 1, 18, 4, 53, 19, 16, 8, 16, 9, 15, 4, 25, 14, 5, 19, 7, 24, 6, 6, 7, 15, 44, 12, 20, 25, 28, 55, 21, 18, 59, 46, 36, 8, 2, 15, 11, 3, 34, 26, 14, 17, 5, 9, 4, 20, 23, 4, 6, 23, 28, 3, 24, 12, 33, 5, 24, 16, 2, 40, 18, 3, 18, 6, 38, 34, 7, 56, 14, 31, 7, 9, 7, 12, 3, 10, 41, 16, 28, 2, 5, 5, 5, 32, 6, 12, 45, 4, 5, 2, 3, 15, 3, 5, 11, 23, 11, 11, 26, 4, 3, 14, 4, 20, 8, 3, 13, 9, 12, 14, 7, 3, 3, 34, 12, 11, 7, 10, 3, 8, 3, 6, 12, 57, 5, 11, 28, 24, 6, 32, 27, 3, 5, 6, 5, 26, 7, 3, 26, 4, 9, 4, 8, 13, 8, 3, 28, 5, 14, 2, 18, 26, 5, 12, 23, 12, 53, 5, 10, 3, 11, 13, 5, 13, 2, 5, 11, 13, 46, 12, 39, 1, 8, 12, 8, 31, 15, 8, 3, 40, 2, 8, 6, 2, 9, 6, 27, 35, 2, 15, 16, 8, 1, 4, 16, 15, 11, 3, 7, 7, 3, 22, 13, 43, 6, 53, 17, 27, 43, 7, 11, 30, 40, 17, 23, 55, 17, 22, 2, 30, 11, 9, 22, 11, 43, 2, 40, 4, 3, 6, 2, 18, 6, 7, 14, 3, 5, 12, 23, 43, 23, 34, 3, 15, 4, 8, 10, 5, 6, 1, 25, 9, 51, 13, 15, 35, 12, 6, 5, 30, 27, 6, 8, 10, 4, 5, 11, 3, 27, 1, 5, 11, 4, 7, 5, 16, 18, 12, 6, 10, 8, 13, 26, 23, 3, 29, 2, 3, 64, 2, 2, 29, 5, 11, 9, 4, 7, 9, 11, 7, 9, 13, 6, 22, 12, 30, 9, 5, 2, 35, 5, 10, 6, 3, 11, 52, 6, 32, 5, 6, 17, 7, 15, 13, 11, 4, 2, 55, 9, 19, 42, 16, 38, 8, 8, 4, 7, 7, 34, 28, 22, 37, 28, 2, 4, 10, 3, 15, 14, 4, 3, 6, 7, 11, 3, 24, 10, 6, 15, 39, 13, 50, 7, 16, 3, 39, 11, 3, 44, 10, 21, 9, 5, 9, 18, 30, 6, 9, 7, 1, 1, 9, 6, 6, 3, 45, 2, 8, 36, 6, 4, 15, 7, 6, 47, 5, 17, 9, 36, 13, 25, 9, 9, 21, 10, 5, 3, 10, 4, 16, 12, 12, 15, 7, 4, 6, 12, 13, 7, 7, 23, 4, 19, 33, 6, 6, 17, 95, 55, 4, 6, 7, 8, 5, 4, 17, 2, 12, 25, 9, 9, 8, 7, 12, 9, 13, 67, 20, 19, 56, 12, 24, 12, 13, 15, 38, 20, 4, 4, 23, 2, 18, 14, 2, 7, 6, 58, 19, 14, 56, 12, 2, 3, 9, 21, 3, 36, 44, 15, 14, 48, 29, 52, 9, 49, 43, 22, 7, 2, 2, 6, 6, 19, 28, 50, 7, 4, 10, 7, 20, 40, 8, 13, 6, 55, 62, 6, 16, 10, 14, 12, 11, 16, 10, 5, 10, 12, 30, 5, 18, 6, 8, 21, 27, 8, 23, 17, 33, 37, 56, 1, 16, 33, 10, 6, 15, 46, 12, 6, 13, 18, 13, 32, 47, 18, 22, 10, 6, 2, 7, 7, 10, 3, 19, 18, 11, 4, 8, 8, 11, 24, 4, 8, 6, 12, 15, 5, 22, 10, 65, 18, 31, 21, 52, 9, 18, 27, 19, 4, 4, 11, 4, 29, 23, 22, 3, 10, 9, 19, 17, 26, 18, 47, 9, 2, 27, 32, 8, 43, 7, 4, 4, 19, 30, 36, 48, 49, 15, 39, 63, 8, 3, 3, 4, 6, 7, 8, 13, 7, 5, 40, 13, 25, 11, 11, 3, 20, 34, 3, 2, 9, 11, 42, 17, 1, 21, 12, 20, 6, 42, 8, 6, 47, 11, 21, 11, 10, 31, 19, 10, 11, 9, 10, 18, 33, 51, 8, 13, 6, 3, 4, 9, 16, 5, 9, 2, 26, 4, 14, 28, 57, 31, 7, 23, 2, 4, 23, 18, 8, 17, 15, 7, 5, 10, 5, 19, 14, 21, 10, 39, 15, 11, 10, 46, 37, 12, 4, 22, 4, 44, 13, 12, 8, 6, 16, 16, 42, 2, 16, 20, 13, 1, 9, 9, 4, 9, 15, 9, 13, 2, 26, 14, 8, 134, 3, 15, 8, 10, 27, 9, 1, 32, 6, 11, 1, 4, 56, 40, 20, 41, 11, 14, 3, 23, 12, 59, 3, 7, 17, 4, 15, 16, 4, 4, 44, 2, 7, 18, 14, 53, 29, 16, 54, 14, 14, 58, 8, 9, 19, 9, 7, 8, 9, 10, 21, 3, 53, 13, 54, 43, 36, 8, 5, 16, 25, 43, 8, 2, 12, 15, 10, 6, 23, 64, 13, 8, 15, 16, 3, 2, 1, 11, 24, 5, 2, 15, 2, 19, 29, 53, 53, 2, 8, 5, 20, 7, 9, 6, 16, 15, 9, 23, 4, 55, 9, 13, 20, 7, 8, 5, 13, 10, 12, 10, 59, 11, 55, 4, 10, 14, 21, 4, 6, 23, 7, 20, 18, 20, 6, 17, 14, 6, 7, 4, 7, 9, 28, 40, 8, 24, 23, 3, 6, 6, 51, 4, 5, 5, 3, 47, 9, 16, 15, 19, 6, 9, 16, 14, 2, 5, 14, 12, 17, 24, 4, 16, 57, 4, 3, 49, 59, 7, 17, 14, 31, 40, 20, 5, 18, 11, 16, 56, 2, 26, 22, 19, 2, 2, 15, 4, 28, 12, 20, 14, 5, 60, 1, 10, 4, 15, 36, 5, 14, 7, 6, 5, 6, 13, 9, 31, 9, 7, 16, 18, 21, 2, 17, 22, 14, 2, 5, 56, 15, 13, 11, 18, 12, 13, 12, 4, 12, 6, 21, 56, 27, 35, 21, 44, 25, 11, 3, 8, 9, 17, 6, 5, 14, 7, 13, 10, 36, 25, 35, 13, 22, 42, 18, 24, 1, 17, 39, 6, 5, 19, 5, 3, 7, 6, 6, 11, 28, 10, 8, 16, 12, 29, 26, 10, 14, 11, 2, 19, 4, 13, 9, 16, 14, 31, 6, 12, 12, 58, 53, 8, 7, 16, 19, 3, 16, 2, 16, 7, 39, 21, 18, 60, 5, 16, 40, 16, 7, 13, 14, 12, 21, 15, 53, 4, 3, 5, 11, 8, 19, 30, 2, 8, 17, 7, 4, 7, 40, 61, 9, 34, 11, 12, 5, 10, 5, 26, 18, 13, 30, 7, 45, 45, 1, 15, 11, 7, 18, 19, 8, 19, 14, 11, 9, 9, 16, 26, 8, 59, 5, 11, 59, 10, 22, 2, 5, 4, 10, 53, 30, 36, 12, 47, 31, 15, 16, 2, 36, 8, 27, 3, 7, 6, 11, 17, 8, 8, 21, 15, 4, 5, 15, 15, 2, 28, 31, 37, 22, 10, 9, 9, 10, 7, 22, 24, 8, 56, 41, 21, 54, 27, 17, 10, 10, 52, 13, 3, 38, 16, 6, 2, 37, 6, 22, 16, 6, 12, 17, 6, 5, 4, 2, 8, 5, 26, 22, 10, 9, 5, 20, 15, 6, 54, 18, 4, 8, 5, 8, 8, 6, 14, 4, 13, 10, 18, 44, 23, 9, 28, 16, 2, 5, 14, 10, 3, 7, 19, 18, 6, 17, 10, 20, 49, 16, 17, 2, 8, 5, 4, 20, 15, 8, 19, 9, 4, 3, 13, 19, 3, 16, 38, 5, 11, 5, 15, 14, 4, 29, 11, 5, 4, 4, 7, 8, 22, 37, 9, 5, 28, 11, 5, 6, 14, 16, 55, 10, 8, 29, 23, 9, 42, 10, 8, 22, 15, 10, 21, 13, 6, 16, 18, 6, 10, 9, 16, 4, 3, 10, 21, 18, 51, 4, 4, 10, 2, 17, 16, 14, 4, 7, 13, 3, 4, 7, 54, 9, 15, 31, 52, 13, 17, 6, 6, 5, 12, 10, 7, 24, 11, 18, 2, 8, 10, 22, 52, 10, 42, 12, 4, 14, 9, 10, 28, 2, 2, 9, 36, 13, 16, 5, 22, 16, 8, 23, 53, 40, 9, 11, 10, 20, 6, 17, 17, 30, 22, 22, 22, 2, 20, 18, 31, 4, 14, 13, 2, 42, 1, 13, 27, 15, 8, 20, 7, 5, 9, 25, 13, 19, 14, 4, 18, 8, 38, 6, 35, 20, 37, 63, 10, 17, 3, 29, 17, 8, 8, 29, 25, 9, 39, 13, 6, 5, 15, 4, 9, 6, 50, 7, 44, 3, 7, 7, 33, 14, 11, 19, 3, 41, 17, 2, 6, 12, 7, 14, 17, 23, 5, 22, 5, 12, 32, 19, 16, 16, 26, 5, 8, 15, 62, 6, 11, 23, 57, 50, 12, 7, 20, 23, 22, 38, 6, 5, 22, 21, 4, 6, 3, 3, 12, 15, 20, 2, 6, 5, 13, 7, 4, 14, 61, 17, 7, 56, 27, 9, 15, 24, 3, 33, 26, 10, 11, 8, 16, 7, 13, 22, 7, 7, 4, 8, 1, 4, 48, 17, 15, 9, 15, 17, 20, 20, 19, 6, 13, 7, 11, 43, 55, 13, 3, 13, 7, 3, 34, 5, 6, 6, 8, 19, 32, 2, 3, 14, 8, 31, 2, 16, 8, 2, 9, 15, 11, 2, 37, 3, 5, 13, 22, 4, 8, 6, 3, 12, 7, 4, 24, 30, 27, 9, 16, 13, 18, 51, 4, 6, 9, 4, 21, 22, 3, 14, 5, 11, 5, 7, 33, 3, 6, 17, 29, 16, 7, 27, 14, 6, 24, 4, 25, 16, 4, 5, 9, 6, 20, 8, 16, 10, 16, 7, 5, 5, 14, 28, 26, 7, 9, 19, 31, 3, 6, 11, 2, 45, 18, 5, 27, 12, 11, 6, 3, 1, 11, 6, 6, 7, 12, 60, 20, 7, 3, 3, 14, 2, 14, 9, 50, 35, 9, 24, 15, 22, 25, 10, 13, 8, 13, 3, 11, 15, 12, 15, 4, 28, 55, 23, 4, 8, 29, 51, 10, 12, 57, 10, 18, 11, 6, 9, 6, 11, 15, 4, 33, 19, 32, 2, 9, 3, 6, 16, 8, 5, 26, 7, 8, 14, 7, 53, 5, 33, 14, 14, 9, 33, 14, 35, 29, 9, 10, 10, 6, 15, 4, 52, 19, 7, 14, 16, 8, 26, 6, 55, 6, 28, 6, 2, 21, 7, 21, 20, 16, 3, 33, 3, 9, 6, 4, 3, 33, 1, 14, 16, 9, 10, 4, 51, 25, 17, 6, 7, 21, 12, 16, 1, 10, 34, 47, 43, 13, 55, 11, 14, 47, 18, 27, 23, 6, 8, 3, 5, 4, 41, 10, 22, 5, 6, 20, 9, 3, 5, 2, 10, 8, 10, 23, 15, 60, 21, 15, 8, 27, 17, 3, 19, 5, 5, 18, 20, 15, 3, 29, 40, 18, 33, 4, 13, 5, 20, 47, 11, 11, 7, 9, 21, 67, 10, 5, 12, 10, 10, 9, 4, 16, 6, 6, 13, 6, 48, 31, 13, 10, 9, 10, 16, 11, 5, 14, 3, 18, 18, 10, 10, 8, 24, 19, 5, 2, 21, 11, 6, 7, 8, 20, 28, 18, 19, 0, 26, 20, 40, 53, 15, 9, 4, 10, 69, 2, 39, 41, 11, 15, 17, 14, 14, 4, 48, 9, 30, 25, 7, 8, 5, 22, 8, 9, 17, 35, 8, 21, 8, 8, 27, 3, 33, 25, 4, 6, 5, 26, 4, 6, 14, 57, 54, 26, 19, 10, 4, 6, 40, 23, 31, 13, 56, 25, 55, 9, 10, 6, 3, 6, 20, 8, 8, 8, 4, 6, 25, 3, 24, 6, 30, 5, 4, 16, 13, 8, 7, 6, 50, 1, 2, 17, 14, 8, 6, 5, 4, 5, 22, 47, 2, 4, 25, 2, 16, 52, 12, 11, 11, 5, 6, 32, 44, 11, 3, 10, 4, 8, 27, 6, 16, 6, 39, 23, 9, 8, 7, 13, 8, 58, 18, 39, 29, 5, 24, 12, 8, 4, 6, 34, 9, 9, 14, 54, 25, 17, 7, 22, 22, 15, 18, 6, 23, 7, 18, 7, 10, 18, 1, 3, 10, 14, 16, 24, 6, 2, 14, 5, 52, 22, 13, 7, 54, 36, 38, 16, 9, 18, 15, 7, 13, 42, 13, 11, 5, 11, 12, 19, 39, 7, 7, 23, 30, 48, 15, 13, 41, 3, 15, 56, 14, 1, 1, 21, 2, 13, 36, 17, 48, 6, 6, 32, 18, 6, 12, 20, 15, 17, 14, 3, 47, 6, 2, 4, 10, 12, 12, 19, 50, 9, 17, 26, 19, 5, 13, 17, 6, 11, 8, 6, 22, 10, 54, 7, 9, 40, 8, 3, 49, 9, 6, 11, 8, 10, 20, 4, 3, 10, 4, 8, 16, 46, 20, 23, 16, 3, 60, 23, 46, 37, 8, 48, 12, 15, 7, 9, 15, 8, 9, 5, 10, 22, 8, 19, 25, 13, 10, 6, 26, 8, 16, 5, 8, 31, 18, 4, 5, 60, 9, 12, 20, 6, 6, 3, 20, 2, 7, 56, 9, 17, 28, 35, 12, 13, 7, 16, 13, 6, 6, 57, 2, 20, 9, 28, 29, 14, 51, 18, 4, 13, 10, 9, 5, 7, 14, 10, 5, 10, 10, 12, 15, 5, 4, 17, 15, 11, 15, 9, 4, 1, 17, 35, 38, 54, 17, 21, 39, 9, 8, 66, 7, 9, 17, 23, 28, 7, 38, 16, 13, 14, 2, 18, 4, 50, 47, 10, 14, 9, 6, 51, 24, 4, 38, 27, 7, 7, 15, 20, 12, 12, 10, 2, 6, 18, 60, 10, 3, 53, 10, 14, 19, 40, 15, 5, 46, 24, 3, 15, 15, 53, 5, 58, 26, 10, 9, 20, 38, 4, 1, 4, 21, 7, 6, 9, 9, 7, 12, 7, 4, 5, 16, 53, 12, 7, 4, 16, 14, 9, 2, 28, 21, 3, 14, 8, 53, 10, 8, 13, 6, 8, 15, 2, 10, 6, 16, 22, 5, 25, 23, 8, 13, 11, 13, 8, 19, 8, 6, 11, 5, 55, 14, 30, 2, 9, 20, 14, 8, 20, 2, 7, 17, 14, 34, 2, 4, 3, 18, 17, 5, 6, 3, 7, 6, 8, 16, 19, 12, 19, 15, 4, 7, 16, 24, 14, 6, 3, 10, 7, 26, 20, 29, 9, 6, 12, 7, 10, 2, 13, 9, 5, 43, 15, 16, 11, 48, 6, 11, 4, 3, 21, 23, 39, 2, 2, 17, 12, 9, 2, 13, 26, 11, 14, 37, 15, 13, 28, 1, 30, 21, 3, 35, 23, 4, 15, 39, 6, 10, 5, 2, 17, 17, 55, 17, 14, 3, 25, 17, 3, 16, 2, 8, 23, 48, 66, 20, 9, 2, 10, 36, 18, 45, 6, 6, 2, 13, 3, 7, 3, 14, 2, 10, 17, 3, 8, 4, 1, 21, 3, 8, 4, 2, 14, 37, 8, 17, 4, 1, 18, 9, 14, 30, 26, 3, 6, 39, 5, 3, 2, 17, 12, 56, 19, 9, 32, 10, 47, 4, 3, 58, 57, 5, 44, 42, 26, 4, 6, 9, 35, 2, 6, 9, 4, 36, 7, 9, 102, 12, 8, 25, 10, 61, 10, 11, 23, 3, 34, 9, 19, 3, 6, 14, 9, 48, 14, 33, 15, 17, 10, 1, 7, 19, 6, 4, 6, 4, 5, 4, 21, 14, 5], \"xaxis\": \"x\", \"yaxis\": \"y\"}],\n",
              "                        {\"barmode\": \"relative\", \"legend\": {\"tracegroupgap\": 0}, \"margin\": {\"t\": 60}, \"template\": {\"data\": {\"bar\": [{\"error_x\": {\"color\": \"#2a3f5f\"}, \"error_y\": {\"color\": \"#2a3f5f\"}, \"marker\": {\"line\": {\"color\": \"#E5ECF6\", \"width\": 0.5}}, \"type\": \"bar\"}], \"barpolar\": [{\"marker\": {\"line\": {\"color\": \"#E5ECF6\", \"width\": 0.5}}, \"type\": \"barpolar\"}], \"carpet\": [{\"aaxis\": {\"endlinecolor\": \"#2a3f5f\", \"gridcolor\": \"white\", \"linecolor\": \"white\", \"minorgridcolor\": \"white\", \"startlinecolor\": \"#2a3f5f\"}, \"baxis\": {\"endlinecolor\": \"#2a3f5f\", \"gridcolor\": \"white\", \"linecolor\": \"white\", \"minorgridcolor\": \"white\", \"startlinecolor\": \"#2a3f5f\"}, \"type\": \"carpet\"}], \"choropleth\": [{\"colorbar\": {\"outlinewidth\": 0, \"ticks\": \"\"}, \"type\": \"choropleth\"}], \"contour\": [{\"colorbar\": {\"outlinewidth\": 0, \"ticks\": \"\"}, \"colorscale\": [[0.0, \"#0d0887\"], [0.1111111111111111, \"#46039f\"], [0.2222222222222222, \"#7201a8\"], [0.3333333333333333, \"#9c179e\"], [0.4444444444444444, \"#bd3786\"], [0.5555555555555556, \"#d8576b\"], [0.6666666666666666, \"#ed7953\"], [0.7777777777777778, \"#fb9f3a\"], [0.8888888888888888, \"#fdca26\"], [1.0, \"#f0f921\"]], \"type\": \"contour\"}], \"contourcarpet\": [{\"colorbar\": {\"outlinewidth\": 0, \"ticks\": \"\"}, \"type\": \"contourcarpet\"}], \"heatmap\": [{\"colorbar\": {\"outlinewidth\": 0, \"ticks\": \"\"}, \"colorscale\": [[0.0, \"#0d0887\"], [0.1111111111111111, \"#46039f\"], [0.2222222222222222, \"#7201a8\"], [0.3333333333333333, \"#9c179e\"], [0.4444444444444444, \"#bd3786\"], [0.5555555555555556, \"#d8576b\"], [0.6666666666666666, \"#ed7953\"], [0.7777777777777778, \"#fb9f3a\"], [0.8888888888888888, \"#fdca26\"], [1.0, \"#f0f921\"]], \"type\": \"heatmap\"}], \"heatmapgl\": [{\"colorbar\": {\"outlinewidth\": 0, \"ticks\": \"\"}, \"colorscale\": [[0.0, \"#0d0887\"], [0.1111111111111111, \"#46039f\"], [0.2222222222222222, \"#7201a8\"], [0.3333333333333333, \"#9c179e\"], [0.4444444444444444, \"#bd3786\"], [0.5555555555555556, \"#d8576b\"], [0.6666666666666666, \"#ed7953\"], [0.7777777777777778, \"#fb9f3a\"], [0.8888888888888888, \"#fdca26\"], [1.0, \"#f0f921\"]], \"type\": \"heatmapgl\"}], \"histogram\": [{\"marker\": {\"colorbar\": {\"outlinewidth\": 0, \"ticks\": \"\"}}, \"type\": \"histogram\"}], \"histogram2d\": [{\"colorbar\": {\"outlinewidth\": 0, \"ticks\": \"\"}, \"colorscale\": [[0.0, \"#0d0887\"], [0.1111111111111111, \"#46039f\"], [0.2222222222222222, \"#7201a8\"], [0.3333333333333333, \"#9c179e\"], [0.4444444444444444, \"#bd3786\"], [0.5555555555555556, \"#d8576b\"], [0.6666666666666666, \"#ed7953\"], [0.7777777777777778, \"#fb9f3a\"], [0.8888888888888888, \"#fdca26\"], [1.0, \"#f0f921\"]], \"type\": \"histogram2d\"}], \"histogram2dcontour\": [{\"colorbar\": {\"outlinewidth\": 0, \"ticks\": \"\"}, \"colorscale\": [[0.0, \"#0d0887\"], [0.1111111111111111, \"#46039f\"], [0.2222222222222222, \"#7201a8\"], [0.3333333333333333, \"#9c179e\"], [0.4444444444444444, \"#bd3786\"], [0.5555555555555556, \"#d8576b\"], [0.6666666666666666, \"#ed7953\"], [0.7777777777777778, \"#fb9f3a\"], [0.8888888888888888, \"#fdca26\"], [1.0, \"#f0f921\"]], \"type\": \"histogram2dcontour\"}], \"mesh3d\": [{\"colorbar\": {\"outlinewidth\": 0, \"ticks\": \"\"}, \"type\": \"mesh3d\"}], \"parcoords\": [{\"line\": {\"colorbar\": {\"outlinewidth\": 0, \"ticks\": \"\"}}, \"type\": \"parcoords\"}], \"pie\": [{\"automargin\": true, \"type\": \"pie\"}], \"scatter\": [{\"marker\": {\"colorbar\": {\"outlinewidth\": 0, \"ticks\": \"\"}}, \"type\": \"scatter\"}], \"scatter3d\": [{\"line\": {\"colorbar\": {\"outlinewidth\": 0, \"ticks\": \"\"}}, \"marker\": {\"colorbar\": {\"outlinewidth\": 0, \"ticks\": \"\"}}, \"type\": \"scatter3d\"}], \"scattercarpet\": [{\"marker\": {\"colorbar\": {\"outlinewidth\": 0, \"ticks\": \"\"}}, \"type\": \"scattercarpet\"}], \"scattergeo\": [{\"marker\": {\"colorbar\": {\"outlinewidth\": 0, \"ticks\": \"\"}}, \"type\": \"scattergeo\"}], \"scattergl\": [{\"marker\": {\"colorbar\": {\"outlinewidth\": 0, \"ticks\": \"\"}}, \"type\": \"scattergl\"}], \"scattermapbox\": [{\"marker\": {\"colorbar\": {\"outlinewidth\": 0, \"ticks\": \"\"}}, \"type\": \"scattermapbox\"}], \"scatterpolar\": [{\"marker\": {\"colorbar\": {\"outlinewidth\": 0, \"ticks\": \"\"}}, \"type\": \"scatterpolar\"}], \"scatterpolargl\": [{\"marker\": {\"colorbar\": {\"outlinewidth\": 0, \"ticks\": \"\"}}, \"type\": \"scatterpolargl\"}], \"scatterternary\": [{\"marker\": {\"colorbar\": {\"outlinewidth\": 0, \"ticks\": \"\"}}, \"type\": \"scatterternary\"}], \"surface\": [{\"colorbar\": {\"outlinewidth\": 0, \"ticks\": \"\"}, \"colorscale\": [[0.0, \"#0d0887\"], [0.1111111111111111, \"#46039f\"], [0.2222222222222222, \"#7201a8\"], [0.3333333333333333, \"#9c179e\"], [0.4444444444444444, \"#bd3786\"], [0.5555555555555556, \"#d8576b\"], [0.6666666666666666, \"#ed7953\"], [0.7777777777777778, \"#fb9f3a\"], [0.8888888888888888, \"#fdca26\"], [1.0, \"#f0f921\"]], \"type\": \"surface\"}], \"table\": [{\"cells\": {\"fill\": {\"color\": \"#EBF0F8\"}, \"line\": {\"color\": \"white\"}}, \"header\": {\"fill\": {\"color\": \"#C8D4E3\"}, \"line\": {\"color\": \"white\"}}, \"type\": \"table\"}]}, \"layout\": {\"annotationdefaults\": {\"arrowcolor\": \"#2a3f5f\", \"arrowhead\": 0, \"arrowwidth\": 1}, \"coloraxis\": {\"colorbar\": {\"outlinewidth\": 0, \"ticks\": \"\"}}, \"colorscale\": {\"diverging\": [[0, \"#8e0152\"], [0.1, \"#c51b7d\"], [0.2, \"#de77ae\"], [0.3, \"#f1b6da\"], [0.4, \"#fde0ef\"], [0.5, \"#f7f7f7\"], [0.6, \"#e6f5d0\"], [0.7, \"#b8e186\"], [0.8, \"#7fbc41\"], [0.9, \"#4d9221\"], [1, \"#276419\"]], \"sequential\": [[0.0, \"#0d0887\"], [0.1111111111111111, \"#46039f\"], [0.2222222222222222, \"#7201a8\"], [0.3333333333333333, \"#9c179e\"], [0.4444444444444444, \"#bd3786\"], [0.5555555555555556, \"#d8576b\"], [0.6666666666666666, \"#ed7953\"], [0.7777777777777778, \"#fb9f3a\"], [0.8888888888888888, \"#fdca26\"], [1.0, \"#f0f921\"]], \"sequentialminus\": [[0.0, \"#0d0887\"], [0.1111111111111111, \"#46039f\"], [0.2222222222222222, \"#7201a8\"], [0.3333333333333333, \"#9c179e\"], [0.4444444444444444, \"#bd3786\"], [0.5555555555555556, \"#d8576b\"], [0.6666666666666666, \"#ed7953\"], [0.7777777777777778, \"#fb9f3a\"], [0.8888888888888888, \"#fdca26\"], [1.0, \"#f0f921\"]]}, \"colorway\": [\"#636efa\", \"#EF553B\", \"#00cc96\", \"#ab63fa\", \"#FFA15A\", \"#19d3f3\", \"#FF6692\", \"#B6E880\", \"#FF97FF\", \"#FECB52\"], \"font\": {\"color\": \"#2a3f5f\"}, \"geo\": {\"bgcolor\": \"white\", \"lakecolor\": \"white\", \"landcolor\": \"#E5ECF6\", \"showlakes\": true, \"showland\": true, \"subunitcolor\": \"white\"}, \"hoverlabel\": {\"align\": \"left\"}, \"hovermode\": \"closest\", \"mapbox\": {\"style\": \"light\"}, \"paper_bgcolor\": \"white\", \"plot_bgcolor\": \"#E5ECF6\", \"polar\": {\"angularaxis\": {\"gridcolor\": \"white\", \"linecolor\": \"white\", \"ticks\": \"\"}, \"bgcolor\": \"#E5ECF6\", \"radialaxis\": {\"gridcolor\": \"white\", \"linecolor\": \"white\", \"ticks\": \"\"}}, \"scene\": {\"xaxis\": {\"backgroundcolor\": \"#E5ECF6\", \"gridcolor\": \"white\", \"gridwidth\": 2, \"linecolor\": \"white\", \"showbackground\": true, \"ticks\": \"\", \"zerolinecolor\": \"white\"}, \"yaxis\": {\"backgroundcolor\": \"#E5ECF6\", \"gridcolor\": \"white\", \"gridwidth\": 2, \"linecolor\": \"white\", \"showbackground\": true, \"ticks\": \"\", \"zerolinecolor\": \"white\"}, \"zaxis\": {\"backgroundcolor\": \"#E5ECF6\", \"gridcolor\": \"white\", \"gridwidth\": 2, \"linecolor\": \"white\", \"showbackground\": true, \"ticks\": \"\", \"zerolinecolor\": \"white\"}}, \"shapedefaults\": {\"line\": {\"color\": \"#2a3f5f\"}}, \"ternary\": {\"aaxis\": {\"gridcolor\": \"white\", \"linecolor\": \"white\", \"ticks\": \"\"}, \"baxis\": {\"gridcolor\": \"white\", \"linecolor\": \"white\", \"ticks\": \"\"}, \"bgcolor\": \"#E5ECF6\", \"caxis\": {\"gridcolor\": \"white\", \"linecolor\": \"white\", \"ticks\": \"\"}}, \"title\": {\"x\": 0.05}, \"xaxis\": {\"automargin\": true, \"gridcolor\": \"white\", \"linecolor\": \"white\", \"ticks\": \"\", \"title\": {\"standoff\": 15}, \"zerolinecolor\": \"white\", \"zerolinewidth\": 2}, \"yaxis\": {\"automargin\": true, \"gridcolor\": \"white\", \"linecolor\": \"white\", \"ticks\": \"\", \"title\": {\"standoff\": 15}, \"zerolinecolor\": \"white\", \"zerolinewidth\": 2}}}, \"xaxis\": {\"anchor\": \"y\", \"domain\": [0.0, 1.0], \"title\": {\"text\": \"x\"}}, \"yaxis\": {\"anchor\": \"x\", \"domain\": [0.0, 1.0], \"title\": {\"text\": \"count\"}}},\n",
              "                        {\"responsive\": true}\n",
              "                    ).then(function(){\n",
              "                            \n",
              "var gd = document.getElementById('ce2058d2-7ea1-4577-86b9-47159e7f7af8');\n",
              "var x = new MutationObserver(function (mutations, observer) {{\n",
              "        var display = window.getComputedStyle(gd).display;\n",
              "        if (!display || display === 'none') {{\n",
              "            console.log([gd, 'removed!']);\n",
              "            Plotly.purge(gd);\n",
              "            observer.disconnect();\n",
              "        }}\n",
              "}});\n",
              "\n",
              "// Listen for the removal of the full notebook cells\n",
              "var notebookContainer = gd.closest('#notebook-container');\n",
              "if (notebookContainer) {{\n",
              "    x.observe(notebookContainer, {childList: true});\n",
              "}}\n",
              "\n",
              "// Listen for the clearing of the current output cell\n",
              "var outputEl = gd.closest('.output');\n",
              "if (outputEl) {{\n",
              "    x.observe(outputEl, {childList: true});\n",
              "}}\n",
              "\n",
              "                        })\n",
              "                };\n",
              "                \n",
              "            </script>\n",
              "        </div>\n",
              "</body>\n",
              "</html>"
            ]
          },
          "metadata": {
            "tags": []
          }
        }
      ]
    },
    {
      "cell_type": "markdown",
      "metadata": {
        "id": "x2rNwkgo2bM7"
      },
      "source": [
        "# Data Preprocessing"
      ]
    },
    {
      "cell_type": "markdown",
      "metadata": {
        "id": "wJbVy5CH3hYA"
      },
      "source": [
        "<font size=3>Tahap ini akan meliputi dua versi pemrosesan data, yaitu preprocessing v1 dan preprocessing v2. Namun, pertama data train akan displit menjadi train_set dan val_set dengan rasio 0.8/0.2 dan test_set. Ketiga dataframe tersebut akan melalui preprocessing v1 dan v2. </font>"
      ]
    },
    {
      "cell_type": "code",
      "metadata": {
        "colab": {
          "base_uri": "https://localhost:8080/",
          "height": 184
        },
        "id": "4O2P6ew48Ocr",
        "outputId": "54c2f5a0-3f72-4a5c-ee38-86f8e7233bf4"
      },
      "source": [
        "# train val split\n",
        "train_set, val_set = train_test_split(train, test_size=0.2, stratify=train.category, random_state=1)\n",
        "test_set = test.copy()"
      ],
      "execution_count": null,
      "outputs": [
        {
          "output_type": "error",
          "ename": "NameError",
          "evalue": "ignored",
          "traceback": [
            "\u001b[0;31m---------------------------------------------------------------------------\u001b[0m",
            "\u001b[0;31mNameError\u001b[0m                                 Traceback (most recent call last)",
            "\u001b[0;32m<ipython-input-7-1ff8294d9164>\u001b[0m in \u001b[0;36m<module>\u001b[0;34m()\u001b[0m\n\u001b[0;32m----> 1\u001b[0;31m \u001b[0mtrain_set\u001b[0m\u001b[0;34m,\u001b[0m \u001b[0mval_set\u001b[0m \u001b[0;34m=\u001b[0m \u001b[0mtrain_test_split\u001b[0m\u001b[0;34m(\u001b[0m\u001b[0mtrain\u001b[0m\u001b[0;34m,\u001b[0m \u001b[0mtest_size\u001b[0m\u001b[0;34m=\u001b[0m\u001b[0;36m0.2\u001b[0m\u001b[0;34m,\u001b[0m \u001b[0mstratify\u001b[0m\u001b[0;34m=\u001b[0m\u001b[0mtrain\u001b[0m\u001b[0;34m.\u001b[0m\u001b[0mcategory\u001b[0m\u001b[0;34m,\u001b[0m \u001b[0mrandom_state\u001b[0m\u001b[0;34m=\u001b[0m\u001b[0;36m1\u001b[0m\u001b[0;34m)\u001b[0m\u001b[0;34m\u001b[0m\u001b[0;34m\u001b[0m\u001b[0m\n\u001b[0m\u001b[1;32m      2\u001b[0m \u001b[0mtest_set\u001b[0m \u001b[0;34m=\u001b[0m \u001b[0mtest\u001b[0m\u001b[0;34m.\u001b[0m\u001b[0mcopy\u001b[0m\u001b[0;34m(\u001b[0m\u001b[0;34m)\u001b[0m\u001b[0;34m\u001b[0m\u001b[0;34m\u001b[0m\u001b[0m\n",
            "\u001b[0;31mNameError\u001b[0m: name 'train_test_split' is not defined"
          ]
        }
      ]
    },
    {
      "cell_type": "markdown",
      "metadata": {
        "id": "YvSZOY5N3kjQ"
      },
      "source": [
        "## Preprocessing V1"
      ]
    },
    {
      "cell_type": "code",
      "metadata": {
        "id": "3wOyRWnh3n7M"
      },
      "source": [
        "# Functions used in preprocessing v1.\n",
        "\n",
        "# 1. Clean \n",
        "def clean_review(text):\n",
        "\n",
        "    # demojize first\n",
        "    cleaned = emoji.demojize(text)\n",
        "    \n",
        "    # double whitespace to single\n",
        "    cleaned = re.sub('[ ]+',' ',cleaned)\n",
        "    \n",
        "    return cleaned\n",
        "\n",
        "# 2. Full clean\n",
        "def full_clean(text):\n",
        "\n",
        "    # demojize first\n",
        "    text = emoji.demojize(text)\n",
        "    \n",
        "    # clean\n",
        "    cleaned = re.sub('[^a-zA-Z0-9]+',' ',text).lower() # clean everything (emoji inc.)\n",
        "    \n",
        "    # remove 2 letter words\n",
        "    shortword = re.compile(r'\\W*\\b\\w{1,2}\\b')\n",
        "    cleaned = re.sub(shortword, '', cleaned)\n",
        "    \n",
        "    # double whitespace to single\n",
        "    cleaned = re.sub('[ ]+',' ',cleaned)\n",
        "    \n",
        "    return cleaned\n",
        "\n",
        "# 3. Func to find 'en' in set of words\n",
        "def find_en(row, ignore_indexes):\n",
        "    result = 'no en'\n",
        "    \n",
        "    if re.findall(':[a-zA-Z_]+:', row.review_text):\n",
        "        result = 'has en'\n",
        "    elif row.name in ignore_indexes:\n",
        "        result = 'no en'\n",
        "    elif detect(row.review_text) == 'en':\n",
        "        result = 'has en'\n",
        "    else:\n",
        "        result = 'no en'\n",
        "        \n",
        "    return result\n",
        "\n",
        "# 4. remove punc from emoji\n",
        "def remove_emo_punc(text):\n",
        "    text = re.sub('[:_-]+',' ',text)\n",
        "    return text\n",
        "\n",
        "# 5. Google Translate\n",
        "translator = google_translator() \n",
        "def trans_to_id(text):\n",
        "    res = translator.translate(text,lang_src='en',lang_tgt='id')  \n",
        "    return res"
      ],
      "execution_count": null,
      "outputs": []
    },
    {
      "cell_type": "code",
      "metadata": {
        "id": "Q91iMSCx3sO1"
      },
      "source": [
        "def preprocess_v1(df):\n",
        "    df_pp = df.copy()\n",
        "    \n",
        "    # demojize all reviews (clean_text function)\n",
        "    df_pp.review_text = df_pp.review_text.map(clean_review)\n",
        "    \n",
        "    # find abnormal rows (full_clean function)\n",
        "    df_fcleaned = df_pp.review_text.map(full_clean)\n",
        "    ## indexes of garbage rows (reviews with no text, only punctuation, etc.)\n",
        "    df_empty_after_cleaned_ix = df_fcleaned.loc[(df_fcleaned=='')|(df_fcleaned==' ')].index\n",
        "    \n",
        "    # locate reviews that has english (find_en function)\n",
        "    df_en_res = df_pp.apply(find_en, args=(df_empty_after_cleaned_ix,), axis=1)\n",
        "    ## create mask from results\n",
        "    df_has_en_mask = (df_en_res == 'has en')\n",
        "    ### final english indexes\n",
        "    df_has_en_ix = [i for i,j in enumerate(df_has_en_mask) if j]\n",
        "    \n",
        "    # remove punctuation from emoji (remove_emo_punc function)\n",
        "    df_pp.review_text.loc[df_has_en_mask] = df_pp.review_text.loc[df_has_en_mask].map(remove_emo_punc)\n",
        "    \n",
        "    # translate rows that has english (trans_to_id)\n",
        "    df_en_translated = df_pp.review_text.loc[df_has_en_mask].map(trans_to_id)\n",
        "    \n",
        "    # combine translated rows with initial dataframe\n",
        "    df_pp.review_text.loc[df_has_en_ix] = df_en_translated\n",
        "    \n",
        "    return df_pp\n",
        "    "
      ],
      "execution_count": null,
      "outputs": []
    },
    {
      "cell_type": "code",
      "metadata": {
        "id": "LZB_yNZe7tRH",
        "colab": {
          "base_uri": "https://localhost:8080/",
          "height": 166
        },
        "outputId": "34ef3355-199b-44db-ff14-edb3371395af"
      },
      "source": [
        "train_v1, val_v1, test_v1,  = preprocess_v1(train_set), preprocess_v1(val_set), preprocess_v1(test_set)"
      ],
      "execution_count": null,
      "outputs": [
        {
          "output_type": "error",
          "ename": "NameError",
          "evalue": "ignored",
          "traceback": [
            "\u001b[0;31m---------------------------------------------------------------------------\u001b[0m",
            "\u001b[0;31mNameError\u001b[0m                                 Traceback (most recent call last)",
            "\u001b[0;32m<ipython-input-10-5a86f25b84d4>\u001b[0m in \u001b[0;36m<module>\u001b[0;34m()\u001b[0m\n\u001b[0;32m----> 1\u001b[0;31m \u001b[0mtrain_v1\u001b[0m\u001b[0;34m,\u001b[0m \u001b[0mval_v1\u001b[0m\u001b[0;34m,\u001b[0m \u001b[0mtest_v1\u001b[0m\u001b[0;34m,\u001b[0m  \u001b[0;34m=\u001b[0m \u001b[0mpreprocess_v1\u001b[0m\u001b[0;34m(\u001b[0m\u001b[0mtrain_set\u001b[0m\u001b[0;34m)\u001b[0m\u001b[0;34m,\u001b[0m \u001b[0mpreprocess_v1\u001b[0m\u001b[0;34m(\u001b[0m\u001b[0mval_set\u001b[0m\u001b[0;34m)\u001b[0m\u001b[0;34m,\u001b[0m \u001b[0mpreprocess_v1\u001b[0m\u001b[0;34m(\u001b[0m\u001b[0mtest_set\u001b[0m\u001b[0;34m)\u001b[0m\u001b[0;34m\u001b[0m\u001b[0;34m\u001b[0m\u001b[0m\n\u001b[0m",
            "\u001b[0;31mNameError\u001b[0m: name 'preprocess_v1' is not defined"
          ]
        }
      ]
    },
    {
      "cell_type": "code",
      "metadata": {
        "id": "a5iJr6vhBTAr"
      },
      "source": [
        "# export to csv\n",
        "train_v1.drop('review_id', axis=1).to_csv('train_v1.csv', index=False)\n",
        "val_v1.drop('review_id', axis=1).to_csv('val_v1.csv', index=False)\n",
        "\n",
        "# add empty category column to test_v1 b4 exporting\n",
        "test_v1['category'] = np.zeros(len(test_v1))\n",
        "test_v1.drop('review_id', axis=1).to_csv('test_v1.csv', index=False)\n",
        "\n"
      ],
      "execution_count": null,
      "outputs": []
    },
    {
      "cell_type": "markdown",
      "metadata": {
        "id": "PK1rEnWp3vME"
      },
      "source": [
        "## Preprocessing V2"
      ]
    },
    {
      "cell_type": "code",
      "metadata": {
        "id": "1j4fHIc63xGZ"
      },
      "source": [
        "# Functions used in preprocessing v2. (mostly the same but some slightly changed)\n",
        "\n",
        "# 1. Clean from emoji so lang.detect can determine eng rows\n",
        "def clean_review(text):\n",
        "\n",
        "    # demojize first\n",
        "    cleaned = emoji.demojize(text)\n",
        "    cleaned = re.sub(':[A-Za-z_]+:', '', cleaned) # delete emot\n",
        "    \n",
        "    # double whitespace to single\n",
        "    cleaned = re.sub('[ ]+',' ',cleaned)\n",
        "    \n",
        "    return cleaned\n",
        "\n",
        "# 2. Same function as full_clean\n",
        "\n",
        "# 3. func to find 'en' in set of words\n",
        "def find_en(row, ignore_indexes):\n",
        "    result = 'no en'\n",
        "\n",
        "    if row.name in ignore_indexes:\n",
        "        result = 'no en'\n",
        "    elif detect(row.review_text) == 'en':\n",
        "        result = 'has en'\n",
        "    else:\n",
        "        result = 'no en'\n",
        "        \n",
        "    return result\n",
        "\n",
        "# 4. Google Translate\n",
        "translator = google_translator() \n",
        "def trans_to_id(text):\n",
        "    res = translator.translate(text,lang_src='en',lang_tgt='id')  \n",
        "    return res"
      ],
      "execution_count": null,
      "outputs": []
    },
    {
      "cell_type": "code",
      "metadata": {
        "id": "VhhNBV7c7xSD"
      },
      "source": [
        "def preprocess_v2(df):\n",
        "    df_pp = df.copy()\n",
        "    \n",
        "    # demojize all reviews (clean_text function)\n",
        "    df_pp.review_text = df_pp.review_text.map(clean_review)\n",
        "    \n",
        "    # find abnormal rows (full_clean function)\n",
        "    df_fcleaned = df_pp.review_text.map(full_clean)\n",
        "    ## indexes of garbage rows (reviews with no text, only punctuation, etc.)\n",
        "    df_empty_after_cleaned_ix = df_fcleaned.loc[(df_fcleaned=='')|(df_fcleaned==' ')].index\n",
        "    \n",
        "    # locate reviews that has english (find_en function)\n",
        "    df_en_res = df_pp.apply(find_en, args=(df_empty_after_cleaned_ix,), axis=1)\n",
        "    ## create mask from results\n",
        "    df_has_en_mask = (df_en_res == 'has en')\n",
        "    ### final english indexes\n",
        "    df_has_en_ix = [i for i,j in enumerate(df_has_en_mask) if j]\n",
        "    \n",
        "    # translate rows that has english (trans_to_id)\n",
        "    df_en_translated = df_pp.review_text.loc[df_has_en_mask].map(trans_to_id)\n",
        "    \n",
        "    # combine translated rows with initial dataframe\n",
        "    df_pp.review_text.loc[df_has_en_ix] = df_en_translated\n",
        "    \n",
        "    return df_pp"
      ],
      "execution_count": null,
      "outputs": []
    },
    {
      "cell_type": "code",
      "metadata": {
        "colab": {
          "base_uri": "https://localhost:8080/",
          "height": 166
        },
        "id": "gVxi9FU27zW6",
        "outputId": "e446ee8c-86c3-4ef6-933d-53ee90279e48"
      },
      "source": [
        "train_v2, val_v2, test_v2  = preprocess_v2(train_set), preprocess_v2(val_set), preprocess_v2(test_set)"
      ],
      "execution_count": null,
      "outputs": [
        {
          "output_type": "error",
          "ename": "NameError",
          "evalue": "ignored",
          "traceback": [
            "\u001b[0;31m---------------------------------------------------------------------------\u001b[0m",
            "\u001b[0;31mNameError\u001b[0m                                 Traceback (most recent call last)",
            "\u001b[0;32m<ipython-input-5-d8dc88aefb56>\u001b[0m in \u001b[0;36m<module>\u001b[0;34m()\u001b[0m\n\u001b[0;32m----> 1\u001b[0;31m \u001b[0mtrain_v2\u001b[0m\u001b[0;34m,\u001b[0m \u001b[0mtest_v2\u001b[0m \u001b[0;34m=\u001b[0m \u001b[0mpreprocess_v2\u001b[0m\u001b[0;34m(\u001b[0m\u001b[0mtrain\u001b[0m\u001b[0;34m)\u001b[0m\u001b[0;34m,\u001b[0m \u001b[0mpreprocess_v2\u001b[0m\u001b[0;34m(\u001b[0m\u001b[0mtest\u001b[0m\u001b[0;34m)\u001b[0m\u001b[0;34m\u001b[0m\u001b[0;34m\u001b[0m\u001b[0m\n\u001b[0m",
            "\u001b[0;31mNameError\u001b[0m: name 'preprocess_v2' is not defined"
          ]
        }
      ]
    },
    {
      "cell_type": "code",
      "metadata": {
        "id": "AUXUQq-oBU8T"
      },
      "source": [
        "# export to csv\n",
        "train_v2.drop('review_id', axis=1).to_csv('train_v2.csv', index=False)\n",
        "val_v2.drop('review_id', axis=1).to_csv('val_v2.csv', index=False)\n",
        "\n",
        "# add empty category column to test_v1 b4 exporting\n",
        "test_v2['category'] = np.zeros(len(test_v2))\n",
        "test_v2.drop('review_id', axis=1).to_csv('test_v2.csv', index=False)\n"
      ],
      "execution_count": null,
      "outputs": []
    },
    {
      "cell_type": "markdown",
      "metadata": {
        "id": "0Xq3F-_T-Ire"
      },
      "source": [
        "# Modelling\r\n",
        "Finetuning dilakukan 3x, yaitu pada dataset original, dataset preprocessing V1, dataset preprocessing V2"
      ]
    },
    {
      "cell_type": "markdown",
      "metadata": {
        "id": "eFFaQ9uS-qD0"
      },
      "source": [
        "## Finetuning IndoBERT Dataset Original\r\n"
      ]
    },
    {
      "cell_type": "code",
      "metadata": {
        "id": "8f6tIWqO-suQ"
      },
      "source": [
        "###\r\n",
        "# common functions\r\n",
        "###\r\n",
        "def set_seed(seed):\r\n",
        "    random.seed(seed)\r\n",
        "    np.random.seed(seed)\r\n",
        "    torch.manual_seed(seed)\r\n",
        "    torch.cuda.manual_seed(seed)\r\n",
        "    \r\n",
        "def count_param(module, trainable=False):\r\n",
        "    if trainable:\r\n",
        "        return sum(p.numel() for p in module.parameters() if p.requires_grad)\r\n",
        "    else:\r\n",
        "        return sum(p.numel() for p in module.parameters())\r\n",
        "    \r\n",
        "def get_lr(optimizer):\r\n",
        "    for param_group in optimizer.param_groups:\r\n",
        "        return param_group['lr']\r\n",
        "\r\n",
        "def metrics_to_string(metric_dict):\r\n",
        "    string_list = []\r\n",
        "    for key, value in metric_dict.items():\r\n",
        "        string_list.append('{}:{:.5f}'.format(key, value))\r\n",
        "    return ' '.join(string_list)"
      ],
      "execution_count": null,
      "outputs": []
    },
    {
      "cell_type": "code",
      "metadata": {
        "id": "yqK0EgKU-yiJ"
      },
      "source": [
        "# Set random seed\r\n",
        "set_seed(27)"
      ],
      "execution_count": null,
      "outputs": []
    },
    {
      "cell_type": "markdown",
      "metadata": {
        "id": "QDX3PYH2-5rr"
      },
      "source": [
        "### Load Model"
      ]
    },
    {
      "cell_type": "code",
      "metadata": {
        "id": "RAAMFEG0-8nh"
      },
      "source": [
        "# Load Tokenizer and Config\r\n",
        "tokenizer = BertTokenizer.from_pretrained('indobenchmark/indobert-large-p1')\r\n",
        "config = BertConfig.from_pretrained('indobenchmark/indobert-large-p1')\r\n",
        "config.num_labels = DocumentSentimentDataset.NUM_LABELS # 2 labels\r\n",
        "\r\n",
        "# Instantiate model\r\n",
        "model = BertForSequenceClassification.from_pretrained('indobenchmark/indobert-large-p1', config=config)"
      ],
      "execution_count": null,
      "outputs": []
    },
    {
      "cell_type": "code",
      "metadata": {
        "id": "YkxX402M_Rj1"
      },
      "source": [
        "# Struktur model\r\n",
        "model"
      ],
      "execution_count": null,
      "outputs": []
    },
    {
      "cell_type": "code",
      "metadata": {
        "id": "_uKIucHf_UoI"
      },
      "source": [
        "# Hitung jumlah parameter modal\r\n",
        "count_param(model)"
      ],
      "execution_count": null,
      "outputs": []
    },
    {
      "cell_type": "markdown",
      "metadata": {
        "id": "6N3T_1vo_cHy"
      },
      "source": [
        "### Persiapan Dataset"
      ]
    },
    {
      "cell_type": "code",
      "metadata": {
        "id": "WCnN2UqFDXLS"
      },
      "source": [
        "# export to csv\r\n",
        "train_set.drop('review_id', axis=1).to_csv('train_ori.csv', index=False)\r\n",
        "val_set.drop('review_id', axis=1).to_csv('val_ori.csv', index=False)\r\n",
        "\r\n",
        "# add empty category column to test_v1 b4 exporting\r\n",
        "test_set['category'] = np.zeros(len(test_v1))\r\n",
        "test_set.drop('review_id', axis=1).to_csv('test_ori.csv', index=False)"
      ],
      "execution_count": null,
      "outputs": []
    },
    {
      "cell_type": "code",
      "metadata": {
        "id": "fkv-ZPVp_d76"
      },
      "source": [
        "train_dataset_path = '/content/train_ori.csv'\r\n",
        "valid_dataset_path = '/content/val_ori.csv'\r\n",
        "test_dataset_path = '/content/test_ori.csv'"
      ],
      "execution_count": null,
      "outputs": []
    },
    {
      "cell_type": "code",
      "metadata": {
        "id": "Nbgx4j7p_wEc"
      },
      "source": [
        "#fungsi dataset loader dari utils IndoNLU\r\n",
        "train_dataset = DocumentSentimentDataset(train_dataset_path, tokenizer, lowercase=True)\r\n",
        "valid_dataset = DocumentSentimentDataset(valid_dataset_path, tokenizer, lowercase=True)\r\n",
        "test_dataset = DocumentSentimentDataset(test_dataset_path, tokenizer, lowercase=True)\r\n",
        "\r\n",
        "train_loader = DocumentSentimentDataLoader(dataset=train_dataset, max_seq_len=512, batch_size=16, num_workers=16, shuffle=True)  \r\n",
        "valid_loader = DocumentSentimentDataLoader(dataset=valid_dataset, max_seq_len=512, batch_size=16, num_workers=16, shuffle=False)  \r\n",
        "test_loader = DocumentSentimentDataLoader(dataset=test_dataset, max_seq_len=512, batch_size=16, num_workers=16, shuffle=False)"
      ],
      "execution_count": null,
      "outputs": []
    },
    {
      "cell_type": "code",
      "metadata": {
        "id": "x1iAk1M6_xYH"
      },
      "source": [
        "w2i, i2w = DocumentSentimentDataset.LABEL2INDEX, DocumentSentimentDataset.INDEX2LABEL\r\n",
        "print(w2i) #word to index\r\n",
        "print(i2w) #index to word"
      ],
      "execution_count": null,
      "outputs": []
    },
    {
      "cell_type": "markdown",
      "metadata": {
        "id": "ujuco-me_67C"
      },
      "source": [
        "### Uji coba pre-trained model"
      ]
    },
    {
      "cell_type": "code",
      "metadata": {
        "id": "3ZWHQ57p_9mG"
      },
      "source": [
        "text = 'Kamarnya nyaman, bersih, pelayanannya bagus.'\r\n",
        "subwords = tokenizer.encode(text)\r\n",
        "subwords = torch.LongTensor(subwords).view(1, -1).to(model.device)\r\n",
        "\r\n",
        "logits = model(subwords)[0]\r\n",
        "label = torch.topk(logits, k=1, dim=-1)[1].squeeze().item()\r\n",
        "\r\n",
        "print(f'Text: {text} | Label : {i2w[label]} ({F.softmax(logits, dim=-1).squeeze()[label] * 100:.3f}%)')"
      ],
      "execution_count": null,
      "outputs": []
    },
    {
      "cell_type": "markdown",
      "metadata": {
        "id": "2mjc0f_tABFJ"
      },
      "source": [
        "### Finetuning IndoBERT"
      ]
    },
    {
      "cell_type": "code",
      "metadata": {
        "id": "9YRJ53osAK0h"
      },
      "source": [
        "# Tentukan optimizer\r\n",
        "optimizer = optim.Adam(model.parameters(), lr=3e-6)\r\n",
        "model = model.cuda()"
      ],
      "execution_count": null,
      "outputs": []
    },
    {
      "cell_type": "code",
      "metadata": {
        "id": "UTG-oDAmAYjL"
      },
      "source": [
        "# Train\r\n",
        "n_epochs = 3\r\n",
        "for epoch in range(n_epochs):\r\n",
        "    model.train()\r\n",
        "    torch.set_grad_enabled(True)\r\n",
        " \r\n",
        "    total_train_loss = 0\r\n",
        "    list_hyp_train, list_label = [], []\r\n",
        "\r\n",
        "    train_pbar = tqdm(train_loader, leave=True, total=len(train_loader))\r\n",
        "    for i, batch_data in enumerate(train_pbar):\r\n",
        "        # Forward model\r\n",
        "        loss, batch_hyp, batch_label = forward_sequence_classification(model, batch_data[:-1], i2w=i2w, device='cuda')\r\n",
        "\r\n",
        "        # Update model\r\n",
        "        optimizer.zero_grad()\r\n",
        "        loss.backward()\r\n",
        "        optimizer.step()\r\n",
        "\r\n",
        "        tr_loss = loss.item()\r\n",
        "        total_train_loss = total_train_loss + tr_loss\r\n",
        "\r\n",
        "        # Hitung skor train metrics\r\n",
        "        list_hyp_train += batch_hyp\r\n",
        "        list_label += batch_label\r\n",
        "\r\n",
        "        train_pbar.set_description(\"(Epoch {}) TRAIN LOSS:{:.4f} LR:{:.8f}\".format((epoch+1),\r\n",
        "            total_train_loss/(i+1), get_lr(optimizer)))\r\n",
        "\r\n",
        "    metrics = document_sentiment_metrics_fn(list_hyp_train, list_label)\r\n",
        "    print(\"(Epoch {}) TRAIN LOSS:{:.4f} {} LR:{:.8f}\".format((epoch+1),\r\n",
        "        total_train_loss/(i+1), metrics_to_string(metrics), get_lr(optimizer)))\r\n",
        "\r\n",
        "    # Evaluate di validation set\r\n",
        "    model.eval()\r\n",
        "    torch.set_grad_enabled(False)\r\n",
        "    \r\n",
        "    total_loss, total_correct, total_labels = 0, 0, 0\r\n",
        "    list_hyp, list_label = [], []\r\n",
        "\r\n",
        "    pbar = tqdm(valid_loader, leave=True, total=len(valid_loader))\r\n",
        "    for i, batch_data in enumerate(pbar):\r\n",
        "        batch_seq = batch_data[-1]        \r\n",
        "        loss, batch_hyp, batch_label = forward_sequence_classification(model, batch_data[:-1], i2w=i2w, device='cuda')\r\n",
        "        \r\n",
        "        # Hitung total loss\r\n",
        "        valid_loss = loss.item()\r\n",
        "        total_loss = total_loss + valid_loss\r\n",
        "\r\n",
        "        # Hitung skor evaluation metrics\r\n",
        "        list_hyp += batch_hyp\r\n",
        "        list_label += batch_label\r\n",
        "        metrics = document_sentiment_metrics_fn(list_hyp, list_label)\r\n",
        "\r\n",
        "        pbar.set_description(\"VALID LOSS:{:.4f} {}\".format(total_loss/(i+1), metrics_to_string(metrics)))\r\n",
        "        \r\n",
        "    metrics = document_sentiment_metrics_fn(list_hyp, list_label)\r\n",
        "    print(\"(Epoch {}) VALID LOSS:{:.4f} {}\".format((epoch+1),\r\n",
        "        total_loss/(i+1), metrics_to_string(metrics)))\r\n",
        "    "
      ],
      "execution_count": null,
      "outputs": []
    },
    {
      "cell_type": "markdown",
      "metadata": {
        "id": "cWXiB8usAzX-"
      },
      "source": [
        "### Download Hasil Prediksi Validation Set"
      ]
    },
    {
      "cell_type": "code",
      "metadata": {
        "id": "KoTAJTKIAg94"
      },
      "source": [
        "# Hasil Validasi\r\n",
        "val_df = pd.read_csv(valid_dataset_path)\r\n",
        "val_df['pred'] = list_hyp\r\n",
        "val_df.head()\r\n",
        "val_df.to_csv('val result original.csv', index=False)"
      ],
      "execution_count": null,
      "outputs": []
    },
    {
      "cell_type": "markdown",
      "metadata": {
        "id": "MF3v4H-GB5gK"
      },
      "source": [
        "### Prediksi Test Set"
      ]
    },
    {
      "cell_type": "code",
      "metadata": {
        "id": "_f6tZOZqB7Fy"
      },
      "source": [
        "# Prediksi test set\r\n",
        "model.eval()\r\n",
        "torch.set_grad_enabled(False)\r\n",
        "\r\n",
        "total_loss, total_correct, total_labels = 0, 0, 0\r\n",
        "pred, list_label = [], []\r\n",
        "\r\n",
        "pbar = tqdm(test_loader, leave=True, total=len(test_loader))\r\n",
        "for i, batch_data in enumerate(pbar):\r\n",
        "    _, batch_hyp, _ = forward_sequence_classification(model, batch_data[:-1], i2w=i2w, device='cuda')\r\n",
        "    pred += batch_hyp\r\n",
        "\r\n",
        "# Simpan prediksi\r\n",
        "df = pd.read_csv('sample_submission.csv')\r\n",
        "df['category'] = pred\r\n",
        "df.to_csv('sub original.csv', index=False)\r\n",
        "\r\n",
        "print(df)"
      ],
      "execution_count": null,
      "outputs": []
    },
    {
      "cell_type": "markdown",
      "metadata": {
        "id": "UuMcWtXVEb-F"
      },
      "source": [
        "## Finetuning IndoBERT Dataset Preprocessing V1\r\n"
      ]
    },
    {
      "cell_type": "code",
      "metadata": {
        "id": "efMJ8NNREb-H"
      },
      "source": [
        "###\r\n",
        "# common functions\r\n",
        "###\r\n",
        "def set_seed(seed):\r\n",
        "    random.seed(seed)\r\n",
        "    np.random.seed(seed)\r\n",
        "    torch.manual_seed(seed)\r\n",
        "    torch.cuda.manual_seed(seed)\r\n",
        "    \r\n",
        "def count_param(module, trainable=False):\r\n",
        "    if trainable:\r\n",
        "        return sum(p.numel() for p in module.parameters() if p.requires_grad)\r\n",
        "    else:\r\n",
        "        return sum(p.numel() for p in module.parameters())\r\n",
        "    \r\n",
        "def get_lr(optimizer):\r\n",
        "    for param_group in optimizer.param_groups:\r\n",
        "        return param_group['lr']\r\n",
        "\r\n",
        "def metrics_to_string(metric_dict):\r\n",
        "    string_list = []\r\n",
        "    for key, value in metric_dict.items():\r\n",
        "        string_list.append('{}:{:.5f}'.format(key, value))\r\n",
        "    return ' '.join(string_list)"
      ],
      "execution_count": null,
      "outputs": []
    },
    {
      "cell_type": "code",
      "metadata": {
        "id": "2pb8cSZWEb-I"
      },
      "source": [
        "# Set random seed\r\n",
        "set_seed(27)"
      ],
      "execution_count": null,
      "outputs": []
    },
    {
      "cell_type": "markdown",
      "metadata": {
        "id": "_aJvpG9NEb-I"
      },
      "source": [
        "### Load Model"
      ]
    },
    {
      "cell_type": "code",
      "metadata": {
        "id": "Bis0lUy9Eb-I"
      },
      "source": [
        "# Load Tokenizer and Config\r\n",
        "tokenizer = BertTokenizer.from_pretrained('indobenchmark/indobert-large-p1')\r\n",
        "config = BertConfig.from_pretrained('indobenchmark/indobert-large-p1')\r\n",
        "config.num_labels = DocumentSentimentDataset.NUM_LABELS # 2 labels\r\n",
        "\r\n",
        "# Instantiate model\r\n",
        "model = BertForSequenceClassification.from_pretrained('indobenchmark/indobert-large-p1', config=config)"
      ],
      "execution_count": null,
      "outputs": []
    },
    {
      "cell_type": "code",
      "metadata": {
        "id": "UcvrAtYDEb-I"
      },
      "source": [
        "# Struktur model\r\n",
        "model"
      ],
      "execution_count": null,
      "outputs": []
    },
    {
      "cell_type": "code",
      "metadata": {
        "id": "rMqqaKsvEb-J"
      },
      "source": [
        "# Hitung jumlah parameter modal\r\n",
        "count_param(model)"
      ],
      "execution_count": null,
      "outputs": []
    },
    {
      "cell_type": "markdown",
      "metadata": {
        "id": "Zr1wFbGlEb-J"
      },
      "source": [
        "### Persiapan Dataset"
      ]
    },
    {
      "cell_type": "code",
      "metadata": {
        "id": "vmDApsjKEb-J"
      },
      "source": [
        "train_dataset_path = '/content/train_v1.csv'\r\n",
        "valid_dataset_path = '/content/val_v1.csv'\r\n",
        "test_dataset_path = '/content/test_v1.csv'"
      ],
      "execution_count": null,
      "outputs": []
    },
    {
      "cell_type": "code",
      "metadata": {
        "id": "UJ3xQIaKEb-J"
      },
      "source": [
        "#fungsi dataset loader dari utils IndoNLU\r\n",
        "train_dataset = DocumentSentimentDataset(train_dataset_path, tokenizer, lowercase=True)\r\n",
        "valid_dataset = DocumentSentimentDataset(valid_dataset_path, tokenizer, lowercase=True)\r\n",
        "test_dataset = DocumentSentimentDataset(test_dataset_path, tokenizer, lowercase=True)\r\n",
        "\r\n",
        "train_loader = DocumentSentimentDataLoader(dataset=train_dataset, max_seq_len=512, batch_size=16, num_workers=16, shuffle=True)  \r\n",
        "valid_loader = DocumentSentimentDataLoader(dataset=valid_dataset, max_seq_len=512, batch_size=16, num_workers=16, shuffle=False)  \r\n",
        "test_loader = DocumentSentimentDataLoader(dataset=test_dataset, max_seq_len=512, batch_size=16, num_workers=16, shuffle=False)"
      ],
      "execution_count": null,
      "outputs": []
    },
    {
      "cell_type": "code",
      "metadata": {
        "id": "i4Q1fPtBEb-J"
      },
      "source": [
        "w2i, i2w = DocumentSentimentDataset.LABEL2INDEX, DocumentSentimentDataset.INDEX2LABEL\r\n",
        "print(w2i) #word to index\r\n",
        "print(i2w) #index to word"
      ],
      "execution_count": null,
      "outputs": []
    },
    {
      "cell_type": "markdown",
      "metadata": {
        "id": "uR2Am5y7Eb-J"
      },
      "source": [
        "### Uji coba pre-trained model"
      ]
    },
    {
      "cell_type": "code",
      "metadata": {
        "id": "RcF7oqdOEb-K"
      },
      "source": [
        "text = 'Kamarnya nyaman, bersih, pelayanannya bagus.'\r\n",
        "subwords = tokenizer.encode(text)\r\n",
        "subwords = torch.LongTensor(subwords).view(1, -1).to(model.device)\r\n",
        "\r\n",
        "logits = model(subwords)[0]\r\n",
        "label = torch.topk(logits, k=1, dim=-1)[1].squeeze().item()\r\n",
        "\r\n",
        "print(f'Text: {text} | Label : {i2w[label]} ({F.softmax(logits, dim=-1).squeeze()[label] * 100:.3f}%)')"
      ],
      "execution_count": null,
      "outputs": []
    },
    {
      "cell_type": "markdown",
      "metadata": {
        "id": "TOuXk4jHEb-K"
      },
      "source": [
        "### Finetuning IndoBERT"
      ]
    },
    {
      "cell_type": "code",
      "metadata": {
        "id": "tFU6-exXEb-K"
      },
      "source": [
        "# Tentukan optimizer\r\n",
        "optimizer = optim.Adam(model.parameters(), lr=3e-6)\r\n",
        "model = model.cuda()"
      ],
      "execution_count": null,
      "outputs": []
    },
    {
      "cell_type": "code",
      "metadata": {
        "id": "5RetmC0wEb-K"
      },
      "source": [
        "# Train\r\n",
        "n_epochs = 3\r\n",
        "for epoch in range(n_epochs):\r\n",
        "    model.train()\r\n",
        "    torch.set_grad_enabled(True)\r\n",
        " \r\n",
        "    total_train_loss = 0\r\n",
        "    list_hyp_train, list_label = [], []\r\n",
        "\r\n",
        "    train_pbar = tqdm(train_loader, leave=True, total=len(train_loader))\r\n",
        "    for i, batch_data in enumerate(train_pbar):\r\n",
        "        # Forward model\r\n",
        "        loss, batch_hyp, batch_label = forward_sequence_classification(model, batch_data[:-1], i2w=i2w, device='cuda')\r\n",
        "\r\n",
        "        # Update model\r\n",
        "        optimizer.zero_grad()\r\n",
        "        loss.backward()\r\n",
        "        optimizer.step()\r\n",
        "\r\n",
        "        tr_loss = loss.item()\r\n",
        "        total_train_loss = total_train_loss + tr_loss\r\n",
        "\r\n",
        "        # Hitung skor train metrics\r\n",
        "        list_hyp_train += batch_hyp\r\n",
        "        list_label += batch_label\r\n",
        "\r\n",
        "        train_pbar.set_description(\"(Epoch {}) TRAIN LOSS:{:.4f} LR:{:.8f}\".format((epoch+1),\r\n",
        "            total_train_loss/(i+1), get_lr(optimizer)))\r\n",
        "\r\n",
        "    metrics = document_sentiment_metrics_fn(list_hyp_train, list_label)\r\n",
        "    print(\"(Epoch {}) TRAIN LOSS:{:.4f} {} LR:{:.8f}\".format((epoch+1),\r\n",
        "        total_train_loss/(i+1), metrics_to_string(metrics), get_lr(optimizer)))\r\n",
        "\r\n",
        "    # Evaluate di validation set\r\n",
        "    model.eval()\r\n",
        "    torch.set_grad_enabled(False)\r\n",
        "    \r\n",
        "    total_loss, total_correct, total_labels = 0, 0, 0\r\n",
        "    list_hyp, list_label = [], []\r\n",
        "\r\n",
        "    pbar = tqdm(valid_loader, leave=True, total=len(valid_loader))\r\n",
        "    for i, batch_data in enumerate(pbar):\r\n",
        "        batch_seq = batch_data[-1]        \r\n",
        "        loss, batch_hyp, batch_label = forward_sequence_classification(model, batch_data[:-1], i2w=i2w, device='cuda')\r\n",
        "        \r\n",
        "        # Hitung total loss\r\n",
        "        valid_loss = loss.item()\r\n",
        "        total_loss = total_loss + valid_loss\r\n",
        "\r\n",
        "        # Hitung skor evaluation metrics\r\n",
        "        list_hyp += batch_hyp\r\n",
        "        list_label += batch_label\r\n",
        "        metrics = document_sentiment_metrics_fn(list_hyp, list_label)\r\n",
        "\r\n",
        "        pbar.set_description(\"VALID LOSS:{:.4f} {}\".format(total_loss/(i+1), metrics_to_string(metrics)))\r\n",
        "        \r\n",
        "    metrics = document_sentiment_metrics_fn(list_hyp, list_label)\r\n",
        "    print(\"(Epoch {}) VALID LOSS:{:.4f} {}\".format((epoch+1),\r\n",
        "        total_loss/(i+1), metrics_to_string(metrics)))\r\n",
        "    "
      ],
      "execution_count": null,
      "outputs": []
    },
    {
      "cell_type": "markdown",
      "metadata": {
        "id": "n_R-pd3pEb-K"
      },
      "source": [
        "### Download Hasil Prediksi Validation Set"
      ]
    },
    {
      "cell_type": "code",
      "metadata": {
        "id": "DqVWmiT5Eb-K"
      },
      "source": [
        "# Hasil Validasi\r\n",
        "val_df = pd.read_csv(valid_dataset_path)\r\n",
        "val_df['pred'] = list_hyp\r\n",
        "val_df.head()\r\n",
        "val_df.to_csv('val result v1.csv', index=False)"
      ],
      "execution_count": null,
      "outputs": []
    },
    {
      "cell_type": "markdown",
      "metadata": {
        "id": "aEn48vUXEb-K"
      },
      "source": [
        "### Prediksi Test Set"
      ]
    },
    {
      "cell_type": "code",
      "metadata": {
        "id": "7Gn605_bEb-K"
      },
      "source": [
        "# Prediksi test set\r\n",
        "model.eval()\r\n",
        "torch.set_grad_enabled(False)\r\n",
        "\r\n",
        "total_loss, total_correct, total_labels = 0, 0, 0\r\n",
        "pred, list_label = [], []\r\n",
        "\r\n",
        "pbar = tqdm(test_loader, leave=True, total=len(test_loader))\r\n",
        "for i, batch_data in enumerate(pbar):\r\n",
        "    _, batch_hyp, _ = forward_sequence_classification(model, batch_data[:-1], i2w=i2w, device='cuda')\r\n",
        "    pred += batch_hyp\r\n",
        "\r\n",
        "# Simpan prediksi\r\n",
        "df = pd.read_csv('sample_submission.csv')\r\n",
        "df['category'] = pred\r\n",
        "df.to_csv('sub v1.csv', index=False)\r\n",
        "\r\n",
        "print(df)"
      ],
      "execution_count": null,
      "outputs": []
    },
    {
      "cell_type": "markdown",
      "metadata": {
        "id": "wnwYVIR6FQdm"
      },
      "source": [
        "## Finetuning IndoBERT Dataset Preprocessing V2\r\n"
      ]
    },
    {
      "cell_type": "code",
      "metadata": {
        "id": "JuB0FADSFQdp"
      },
      "source": [
        "###\r\n",
        "# common functions\r\n",
        "###\r\n",
        "def set_seed(seed):\r\n",
        "    random.seed(seed)\r\n",
        "    np.random.seed(seed)\r\n",
        "    torch.manual_seed(seed)\r\n",
        "    torch.cuda.manual_seed(seed)\r\n",
        "    \r\n",
        "def count_param(module, trainable=False):\r\n",
        "    if trainable:\r\n",
        "        return sum(p.numel() for p in module.parameters() if p.requires_grad)\r\n",
        "    else:\r\n",
        "        return sum(p.numel() for p in module.parameters())\r\n",
        "    \r\n",
        "def get_lr(optimizer):\r\n",
        "    for param_group in optimizer.param_groups:\r\n",
        "        return param_group['lr']\r\n",
        "\r\n",
        "def metrics_to_string(metric_dict):\r\n",
        "    string_list = []\r\n",
        "    for key, value in metric_dict.items():\r\n",
        "        string_list.append('{}:{:.5f}'.format(key, value))\r\n",
        "    return ' '.join(string_list)"
      ],
      "execution_count": null,
      "outputs": []
    },
    {
      "cell_type": "code",
      "metadata": {
        "id": "HEzDoIzmFQdq"
      },
      "source": [
        "# Set random seed\r\n",
        "set_seed(27)"
      ],
      "execution_count": null,
      "outputs": []
    },
    {
      "cell_type": "markdown",
      "metadata": {
        "id": "7sAXIL4AFQdq"
      },
      "source": [
        "### Load Model"
      ]
    },
    {
      "cell_type": "code",
      "metadata": {
        "id": "am-VRKuNFQdq"
      },
      "source": [
        "# Load Tokenizer and Config\r\n",
        "tokenizer = BertTokenizer.from_pretrained('indobenchmark/indobert-large-p1')\r\n",
        "config = BertConfig.from_pretrained('indobenchmark/indobert-large-p1')\r\n",
        "config.num_labels = DocumentSentimentDataset.NUM_LABELS # 2 labels\r\n",
        "\r\n",
        "# Instantiate model\r\n",
        "model = BertForSequenceClassification.from_pretrained('indobenchmark/indobert-large-p1', config=config)"
      ],
      "execution_count": null,
      "outputs": []
    },
    {
      "cell_type": "code",
      "metadata": {
        "id": "XUFNdVJcFQdq"
      },
      "source": [
        "# Struktur model\r\n",
        "model"
      ],
      "execution_count": null,
      "outputs": []
    },
    {
      "cell_type": "code",
      "metadata": {
        "id": "-QaF4EHfFQdq"
      },
      "source": [
        "# Hitung jumlah parameter modal\r\n",
        "count_param(model)"
      ],
      "execution_count": null,
      "outputs": []
    },
    {
      "cell_type": "markdown",
      "metadata": {
        "id": "0rcBa6HMFQdq"
      },
      "source": [
        "### Persiapan Dataset"
      ]
    },
    {
      "cell_type": "code",
      "metadata": {
        "id": "m5wCclCNFQdq"
      },
      "source": [
        "train_dataset_path = '/content/train_v2.csv'\r\n",
        "valid_dataset_path = '/content/val_v2.csv'\r\n",
        "test_dataset_path = '/content/test_v2.csv'"
      ],
      "execution_count": null,
      "outputs": []
    },
    {
      "cell_type": "code",
      "metadata": {
        "id": "YPT9xX03FQdr"
      },
      "source": [
        "#fungsi dataset loader dari utils IndoNLU\r\n",
        "train_dataset = DocumentSentimentDataset(train_dataset_path, tokenizer, lowercase=True)\r\n",
        "valid_dataset = DocumentSentimentDataset(valid_dataset_path, tokenizer, lowercase=True)\r\n",
        "test_dataset = DocumentSentimentDataset(test_dataset_path, tokenizer, lowercase=True)\r\n",
        "\r\n",
        "train_loader = DocumentSentimentDataLoader(dataset=train_dataset, max_seq_len=512, batch_size=16, num_workers=16, shuffle=True)  \r\n",
        "valid_loader = DocumentSentimentDataLoader(dataset=valid_dataset, max_seq_len=512, batch_size=16, num_workers=16, shuffle=False)  \r\n",
        "test_loader = DocumentSentimentDataLoader(dataset=test_dataset, max_seq_len=512, batch_size=16, num_workers=16, shuffle=False)"
      ],
      "execution_count": null,
      "outputs": []
    },
    {
      "cell_type": "code",
      "metadata": {
        "id": "MnM_1FYcFQdr"
      },
      "source": [
        "w2i, i2w = DocumentSentimentDataset.LABEL2INDEX, DocumentSentimentDataset.INDEX2LABEL\r\n",
        "print(w2i) #word to index\r\n",
        "print(i2w) #index to word"
      ],
      "execution_count": null,
      "outputs": []
    },
    {
      "cell_type": "markdown",
      "metadata": {
        "id": "gWcmLgTTFQdr"
      },
      "source": [
        "### Uji coba pre-trained model"
      ]
    },
    {
      "cell_type": "code",
      "metadata": {
        "id": "YeD0X4PmFQdr"
      },
      "source": [
        "text = 'Kamarnya nyaman, bersih, pelayanannya bagus.'\r\n",
        "subwords = tokenizer.encode(text)\r\n",
        "subwords = torch.LongTensor(subwords).view(1, -1).to(model.device)\r\n",
        "\r\n",
        "logits = model(subwords)[0]\r\n",
        "label = torch.topk(logits, k=1, dim=-1)[1].squeeze().item()\r\n",
        "\r\n",
        "print(f'Text: {text} | Label : {i2w[label]} ({F.softmax(logits, dim=-1).squeeze()[label] * 100:.3f}%)')"
      ],
      "execution_count": null,
      "outputs": []
    },
    {
      "cell_type": "markdown",
      "metadata": {
        "id": "0TE-1ddFFQdr"
      },
      "source": [
        "### Finetuning IndoBERT"
      ]
    },
    {
      "cell_type": "code",
      "metadata": {
        "id": "Ecrdltc2FQdr"
      },
      "source": [
        "# Tentukan optimizer\r\n",
        "optimizer = optim.Adam(model.parameters(), lr=3e-6)\r\n",
        "model = model.cuda()"
      ],
      "execution_count": null,
      "outputs": []
    },
    {
      "cell_type": "code",
      "metadata": {
        "id": "hoSp4IbHFQdr"
      },
      "source": [
        "# Train\r\n",
        "n_epochs = 3\r\n",
        "for epoch in range(n_epochs):\r\n",
        "    model.train()\r\n",
        "    torch.set_grad_enabled(True)\r\n",
        " \r\n",
        "    total_train_loss = 0\r\n",
        "    list_hyp_train, list_label = [], []\r\n",
        "\r\n",
        "    train_pbar = tqdm(train_loader, leave=True, total=len(train_loader))\r\n",
        "    for i, batch_data in enumerate(train_pbar):\r\n",
        "        # Forward model\r\n",
        "        loss, batch_hyp, batch_label = forward_sequence_classification(model, batch_data[:-1], i2w=i2w, device='cuda')\r\n",
        "\r\n",
        "        # Update model\r\n",
        "        optimizer.zero_grad()\r\n",
        "        loss.backward()\r\n",
        "        optimizer.step()\r\n",
        "\r\n",
        "        tr_loss = loss.item()\r\n",
        "        total_train_loss = total_train_loss + tr_loss\r\n",
        "\r\n",
        "        # Hitung skor train metrics\r\n",
        "        list_hyp_train += batch_hyp\r\n",
        "        list_label += batch_label\r\n",
        "\r\n",
        "        train_pbar.set_description(\"(Epoch {}) TRAIN LOSS:{:.4f} LR:{:.8f}\".format((epoch+1),\r\n",
        "            total_train_loss/(i+1), get_lr(optimizer)))\r\n",
        "\r\n",
        "    metrics = document_sentiment_metrics_fn(list_hyp_train, list_label)\r\n",
        "    print(\"(Epoch {}) TRAIN LOSS:{:.4f} {} LR:{:.8f}\".format((epoch+1),\r\n",
        "        total_train_loss/(i+1), metrics_to_string(metrics), get_lr(optimizer)))\r\n",
        "\r\n",
        "    # Evaluate di validation set\r\n",
        "    model.eval()\r\n",
        "    torch.set_grad_enabled(False)\r\n",
        "    \r\n",
        "    total_loss, total_correct, total_labels = 0, 0, 0\r\n",
        "    list_hyp, list_label = [], []\r\n",
        "\r\n",
        "    pbar = tqdm(valid_loader, leave=True, total=len(valid_loader))\r\n",
        "    for i, batch_data in enumerate(pbar):\r\n",
        "        batch_seq = batch_data[-1]        \r\n",
        "        loss, batch_hyp, batch_label = forward_sequence_classification(model, batch_data[:-1], i2w=i2w, device='cuda')\r\n",
        "        \r\n",
        "        # Hitung total loss\r\n",
        "        valid_loss = loss.item()\r\n",
        "        total_loss = total_loss + valid_loss\r\n",
        "\r\n",
        "        # Hitung skor evaluation metrics\r\n",
        "        list_hyp += batch_hyp\r\n",
        "        list_label += batch_label\r\n",
        "        metrics = document_sentiment_metrics_fn(list_hyp, list_label)\r\n",
        "\r\n",
        "        pbar.set_description(\"VALID LOSS:{:.4f} {}\".format(total_loss/(i+1), metrics_to_string(metrics)))\r\n",
        "        \r\n",
        "    metrics = document_sentiment_metrics_fn(list_hyp, list_label)\r\n",
        "    print(\"(Epoch {}) VALID LOSS:{:.4f} {}\".format((epoch+1),\r\n",
        "        total_loss/(i+1), metrics_to_string(metrics)))\r\n",
        "    "
      ],
      "execution_count": null,
      "outputs": []
    },
    {
      "cell_type": "markdown",
      "metadata": {
        "id": "C7heuc0OFQdr"
      },
      "source": [
        "### Download Hasil Prediksi Validation Set"
      ]
    },
    {
      "cell_type": "code",
      "metadata": {
        "id": "-CWPw2GdFQds"
      },
      "source": [
        "# Hasil Validasi\r\n",
        "val_df = pd.read_csv(valid_dataset_path)\r\n",
        "val_df['pred'] = list_hyp\r\n",
        "val_df.head()\r\n",
        "val_df.to_csv('val result v2.csv', index=False)"
      ],
      "execution_count": null,
      "outputs": []
    },
    {
      "cell_type": "markdown",
      "metadata": {
        "id": "Yn9_SXp4FQds"
      },
      "source": [
        "### Prediksi Test Set"
      ]
    },
    {
      "cell_type": "code",
      "metadata": {
        "id": "gNC2FvWBFQds"
      },
      "source": [
        "# Prediksi test set\r\n",
        "model.eval()\r\n",
        "torch.set_grad_enabled(False)\r\n",
        "\r\n",
        "total_loss, total_correct, total_labels = 0, 0, 0\r\n",
        "pred, list_label = [], []\r\n",
        "\r\n",
        "pbar = tqdm(test_loader, leave=True, total=len(test_loader))\r\n",
        "for i, batch_data in enumerate(pbar):\r\n",
        "    _, batch_hyp, _ = forward_sequence_classification(model, batch_data[:-1], i2w=i2w, device='cuda')\r\n",
        "    pred += batch_hyp\r\n",
        "\r\n",
        "# Simpan prediksi\r\n",
        "df = pd.read_csv('sample_submission.csv')\r\n",
        "df['category'] = pred\r\n",
        "df.to_csv('sub v2.csv', index=False)\r\n",
        "\r\n",
        "print(df)"
      ],
      "execution_count": null,
      "outputs": []
    },
    {
      "cell_type": "markdown",
      "metadata": {
        "id": "RX_8wxGgFe69"
      },
      "source": [
        "## Ensemble Model (Blending)"
      ]
    },
    {
      "cell_type": "markdown",
      "metadata": {
        "id": "3xjKV_-FGvW-"
      },
      "source": [
        "### Persiapan Dataset"
      ]
    },
    {
      "cell_type": "code",
      "metadata": {
        "id": "-RkhMYOgFp0F"
      },
      "source": [
        "val_1 = pd.read_csv('val result original.csv')\r\n",
        "val_2 = pd.read_csv('val result v1.csv')\r\n",
        "val_3 = pd.read_csv('val result v2.csv')\r\n",
        "\r\n",
        "sub_1 = pd.read_csv('sub original.csv')\r\n",
        "sub_2 = pd.read_csv('sub v1.csv')\r\n",
        "sub_3 = pd.read_csv('sub v2.csv')"
      ],
      "execution_count": null,
      "outputs": []
    },
    {
      "cell_type": "code",
      "metadata": {
        "id": "e5B8-Jz3GLc1"
      },
      "source": [
        "# Cek apa label sama semua\r\n",
        "any(val_1['category'] != val_2['category'])\r\n",
        "# any(val_1['category'] != val_3['category'])\r\n",
        "# any(val_2['category'] != val_3['category'])"
      ],
      "execution_count": null,
      "outputs": []
    },
    {
      "cell_type": "code",
      "metadata": {
        "id": "g1B0zMoOGXhK"
      },
      "source": [
        "# Gabungkan data\r\n",
        "val_comb = pd.concat([val_1['pred'], val_2['pred'],val_3['pred']], axis=1)\r\n",
        "val_comb.columns = ['pred1','pred2', 'pred3']\r\n",
        "\r\n",
        "sub_comb = pd.concat([sub_1['category'], sub_2['category'], sub_3['category']], axis=1)\r\n",
        "sub_comb.columns = ['pred1','pred2', 'pred3']\r\n",
        "\r\n",
        "sub_comb"
      ],
      "execution_count": null,
      "outputs": []
    },
    {
      "cell_type": "code",
      "metadata": {
        "id": "WmDFFigPHCBO"
      },
      "source": [
        "y_val = val_1['category']"
      ],
      "execution_count": null,
      "outputs": []
    },
    {
      "cell_type": "markdown",
      "metadata": {
        "id": "_aqSPlVFG3ye"
      },
      "source": [
        "### Blending"
      ]
    },
    {
      "cell_type": "code",
      "metadata": {
        "id": "-X279t0tGzzG"
      },
      "source": [
        "blend = XGBClassifier(objective='binary:logistic', eval_metric='error', seed=27,\r\n",
        "                      use_label_encoder=False)\r\n",
        "blend.fit(val_comb, y_val)"
      ],
      "execution_count": null,
      "outputs": []
    },
    {
      "cell_type": "markdown",
      "metadata": {
        "id": "FfeZNonWHsUA"
      },
      "source": [
        "# Validation"
      ]
    },
    {
      "cell_type": "markdown",
      "metadata": {
        "id": "3EVHEg9AH4AX"
      },
      "source": [
        "## Cross Validation"
      ]
    },
    {
      "cell_type": "code",
      "metadata": {
        "id": "qJZSyx0DHuzo"
      },
      "source": [
        "cv = RepeatedKFold(n_splits=5, n_repeats=5, random_state=27)\r\n",
        "\r\n",
        "acc = cross_val_score(blend, val_comb, y_val, scoring='accuracy', cv=cv, n_jobs=-1)\r\n",
        "print('Accuracy: %.5f (%.5f)' % (np.mean(acc), np.std(acc)))\r\n",
        "\r\n",
        "f1 = cross_val_score(blend, val_comb, y_val, scoring='f1_macro', cv=cv, n_jobs=-1)\r\n",
        "print('F1 macro: %.5f (%.5f)' % (np.mean(f1), np.std(f1)))"
      ],
      "execution_count": null,
      "outputs": []
    },
    {
      "cell_type": "code",
      "metadata": {
        "id": "yG-5oRE_IBfB"
      },
      "source": [
        "cv = KFold(n_splits=5, random_state=27, shuffle=True)\r\n",
        "val_pred = cross_val_predict(blend, val_comb, y_val, cv=cv)\r\n",
        "conf_mat = confusion_matrix(y_val, val_pred)\r\n",
        "plt.figure(figsize=(10,6))\r\n",
        "sns.heatmap(conf_mat, annot=True,annot_kws={\"size\": 24})"
      ],
      "execution_count": null,
      "outputs": []
    },
    {
      "cell_type": "markdown",
      "metadata": {
        "id": "DIcqPBgVIZ92"
      },
      "source": [
        "## Prediksi Test Set Final"
      ]
    },
    {
      "cell_type": "code",
      "metadata": {
        "id": "JF84Sqs3Idli"
      },
      "source": [
        "blend_pred = model.predict(sub_comb)\r\n",
        "pd.Series(blend_pred).value_counts()"
      ],
      "execution_count": null,
      "outputs": []
    },
    {
      "cell_type": "code",
      "metadata": {
        "id": "y52H0U9XIt3G"
      },
      "source": [
        "submission = pd.read_csv('sample_submission.csv')\r\n",
        "submission['category'] = blend_pred\r\n",
        "submission.to_csv('submission ELSIX.csv', index=False)"
      ],
      "execution_count": null,
      "outputs": []
    }
  ]
}